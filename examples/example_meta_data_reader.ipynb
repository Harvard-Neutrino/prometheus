{
 "cells": [
  {
   "cell_type": "code",
   "execution_count": 1,
   "metadata": {},
   "outputs": [],
   "source": [
    "# example_meta_data_reader.ipynb\n",
    "# Authors: Stephan Meighen-Berger\n",
    "# Shows how to deal with the output files"
   ]
  },
  {
   "cell_type": "code",
   "execution_count": 2,
   "metadata": {},
   "outputs": [],
   "source": [
    "import awkward as ak\n",
    "import pyarrow.parquet as pq"
   ]
  },
  {
   "cell_type": "code",
   "execution_count": 3,
   "metadata": {},
   "outputs": [],
   "source": [
    "example_set = ak.from_parquet('./output/custom_1330_meta_data.parquet')"
   ]
  },
  {
   "cell_type": "code",
   "execution_count": 4,
   "metadata": {},
   "outputs": [
    {
     "data": {
      "text/plain": [
       "['event_id', 'mc_truth', 'lepton', 'hadron', 'total']"
      ]
     },
     "execution_count": 4,
     "metadata": {},
     "output_type": "execute_result"
    }
   ],
   "source": [
    "example_set.fields"
   ]
  },
  {
   "cell_type": "code",
   "execution_count": 5,
   "metadata": {},
   "outputs": [
    {
     "data": {
      "text/plain": [
       "<Array [13, 13, 13, 13, 13, ... 13, 13, 13, 13] type='20 * int32'>"
      ]
     },
     "execution_count": 5,
     "metadata": {},
     "output_type": "execute_result"
    }
   ],
   "source": [
    "example_set.mc_truth.lepton_type"
   ]
  },
  {
   "cell_type": "code",
   "execution_count": 6,
   "metadata": {},
   "outputs": [
    {
     "data": {
      "text/plain": [
       "<Array [223, 196, 184, ... -281, 278, -70.4] type='20 * float64'>"
      ]
     },
     "execution_count": 6,
     "metadata": {},
     "output_type": "execute_result"
    }
   ],
   "source": [
    "example_set.mc_truth.lepton_position_x"
   ]
  },
  {
   "cell_type": "code",
   "execution_count": 7,
   "metadata": {},
   "outputs": [
    {
     "data": {
      "text/plain": [
       "<Array [0, 1, 2, 3, 4, ... 15, 16, 17, 18, 19] type='20 * int64'>"
      ]
     },
     "execution_count": 7,
     "metadata": {},
     "output_type": "execute_result"
    }
   ],
   "source": [
    "example_set.event_id"
   ]
  },
  {
   "cell_type": "code",
   "execution_count": 8,
   "metadata": {},
   "outputs": [
    {
     "data": {
      "text/plain": [
       "['sensor_id',\n",
       " 'sensor_pos_x',\n",
       " 'sensor_pos_y',\n",
       " 'sensor_pos_z',\n",
       " 'sensor_string_id',\n",
       " 't']"
      ]
     },
     "execution_count": 8,
     "metadata": {},
     "output_type": "execute_result"
    }
   ],
   "source": [
    "# The events are split into three parts:\n",
    "#   - lepton: the light from the generated lepton\n",
    "#   - hadron: the light produced from the associated hadronic cascade (at production point)\n",
    "#   - total: the light from both parts\n",
    "# Each of these fields is formatted the same way\n",
    "example_set.total.fields"
   ]
  },
  {
   "cell_type": "code",
   "execution_count": 9,
   "metadata": {},
   "outputs": [
    {
     "name": "stdout",
     "output_type": "stream",
     "text": [
      "Total number of hits:\n",
      "29\n",
      "The hit sensors: \n",
      "[693, 793, 1126, 1547, 1561, 2122, 2261, ... 2194, 2411, 2645, 2878, 3046, 3154]\n",
      "Their associated strings\n",
      "[31, 36, 51, 70, 70, 96, 102, 104, 112, ... 75, 83, 83, 99, 109, 120, 130, 138, 143]\n",
      "The hit times\n",
      "[1.22e+03, 892, 1.08e+03, 730, 1.29e+03, 697, ... 801, 697, 868, 738, 600, 825]\n"
     ]
    }
   ],
   "source": [
    "# Example for one event\n",
    "event_id = 1\n",
    "# The sensors hit\n",
    "print(\"Total number of hits:\")\n",
    "print(len(example_set.total.sensor_id[event_id]))\n",
    "print('The hit sensors: ')\n",
    "print(example_set.total.sensor_id[event_id])\n",
    "print('Their associated strings')\n",
    "print(example_set.total.sensor_string_id[event_id])\n",
    "print('The hit times')\n",
    "print(example_set.total.t[event_id])"
   ]
  },
  {
   "cell_type": "code",
   "execution_count": null,
   "metadata": {},
   "outputs": [],
   "source": []
  },
  {
   "cell_type": "code",
   "execution_count": null,
   "metadata": {},
   "outputs": [],
   "source": []
  }
 ],
 "metadata": {
  "kernelspec": {
   "display_name": "Python 3.10.4 ('prom_test')",
   "language": "python",
   "name": "python3"
  },
  "language_info": {
   "codemirror_mode": {
    "name": "ipython",
    "version": 3
   },
   "file_extension": ".py",
   "mimetype": "text/x-python",
   "name": "python",
   "nbconvert_exporter": "python",
   "pygments_lexer": "ipython3",
   "version": "3.10.4"
  },
  "orig_nbformat": 4,
  "vscode": {
   "interpreter": {
    "hash": "138e18fe3226631f107cbb691715dbaa288f9b6d8cfade5cfbd0f78c522c7d52"
   }
  }
 },
 "nbformat": 4,
 "nbformat_minor": 2
}
