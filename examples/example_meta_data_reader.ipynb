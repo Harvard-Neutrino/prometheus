{
 "cells": [
  {
   "cell_type": "code",
   "execution_count": 1,
   "metadata": {},
   "outputs": [],
   "source": [
    "# example_meta_data_reader.ipynb\n",
    "# Authors: Stephan Meighen-Berger\n",
    "# Shows how to deal with the output files"
   ]
  },
  {
   "cell_type": "code",
   "execution_count": 2,
   "metadata": {},
   "outputs": [],
   "source": [
    "%matplotlib qt\n",
    "import awkward as ak\n",
    "import numpy as np\n",
    "import matplotlib.pyplot as plt\n",
    "import h5py\n"
   ]
  },
  {
   "cell_type": "code",
   "execution_count": 3,
   "metadata": {},
   "outputs": [],
   "source": [
    "example_set = ak.from_parquet('./output/custom_1337_meta_data.parquet')"
   ]
  },
  {
   "cell_type": "code",
   "execution_count": 4,
   "metadata": {},
   "outputs": [
    {
     "data": {
      "text/plain": [
       "['event_id', 'mc_truth', 'primary_lepton_1', 'primary_hadron_1', 'total']"
      ]
     },
     "execution_count": 4,
     "metadata": {},
     "output_type": "execute_result"
    }
   ],
   "source": [
    "example_set.fields"
   ]
  },
  {
   "cell_type": "code",
   "execution_count": 5,
   "metadata": {},
   "outputs": [
    {
     "data": {
      "text/plain": [
       "['injection_energy',\n",
       " 'injection_type',\n",
       " 'injection_interaction_type',\n",
       " 'injection_zenith',\n",
       " 'injection_azimuth',\n",
       " 'injection_bjorkenx',\n",
       " 'injection_bjorkeny',\n",
       " 'injection_position_x',\n",
       " 'injection_position_y',\n",
       " 'injection_position_z',\n",
       " 'injection_column_depth',\n",
       " 'primary_lepton_1_type',\n",
       " 'primary_hadron_1_type',\n",
       " 'primary_lepton_1_position_x',\n",
       " 'primary_lepton_1_position_y',\n",
       " 'primary_lepton_1_position_z',\n",
       " 'primary_hadron_1_position_x',\n",
       " 'primary_hadron_1_position_y',\n",
       " 'primary_hadron_1_position_z',\n",
       " 'primary_lepton_1_direction_theta',\n",
       " 'primary_lepton_1_direction_phi',\n",
       " 'primary_hadron_1_direction_theta',\n",
       " 'primary_hadron_1_direction_phi',\n",
       " 'primary_lepton_1_energy',\n",
       " 'primary_hadron_1_energy',\n",
       " 'total_energy']"
      ]
     },
     "execution_count": 5,
     "metadata": {},
     "output_type": "execute_result"
    }
   ],
   "source": [
    "example_set.mc_truth.fields"
   ]
  },
  {
   "cell_type": "code",
   "execution_count": 6,
   "metadata": {},
   "outputs": [
    {
     "data": {
      "text/plain": [
       "['sensor_id',\n",
       " 'sensor_pos_x',\n",
       " 'sensor_pos_y',\n",
       " 'sensor_pos_z',\n",
       " 'sensor_string_id',\n",
       " 't']"
      ]
     },
     "execution_count": 6,
     "metadata": {},
     "output_type": "execute_result"
    }
   ],
   "source": [
    "example_set.total.fields"
   ]
  },
  {
   "cell_type": "code",
   "execution_count": 7,
   "metadata": {},
   "outputs": [
    {
     "name": "stdout",
     "output_type": "stream",
     "text": [
      "injection_energy\n",
      "[1.14e+04, 4.7e+04, 1.18e+04, 1.63e+04, ... 2.53e+04, 1.75e+04, 1.76e+04, 6.35e+04]\n",
      "injection_type\n",
      "[14, 14, 14, 14, 14, 14, 14, 14, 14, 14]\n",
      "injection_interaction_type\n",
      "[1, 1, 1, 1, 1, 1, 1, 1, 1, 1]\n",
      "injection_zenith\n",
      "[2.35, 1.61, 2.25, 1.79, 1.44, 1.64, 2.49, 1.76, 2.21, 2.27]\n",
      "injection_azimuth\n",
      "[4.93, 1.39, 3.37, 3.15, 5.68, 2.05, 4.54, 4.89, 5.59, 0.749]\n",
      "injection_bjorkenx\n",
      "[0.198, 0.218, 0.218, 0.36, 0.515, 0.0629, 0.0929, 0.00781, 0.0238, 0.0475]\n",
      "injection_bjorkeny\n",
      "[0.198, 0.218, 0.218, 0.36, 0.515, 0.0629, 0.0929, 0.00781, 0.0238, 0.0475]\n",
      "injection_position_x\n",
      "[-80.5, -37.8, 95.3, -25.1, 124, -46.6, 110, -127, -66.7, 81]\n",
      "injection_position_y\n",
      "[100, -104, -29, 87.5, 47, -96.3, 30.1, -4.83, 96.6, 125]\n",
      "injection_position_z\n",
      "[111, 171, -172, 129, -49.4, 127, -8.17, -84.1, 44.6, 143]\n",
      "injection_column_depth\n",
      "[3.61e+04, 2.75e+04, 1.07e+04, 2.3e+04, ... 3.14e+04, 1.53e+04, 3.37e+04, 8.33e+03]\n",
      "primary_lepton_1_type\n",
      "[13, 13, 13, 13, 13, 13, 13, 13, 13, 13]\n",
      "primary_hadron_1_type\n",
      "[-2000001006, -2000001006, -2000001006, ... -2000001006, -2000001006, -2000001006]\n",
      "primary_lepton_1_position_x\n",
      "[-80.5, -37.8, 95.3, -25.1, 124, -46.6, 110, -127, -66.7, 81]\n",
      "primary_lepton_1_position_y\n",
      "[100, -104, -29, 87.5, 47, -96.3, 30.1, -4.83, 96.6, 125]\n",
      "primary_lepton_1_position_z\n",
      "[111, 171, -172, 129, -49.4, 127, -8.17, -84.1, 44.6, 143]\n",
      "primary_hadron_1_position_x\n",
      "[-80.5, -37.8, 95.3, -25.1, 124, -46.6, 110, -127, -66.7, 81]\n",
      "primary_hadron_1_position_y\n",
      "[100, -104, -29, 87.5, 47, -96.3, 30.1, -4.83, 96.6, 125]\n",
      "primary_hadron_1_position_z\n",
      "[111, 171, -172, 129, -49.4, 127, -8.17, -84.1, 44.6, 143]\n",
      "primary_lepton_1_direction_theta\n",
      "[2.37, 1.61, 2.25, 1.79, 1.44, 1.65, 2.49, 1.76, 2.21, 2.27]\n",
      "primary_lepton_1_direction_phi\n",
      "[-1.34, 1.39, -2.9, 3.14, -0.611, 2.05, -1.74, -1.39, -0.693, 0.75]\n",
      "primary_hadron_1_direction_theta\n",
      "[2.35, 1.61, 2.25, 1.79, 1.43, 1.64, 2.5, 1.76, 2.21, 2.27]\n",
      "primary_hadron_1_direction_phi\n",
      "[-1.35, 1.38, -2.92, -3.13, -0.596, 2.04, -1.74, -1.39, -0.7, 0.747]\n",
      "primary_lepton_1_energy\n",
      "[648, 4.45e+04, 8.31e+03, 9.66e+03, ... 2.14e+04, 7.08e+03, 1.61e+04, 4.3e+04]\n",
      "primary_hadron_1_energy\n",
      "[1.07e+04, 2.53e+03, 3.46e+03, 6.69e+03, ... 3.88e+03, 1.04e+04, 1.55e+03, 2.04e+04]\n",
      "total_energy\n",
      "[1.14e+04, 4.7e+04, 1.18e+04, 1.63e+04, ... 2.53e+04, 1.75e+04, 1.76e+04, 6.35e+04]\n"
     ]
    }
   ],
   "source": [
    "for field in example_set.mc_truth.fields:\n",
    "    print(field)\n",
    "    print(example_set.mc_truth[field])"
   ]
  },
  {
   "cell_type": "code",
   "execution_count": 8,
   "metadata": {},
   "outputs": [
    {
     "data": {
      "text/plain": [
       "['sensor_id',\n",
       " 'sensor_pos_x',\n",
       " 'sensor_pos_y',\n",
       " 'sensor_pos_z',\n",
       " 'sensor_string_id',\n",
       " 't',\n",
       " 'loss_pos_x',\n",
       " 'loss_pos_y',\n",
       " 'loss_pos_z',\n",
       " 'loss_n_photons']"
      ]
     },
     "execution_count": 8,
     "metadata": {},
     "output_type": "execute_result"
    }
   ],
   "source": [
    "example_set.primary_hadron_1.fields"
   ]
  },
  {
   "cell_type": "code",
   "execution_count": 9,
   "metadata": {},
   "outputs": [
    {
     "data": {
      "text/plain": [
       "<Array [-80.5, -37.8, 95.3, ... -66.7, 81] type='10 * float64'>"
      ]
     },
     "execution_count": 9,
     "metadata": {},
     "output_type": "execute_result"
    }
   ],
   "source": [
    "example_set.mc_truth.primary_lepton_1_position_x"
   ]
  },
  {
   "cell_type": "code",
   "execution_count": 10,
   "metadata": {},
   "outputs": [
    {
     "data": {
      "text/plain": [
       "<Array [0, 1, 2, 3, 4, 5, 6, 7, 8, 9] type='10 * int64'>"
      ]
     },
     "execution_count": 10,
     "metadata": {},
     "output_type": "execute_result"
    }
   ],
   "source": [
    "example_set.event_id"
   ]
  },
  {
   "cell_type": "code",
   "execution_count": 11,
   "metadata": {},
   "outputs": [
    {
     "data": {
      "text/plain": [
       "['event_id', 'mc_truth', 'primary_lepton_1', 'primary_hadron_1', 'total']"
      ]
     },
     "execution_count": 11,
     "metadata": {},
     "output_type": "execute_result"
    }
   ],
   "source": [
    "# The events are split into three parts:\n",
    "#   - lepton: the light from the generated lepton\n",
    "#   - hadron: the light produced from the associated hadronic cascade (at production point)\n",
    "#   - total: the light from both parts\n",
    "# Each of these fields is formatted the same way\n",
    "example_set.fields"
   ]
  },
  {
   "cell_type": "code",
   "execution_count": 12,
   "metadata": {},
   "outputs": [
    {
     "name": "stdout",
     "output_type": "stream",
     "text": [
      "Total number of hits:\n",
      "1150\n",
      "The hit sensors: \n",
      "[9, 9, 9, 9, 9, 9, 9, 9, 9, 9, 9, 9, ... 51, 51, 52, 52, 52, 52, 52, 52, 52, 53, 54]\n",
      "Their associated strings\n",
      "[0, 0, 0, 0, 0, 0, 0, 0, 0, 0, 0, 0, 0, 0, ... 2, 2, 2, 2, 2, 2, 2, 2, 2, 2, 2, 2, 2]\n",
      "The hit times\n",
      "[650, 650, 650, 651, 651, 650, 655, 651, ... 571, 433, 712, 433, 436, 964, 1.08e+03]\n"
     ]
    }
   ],
   "source": [
    "# Example for one event\n",
    "event_id = 0\n",
    "# The sensors hit\n",
    "print(\"Total number of hits:\")\n",
    "print(len(example_set.total.sensor_id[event_id]))\n",
    "print('The hit sensors: ')\n",
    "print(example_set.total.sensor_id[event_id])\n",
    "print('Their associated strings')\n",
    "print(example_set.total.sensor_string_id[event_id])\n",
    "print('The hit times')\n",
    "print(example_set.total.t[event_id])"
   ]
  },
  {
   "cell_type": "code",
   "execution_count": 13,
   "metadata": {},
   "outputs": [],
   "source": [
    "def paqruet_plotting(\n",
    "        data, e_id,\n",
    "        brightest_event=False,\n",
    "        channel='total',\n",
    "        show_lepton=True,\n",
    "        scaling=20\n",
    "    ):\n",
    "    try:\n",
    "        fig = plt.figure()\n",
    "        ax = fig.add_subplot(projection='3d')\n",
    "        hit_counts = []\n",
    "        if brightest_event:\n",
    "            for event in data[channel].sensor_pos_x:\n",
    "                hit_counts.append(len(event))\n",
    "            hit_counts = np.array(hit_counts)\n",
    "            event_id = np.argmax(hit_counts)\n",
    "            print('The brightest event has the id %d' % event_id)\n",
    "            print('The energy of the injected particle is %.1f' % data.mc_truth.injection_energy[event_id])\n",
    "        else:\n",
    "            event_id = e_id\n",
    "        sensor_comb = np.array([\n",
    "            [data[channel].sensor_pos_x[event_id][i],\n",
    "            data[channel].sensor_pos_y[event_id][i],\n",
    "            data[channel].sensor_pos_z[event_id][i]\n",
    "            ]\n",
    "            for i in range(len(data[channel].sensor_pos_x[event_id]))\n",
    "        ])\n",
    "        hit_doms, hit_counts = np.unique(sensor_comb, axis=0, return_counts=True)\n",
    "        ax.scatter(\n",
    "            hit_doms[:, 0],\n",
    "            hit_doms[:, 1],\n",
    "            hit_doms[:, 2],\n",
    "            s=(\n",
    "                hit_counts / max(hit_counts) * scaling\n",
    "            ),\n",
    "            color='r', alpha=0.5)\n",
    "        if show_lepton:\n",
    "            ax.scatter(\n",
    "                data.primary_lepton_1.loss_pos_x[event_id],\n",
    "                data.primary_lepton_1.loss_pos_y[event_id],\n",
    "                data.primary_lepton_1.loss_pos_z[event_id],\n",
    "                s=(\n",
    "                    data.primary_lepton_1.loss_n_photons[event_id] /\n",
    "                    max(data.primary_lepton_1.loss_n_photons[event_id]) *\n",
    "                    scaling\n",
    "                ),\n",
    "                color='blue', alpha=0.5)\n",
    "        # ax.set_xlim(min(hit_doms[:, 0]), max(hit_doms[:, 0]))\n",
    "        # ax.set_ylim(min(hit_doms[:, 1]), max(hit_doms[:, 1]))\n",
    "        # ax.set_zlim(min(hit_doms[:, 2]), max(hit_doms[:, 2]))\n",
    "        ax.set_xlabel('X [m]')\n",
    "        ax.set_ylabel('Y [m]')\n",
    "        ax.set_zlabel('Z [m]')\n",
    "        plt.title(\n",
    "            'Event %d with pdg id = %d and energy %.1f GeV' % (\n",
    "                event_id,\n",
    "                data.mc_truth.injection_type[event_id],\n",
    "                data.mc_truth.injection_energy[event_id]\n",
    "                )\n",
    "        )\n",
    "    except:\n",
    "        print('No hits found!')"
   ]
  },
  {
   "cell_type": "code",
   "execution_count": 14,
   "metadata": {},
   "outputs": [
    {
     "name": "stdout",
     "output_type": "stream",
     "text": [
      "The brightest event has the id 0\n",
      "The energy of the injected particle is 11371.1\n"
     ]
    }
   ],
   "source": [
    "paqruet_plotting(\n",
    "    example_set,\n",
    "    e_id=4,\n",
    "    brightest_event=True,\n",
    "    channel='total',\n",
    "    show_lepton=True,\n",
    "    scaling=100\n",
    ")"
   ]
  },
  {
   "cell_type": "code",
   "execution_count": null,
   "metadata": {},
   "outputs": [],
   "source": []
  }
 ],
 "metadata": {
  "kernelspec": {
   "display_name": "Python 3.10.4 ('prom_test')",
   "language": "python",
   "name": "python3"
  },
  "language_info": {
   "codemirror_mode": {
    "name": "ipython",
    "version": 3
   },
   "file_extension": ".py",
   "mimetype": "text/x-python",
   "name": "python",
   "nbconvert_exporter": "python",
   "pygments_lexer": "ipython3",
   "version": "3.10.4"
  },
  "orig_nbformat": 4,
  "vscode": {
   "interpreter": {
    "hash": "138e18fe3226631f107cbb691715dbaa288f9b6d8cfade5cfbd0f78c522c7d52"
   }
  }
 },
 "nbformat": 4,
 "nbformat_minor": 2
}
