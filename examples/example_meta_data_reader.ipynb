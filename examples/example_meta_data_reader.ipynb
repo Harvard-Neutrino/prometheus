{
 "cells": [
  {
   "cell_type": "code",
   "execution_count": 1,
   "metadata": {},
   "outputs": [],
   "source": [
    "# example_meta_data_reader.ipynb\n",
    "# Authors: Stephan Meighen-Berger\n",
    "# Shows how to deal with the output files"
   ]
  },
  {
   "cell_type": "code",
   "execution_count": 2,
   "metadata": {},
   "outputs": [],
   "source": [
    "%matplotlib qt\n",
    "import awkward as ak\n",
    "import numpy as np\n",
    "import matplotlib.pyplot as plt\n",
    "import h5py\n"
   ]
  },
  {
   "cell_type": "code",
   "execution_count": 3,
   "metadata": {},
   "outputs": [],
   "source": [
    "example_set = ak.from_parquet('./output/custom_1337_meta_data.parquet')"
   ]
  },
  {
   "cell_type": "code",
   "execution_count": 4,
   "metadata": {},
   "outputs": [
    {
     "data": {
      "text/plain": [
       "['event_id', 'mc_truth', 'primary_lepton_1', 'primary_hadron_1', 'total']"
      ]
     },
     "execution_count": 4,
     "metadata": {},
     "output_type": "execute_result"
    }
   ],
   "source": [
    "example_set.fields"
   ]
  },
  {
   "cell_type": "code",
   "execution_count": 5,
   "metadata": {},
   "outputs": [
    {
     "data": {
      "text/plain": [
       "['injection_energy',\n",
       " 'injection_type',\n",
       " 'injection_interaction_type',\n",
       " 'injection_zenith',\n",
       " 'injection_azimuth',\n",
       " 'injection_bjorkenx',\n",
       " 'injection_bjorkeny',\n",
       " 'injection_position_x',\n",
       " 'injection_position_y',\n",
       " 'injection_position_z',\n",
       " 'injection_column_depth',\n",
       " 'primary_lepton_1_type',\n",
       " 'primary_hadron_1_type',\n",
       " 'primary_lepton_1_position_x',\n",
       " 'primary_lepton_1_position_y',\n",
       " 'primary_lepton_1_position_z',\n",
       " 'primary_hadron_1_position_x',\n",
       " 'primary_hadron_1_position_y',\n",
       " 'primary_hadron_1_position_z',\n",
       " 'primary_lepton_1_direction_theta',\n",
       " 'primary_lepton_1_direction_phi',\n",
       " 'primary_hadron_1_direction_theta',\n",
       " 'primary_hadron_1_direction_phi',\n",
       " 'primary_lepton_1_energy',\n",
       " 'primary_hadron_1_energy',\n",
       " 'total_energy']"
      ]
     },
     "execution_count": 5,
     "metadata": {},
     "output_type": "execute_result"
    }
   ],
   "source": [
    "example_set.mc_truth.fields"
   ]
  },
  {
   "cell_type": "code",
   "execution_count": 14,
   "metadata": {},
   "outputs": [
    {
     "data": {
      "text/plain": [
       "['sensor_id',\n",
       " 'sensor_pos_x',\n",
       " 'sensor_pos_y',\n",
       " 'sensor_pos_z',\n",
       " 'sensor_string_id',\n",
       " 't']"
      ]
     },
     "execution_count": 14,
     "metadata": {},
     "output_type": "execute_result"
    }
   ],
   "source": [
    "example_set.total.fields"
   ]
  },
  {
   "cell_type": "code",
   "execution_count": 6,
   "metadata": {},
   "outputs": [
    {
     "name": "stdout",
     "output_type": "stream",
     "text": [
      "injection_energy\n",
      "[1.14e+03, 1.7e+03, 1.18e+03, 7.1e+03, ... 1.68e+03, 1.06e+03, 3.98e+03, 1.3e+03]\n",
      "injection_type\n",
      "[14, 14, 14, 14, 14, 14, 14, 14, 14, 14]\n",
      "injection_interaction_type\n",
      "[1, 1, 1, 1, 1, 1, 1, 1, 1, 1]\n",
      "injection_zenith\n",
      "[2.35, 1.79, 2.25, 1.74, 2.85, 2.59, 2.37, 1.71, 2.01, 3.09]\n",
      "injection_azimuth\n",
      "[4.93, 4.39, 3.37, 1.99, 5.28, 2.26, 0.548, 1.7, 6.28, 1.04]\n",
      "injection_bjorkenx\n",
      "[0.288, 0.595, 0.31, 0.391, 0.0247, 0.338, 0.169, 0.0289, 0.452, 0.0606]\n",
      "injection_bjorkeny\n",
      "[0.288, 0.595, 0.31, 0.391, 0.0247, 0.338, 0.169, 0.0289, 0.452, 0.0606]\n",
      "injection_position_x\n",
      "[-138, -239, 164, 2.4, -183, -228, -153, 177, 104, -157]\n",
      "injection_position_y\n",
      "[172, 17, -49.8, 72.6, 20.3, 29.4, -169, -18.5, -88.3, -9.23]\n",
      "injection_position_z\n",
      "[333, -334, -515, -595, 356, -405, 263, 252, -476, -46.5]\n",
      "injection_column_depth\n",
      "[6.2e+04, 2.13e+04, 2.38e+04, 3.28e+04, ... 6.57e+04, 3.56e+04, 4.94e+04, 1.11e+05]\n",
      "primary_lepton_1_type\n",
      "[13, 13, 13, 13, 13, 13, 13, 13, 13, 13]\n",
      "primary_hadron_1_type\n",
      "[-2000001006, -2000001006, -2000001006, ... -2000001006, -2000001006, -2000001006]\n",
      "primary_lepton_1_position_x\n",
      "[-138, -239, 164, 2.4, -183, -228, -153, 177, 104, -157]\n",
      "primary_lepton_1_position_y\n",
      "[172, 17, -49.8, 72.6, 20.3, 29.4, -169, -18.5, -88.3, -9.23]\n",
      "primary_lepton_1_position_z\n",
      "[333, -334, -515, -595, 356, -405, 263, 252, -476, -46.5]\n",
      "primary_hadron_1_position_x\n",
      "[-138, -239, 164, 2.4, -183, -228, -153, 177, 104, -157]\n",
      "primary_hadron_1_position_y\n",
      "[172, 17, -49.8, 72.6, 20.3, 29.4, -169, -18.5, -88.3, -9.23]\n",
      "primary_hadron_1_position_z\n",
      "[333, -334, -515, -595, 356, -405, 263, 252, -476, -46.5]\n",
      "primary_lepton_1_direction_theta\n",
      "[2.25, 1.79, 2.25, 1.74, 2.85, 2.57, 2.37, 1.7, 2.02, 3.09]\n",
      "primary_lepton_1_direction_phi\n",
      "[-1.32, -1.86, -2.89, 1.99, -1, 2.29, 0.554, 1.7, -0.00156, 1.07]\n",
      "primary_hadron_1_direction_theta\n",
      "[2.36, 1.8, 2.24, 1.73, 2.85, 2.6, 2.34, 1.72, 1.98, 3.06]\n",
      "primary_hadron_1_direction_phi\n",
      "[-1.35, -1.91, -2.94, 1.97, -0.961, 2.24, 0.532, 1.7, -0.0297, 0.56]\n",
      "primary_lepton_1_energy\n",
      "[50.3, 505, 719, 3.98e+03, 4e+03, 628, 1.27e+03, 335, 3.47e+03, 1.23e+03]\n",
      "primary_hadron_1_energy\n",
      "[1.09e+03, 1.2e+03, 458, 3.12e+03, 350, 1.26e+03, 415, 726, 509, 68.1]\n",
      "total_energy\n",
      "[1.14e+03, 1.7e+03, 1.18e+03, 7.1e+03, ... 1.68e+03, 1.06e+03, 3.98e+03, 1.3e+03]\n"
     ]
    }
   ],
   "source": [
    "for field in example_set.mc_truth.fields:\n",
    "    print(field)\n",
    "    print(example_set.mc_truth[field])"
   ]
  },
  {
   "cell_type": "code",
   "execution_count": 7,
   "metadata": {},
   "outputs": [
    {
     "data": {
      "text/plain": [
       "['sensor_id',\n",
       " 'sensor_pos_x',\n",
       " 'sensor_pos_y',\n",
       " 'sensor_pos_z',\n",
       " 'sensor_string_id',\n",
       " 't',\n",
       " 'loss_pos_x',\n",
       " 'loss_pos_y',\n",
       " 'loss_pos_z',\n",
       " 'loss_n_photons']"
      ]
     },
     "execution_count": 7,
     "metadata": {},
     "output_type": "execute_result"
    }
   ],
   "source": [
    "example_set.primary_hadron_1.fields"
   ]
  },
  {
   "cell_type": "code",
   "execution_count": 8,
   "metadata": {},
   "outputs": [
    {
     "data": {
      "text/plain": [
       "<Array [-138, -239, 164, ... 177, 104, -157] type='10 * float64'>"
      ]
     },
     "execution_count": 8,
     "metadata": {},
     "output_type": "execute_result"
    }
   ],
   "source": [
    "example_set.mc_truth.primary_lepton_1_position_x"
   ]
  },
  {
   "cell_type": "code",
   "execution_count": 9,
   "metadata": {},
   "outputs": [
    {
     "data": {
      "text/plain": [
       "<Array [0, 1, 2, 3, 4, 5, 6, 7, 8, 9] type='10 * int64'>"
      ]
     },
     "execution_count": 9,
     "metadata": {},
     "output_type": "execute_result"
    }
   ],
   "source": [
    "example_set.event_id"
   ]
  },
  {
   "cell_type": "code",
   "execution_count": 10,
   "metadata": {},
   "outputs": [
    {
     "data": {
      "text/plain": [
       "['event_id', 'mc_truth', 'primary_lepton_1', 'primary_hadron_1', 'total']"
      ]
     },
     "execution_count": 10,
     "metadata": {},
     "output_type": "execute_result"
    }
   ],
   "source": [
    "# The events are split into three parts:\n",
    "#   - lepton: the light from the generated lepton\n",
    "#   - hadron: the light produced from the associated hadronic cascade (at production point)\n",
    "#   - total: the light from both parts\n",
    "# Each of these fields is formatted the same way\n",
    "example_set.fields"
   ]
  },
  {
   "cell_type": "code",
   "execution_count": 11,
   "metadata": {},
   "outputs": [
    {
     "name": "stdout",
     "output_type": "stream",
     "text": [
      "Total number of hits:\n",
      "0\n",
      "The hit sensors: \n",
      "[]\n",
      "Their associated strings\n",
      "[]\n",
      "The hit times\n",
      "[]\n"
     ]
    }
   ],
   "source": [
    "# Example for one event\n",
    "event_id = 1\n",
    "# The sensors hit\n",
    "print(\"Total number of hits:\")\n",
    "print(len(example_set.total.sensor_id[event_id]))\n",
    "print('The hit sensors: ')\n",
    "print(example_set.total.sensor_id[event_id])\n",
    "print('Their associated strings')\n",
    "print(example_set.total.sensor_string_id[event_id])\n",
    "print('The hit times')\n",
    "print(example_set.total.t[event_id])"
   ]
  },
  {
   "cell_type": "code",
   "execution_count": 12,
   "metadata": {},
   "outputs": [],
   "source": [
    "def paqruet_plotting(\n",
    "        data, e_id,\n",
    "        brightest_event=False,\n",
    "        channel='total',\n",
    "        show_lepton=True,\n",
    "        scaling=20\n",
    "    ):\n",
    "    try:\n",
    "        fig = plt.figure()\n",
    "        ax = fig.add_subplot(projection='3d')\n",
    "        hit_counts = []\n",
    "        if brightest_event:\n",
    "            for event in data[channel].sensor_pos_x:\n",
    "                hit_counts.append(len(event))\n",
    "            hit_counts = np.array(hit_counts)\n",
    "            event_id = np.argmax(hit_counts)\n",
    "            print('The brightest event has the id %d' % event_id)\n",
    "            print('The energy of the injected particle is %.1f' % data.mc_truth.injection_energy[event_id])\n",
    "        else:\n",
    "            event_id = e_id\n",
    "        sensor_comb = np.array([\n",
    "            [data[channel].sensor_pos_x[event_id][i],\n",
    "            data[channel].sensor_pos_y[event_id][i],\n",
    "            data[channel].sensor_pos_z[event_id][i]\n",
    "            ]\n",
    "            for i in range(len(data[channel].sensor_pos_x[event_id]))\n",
    "        ])\n",
    "        hit_doms, hit_counts = np.unique(sensor_comb, axis=0, return_counts=True)\n",
    "        ax.scatter(\n",
    "            hit_doms[:, 0],\n",
    "            hit_doms[:, 1],\n",
    "            hit_doms[:, 2],\n",
    "            s=(\n",
    "                hit_counts / max(hit_counts) * scaling\n",
    "            ),\n",
    "            color='r', alpha=0.5)\n",
    "        if show_lepton:\n",
    "            ax.scatter(\n",
    "                data.primary_lepton_1.loss_pos_x[event_id],\n",
    "                data.primary_lepton_1.loss_pos_y[event_id],\n",
    "                data.primary_lepton_1.loss_pos_z[event_id],\n",
    "                s=(\n",
    "                    data.primary_lepton_1.loss_n_photons[event_id] /\n",
    "                    max(data.primary_lepton_1.loss_n_photons[event_id]) *\n",
    "                    scaling\n",
    "                ),\n",
    "                color='blue', alpha=0.5)\n",
    "        ax.set_xlim(min(hit_doms[:, 0]), max(hit_doms[:, 0]))\n",
    "        ax.set_ylim(min(hit_doms[:, 1]), max(hit_doms[:, 1]))\n",
    "        ax.set_zlim(min(hit_doms[:, 2]), max(hit_doms[:, 2]))\n",
    "        ax.set_xlabel('X [m]')\n",
    "        ax.set_ylabel('Y [m]')\n",
    "        ax.set_zlabel('Z [m]')\n",
    "        plt.title(\n",
    "            'Event %d with pdg id = %d and energy %.1f GeV' % (\n",
    "                event_id,\n",
    "                data.mc_truth.primary_lepton_1_type[event_id],\n",
    "                data.mc_truth.primary_lepton_1_energy[event_id]\n",
    "                )\n",
    "        )\n",
    "    except:\n",
    "        print('No hits found!')"
   ]
  },
  {
   "cell_type": "code",
   "execution_count": 24,
   "metadata": {},
   "outputs": [
    {
     "name": "stdout",
     "output_type": "stream",
     "text": [
      "The brightest event has the id 6\n",
      "The energy of the injected particle is 1685.0\n"
     ]
    },
    {
     "name": "stderr",
     "output_type": "stream",
     "text": [
      "/tmp/ipykernel_22643/2656468167.py:48: UserWarning: Attempting to set identical left == right == 50.0 results in singular transformations; automatically expanding.\n",
      "  ax.set_xlim(min(hit_doms[:, 0]), max(hit_doms[:, 0]))\n",
      "/tmp/ipykernel_22643/2656468167.py:49: UserWarning: Attempting to set identical bottom == top == -28.867513459481298 results in singular transformations; automatically expanding.\n",
      "  ax.set_ylim(min(hit_doms[:, 1]), max(hit_doms[:, 1]))\n"
     ]
    }
   ],
   "source": [
    "paqruet_plotting(\n",
    "    example_set,\n",
    "    e_id=4,\n",
    "    brightest_event=True,\n",
    "    channel='total',\n",
    "    show_lepton=True,\n",
    "    scaling=100\n",
    ")"
   ]
  },
  {
   "cell_type": "code",
   "execution_count": null,
   "metadata": {},
   "outputs": [],
   "source": []
  }
 ],
 "metadata": {
  "kernelspec": {
   "display_name": "Python 3.10.4 ('prom_test')",
   "language": "python",
   "name": "python3"
  },
  "language_info": {
   "codemirror_mode": {
    "name": "ipython",
    "version": 3
   },
   "file_extension": ".py",
   "mimetype": "text/x-python",
   "name": "python",
   "nbconvert_exporter": "python",
   "pygments_lexer": "ipython3",
   "version": "3.10.4"
  },
  "orig_nbformat": 4,
  "vscode": {
   "interpreter": {
    "hash": "138e18fe3226631f107cbb691715dbaa288f9b6d8cfade5cfbd0f78c522c7d52"
   }
  }
 },
 "nbformat": 4,
 "nbformat_minor": 2
}
