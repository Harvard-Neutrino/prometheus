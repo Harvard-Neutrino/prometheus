{
 "cells": [
  {
   "cell_type": "code",
   "execution_count": 1,
   "metadata": {},
   "outputs": [],
   "source": [
    "# example_meta_data_reader.ipynb\n",
    "# Authors: Stephan Meighen-Berger\n",
    "# Shows how to deal with the output files"
   ]
  },
  {
   "cell_type": "code",
   "execution_count": 2,
   "metadata": {},
   "outputs": [],
   "source": [
    "%matplotlib qt\n",
    "import awkward as ak\n",
    "import numpy as np\n",
    "import matplotlib.pyplot as plt\n",
    "import h5py\n"
   ]
  },
  {
   "cell_type": "code",
   "execution_count": 3,
   "metadata": {},
   "outputs": [],
   "source": [
    "example_set = ak.from_parquet('./output/custom_1337_meta_data.parquet')"
   ]
  },
  {
   "cell_type": "code",
   "execution_count": 4,
   "metadata": {},
   "outputs": [
    {
     "data": {
      "text/plain": [
       "['event_id', 'mc_truth', 'primary_lepton_1', 'primary_hadron_1', 'total']"
      ]
     },
     "execution_count": 4,
     "metadata": {},
     "output_type": "execute_result"
    }
   ],
   "source": [
    "example_set.fields"
   ]
  },
  {
   "cell_type": "code",
   "execution_count": 5,
   "metadata": {},
   "outputs": [
    {
     "data": {
      "text/plain": [
       "['injection_energy',\n",
       " 'injection_type',\n",
       " 'injection_interaction_type',\n",
       " 'injection_zenith',\n",
       " 'injection_azimuth',\n",
       " 'injection_bjorkenx',\n",
       " 'injection_bjorkeny',\n",
       " 'injection_position_x',\n",
       " 'injection_position_y',\n",
       " 'injection_position_z',\n",
       " 'injection_column_depth',\n",
       " 'primary_lepton_1_type',\n",
       " 'primary_hadron_1_type',\n",
       " 'primary_lepton_1_position_x',\n",
       " 'primary_lepton_1_position_y',\n",
       " 'primary_lepton_1_position_z',\n",
       " 'primary_hadron_1_position_x',\n",
       " 'primary_hadron_1_position_y',\n",
       " 'primary_hadron_1_position_z',\n",
       " 'primary_lepton_1_direction_theta',\n",
       " 'primary_lepton_1_direction_phi',\n",
       " 'primary_hadron_1_direction_theta',\n",
       " 'primary_hadron_1_direction_phi',\n",
       " 'primary_lepton_1_energy',\n",
       " 'primary_hadron_1_energy',\n",
       " 'total_energy']"
      ]
     },
     "execution_count": 5,
     "metadata": {},
     "output_type": "execute_result"
    }
   ],
   "source": [
    "example_set.mc_truth.fields"
   ]
  },
  {
   "cell_type": "code",
   "execution_count": 6,
   "metadata": {},
   "outputs": [
    {
     "data": {
      "text/plain": [
       "['sensor_id',\n",
       " 'sensor_pos_x',\n",
       " 'sensor_pos_y',\n",
       " 'sensor_pos_z',\n",
       " 'sensor_string_id',\n",
       " 't']"
      ]
     },
     "execution_count": 6,
     "metadata": {},
     "output_type": "execute_result"
    }
   ],
   "source": [
    "example_set.total.fields"
   ]
  },
  {
   "cell_type": "code",
   "execution_count": 7,
   "metadata": {},
   "outputs": [
    {
     "name": "stdout",
     "output_type": "stream",
     "text": [
      "injection_energy\n",
      "[1e+04, 1e+04, 1e+04, 1e+04, 1e+04, 1e+04, 1e+04, 1e+04, 1e+04, 1e+04]\n",
      "injection_type\n",
      "[14, 14, 14, 14, 14, 14, 14, 14, 14, 14]\n",
      "injection_interaction_type\n",
      "[1, 1, 1, 1, 1, 1, 1, 1, 1, 1]\n",
      "injection_zenith\n",
      "[2.35, 1.61, 2.29, 1.79, 1.44, 1.64, 2.49, 1.76, 2.21, 2.44]\n",
      "injection_azimuth\n",
      "[4.93, 1.39, 3.37, 3.15, 5.68, 2.05, 4.54, 4.89, 5.59, 3.22]\n",
      "injection_bjorkenx\n",
      "[0.202, 0.531, 0.224, 0.378, 0.535, 0.0629, 0.114, 0.0101, 0.0291, 0.126]\n",
      "injection_bjorkeny\n",
      "[0.202, 0.531, 0.224, 0.378, 0.535, 0.0629, 0.114, 0.0101, 0.0291, 0.126]\n",
      "injection_position_x\n",
      "[-80.5, -37.8, -85.8, -25.1, 124, -46.6, 110, -127, -66.7, 58.6]\n",
      "injection_position_y\n",
      "[100, -104, -89.8, 87.5, 47, -96.3, 30.1, -4.83, 96.6, -24.9]\n",
      "injection_position_z\n",
      "[111, 171, 76.2, 129, -49.4, 127, -8.17, -84.1, 44.6, -137]\n",
      "injection_column_depth\n",
      "[3.61e+04, 2.75e+04, 2.1e+04, 2.3e+04, ... 3.14e+04, 1.53e+04, 3.37e+04, 2.06e+04]\n",
      "primary_lepton_1_type\n",
      "[13, 13, 13, 13, 13, 13, 13, 13, 13, 13]\n",
      "primary_hadron_1_type\n",
      "[-2000001006, -2000001006, -2000001006, ... -2000001006, -2000001006, -2000001006]\n",
      "primary_lepton_1_position_x\n",
      "[-80.5, -37.8, -85.8, -25.1, 124, -46.6, 110, -127, -66.7, 58.6]\n",
      "primary_lepton_1_position_y\n",
      "[100, -104, -89.8, 87.5, 47, -96.3, 30.1, -4.83, 96.6, -24.9]\n",
      "primary_lepton_1_position_z\n",
      "[111, 171, 76.2, 129, -49.4, 127, -8.17, -84.1, 44.6, -137]\n",
      "primary_hadron_1_position_x\n",
      "[-80.5, -37.8, -85.8, -25.1, 124, -46.6, 110, -127, -66.7, 58.6]\n",
      "primary_hadron_1_position_y\n",
      "[100, -104, -89.8, 87.5, 47, -96.3, 30.1, -4.83, 96.6, -24.9]\n",
      "primary_hadron_1_position_z\n",
      "[111, 171, 76.2, 129, -49.4, 127, -8.17, -84.1, 44.6, -137]\n",
      "primary_lepton_1_direction_theta\n",
      "[2.38, 1.63, 2.29, 1.79, 1.44, 1.65, 2.49, 1.76, 2.21, 2.44]\n",
      "primary_lepton_1_direction_phi\n",
      "[-1.34, 1.4, -2.91, 3.14, -0.613, 2.05, -1.75, -1.39, -0.694, -3.06]\n",
      "primary_hadron_1_direction_theta\n",
      "[2.35, 1.61, 2.29, 1.79, 1.43, 1.64, 2.5, 1.76, 2.22, 2.44]\n",
      "primary_hadron_1_direction_phi\n",
      "[-1.35, 1.39, -2.92, -3.13, -0.593, 2.04, -1.73, -1.39, -0.691, -3.07]\n",
      "primary_lepton_1_energy\n",
      "[563, 3.49e+03, 7e+03, 5.73e+03, 7.15e+03, ... 8.19e+03, 3.88e+03, 9e+03, 6.22e+03]\n",
      "primary_hadron_1_energy\n",
      "[9.44e+03, 6.51e+03, 3e+03, 4.27e+03, ... 1.81e+03, 6.12e+03, 1e+03, 3.78e+03]\n",
      "total_energy\n",
      "[1e+04, 1e+04, 1e+04, 1e+04, 1e+04, 1e+04, 1e+04, 1e+04, 1e+04, 1e+04]\n"
     ]
    }
   ],
   "source": [
    "for field in example_set.mc_truth.fields:\n",
    "    print(field)\n",
    "    print(example_set.mc_truth[field])"
   ]
  },
  {
   "cell_type": "code",
   "execution_count": 8,
   "metadata": {},
   "outputs": [
    {
     "data": {
      "text/plain": [
       "['sensor_id',\n",
       " 'sensor_pos_x',\n",
       " 'sensor_pos_y',\n",
       " 'sensor_pos_z',\n",
       " 'sensor_string_id',\n",
       " 't',\n",
       " 'loss_pos_x',\n",
       " 'loss_pos_y',\n",
       " 'loss_pos_z',\n",
       " 'loss_n_photons']"
      ]
     },
     "execution_count": 8,
     "metadata": {},
     "output_type": "execute_result"
    }
   ],
   "source": [
    "example_set.primary_hadron_1.fields"
   ]
  },
  {
   "cell_type": "code",
   "execution_count": 9,
   "metadata": {},
   "outputs": [
    {
     "data": {
      "text/plain": [
       "<Array [-80.5, -37.8, -85.8, ... -66.7, 58.6] type='10 * float64'>"
      ]
     },
     "execution_count": 9,
     "metadata": {},
     "output_type": "execute_result"
    }
   ],
   "source": [
    "example_set.mc_truth.primary_lepton_1_position_x"
   ]
  },
  {
   "cell_type": "code",
   "execution_count": 10,
   "metadata": {},
   "outputs": [
    {
     "data": {
      "text/plain": [
       "<Array [0, 1, 2, 3, 4, 5, 6, 7, 8, 9] type='10 * int64'>"
      ]
     },
     "execution_count": 10,
     "metadata": {},
     "output_type": "execute_result"
    }
   ],
   "source": [
    "example_set.event_id"
   ]
  },
  {
   "cell_type": "code",
   "execution_count": 11,
   "metadata": {},
   "outputs": [
    {
     "data": {
      "text/plain": [
       "['event_id', 'mc_truth', 'primary_lepton_1', 'primary_hadron_1', 'total']"
      ]
     },
     "execution_count": 11,
     "metadata": {},
     "output_type": "execute_result"
    }
   ],
   "source": [
    "# The events are split into three parts:\n",
    "#   - lepton: the light from the generated lepton\n",
    "#   - hadron: the light produced from the associated hadronic cascade (at production point)\n",
    "#   - total: the light from both parts\n",
    "# Each of these fields is formatted the same way\n",
    "example_set.fields"
   ]
  },
  {
   "cell_type": "code",
   "execution_count": 12,
   "metadata": {},
   "outputs": [
    {
     "name": "stdout",
     "output_type": "stream",
     "text": [
      "Total number of hits:\n",
      "8861\n",
      "The hit sensors: \n",
      "[6, 8, 8, 8, 8, 8, 8, 9, 9, 9, 9, 9, ... 51, 51, 52, 52, 52, 52, 52, 52, 52, 53, 54]\n",
      "Their associated strings\n",
      "[0, 0, 0, 0, 0, 0, 0, 0, 0, 0, 0, 0, 0, 0, ... 2, 2, 2, 2, 2, 2, 2, 2, 2, 2, 2, 2, 2]\n",
      "The hit times\n",
      "[1.35e+03, 872, 873, 870, 871, 872, 872, ... 498, 519, 491, 471, 589, 564, 1.13e+03]\n"
     ]
    }
   ],
   "source": [
    "# Example for one event\n",
    "event_id = 0\n",
    "# The sensors hit\n",
    "print(\"Total number of hits:\")\n",
    "print(len(example_set.total.sensor_id[event_id]))\n",
    "print('The hit sensors: ')\n",
    "print(example_set.total.sensor_id[event_id])\n",
    "print('Their associated strings')\n",
    "print(example_set.total.sensor_string_id[event_id])\n",
    "print('The hit times')\n",
    "print(example_set.total.t[event_id])"
   ]
  },
  {
   "cell_type": "code",
   "execution_count": 13,
   "metadata": {},
   "outputs": [],
   "source": [
    "def paqruet_plotting(\n",
    "        data, e_id,\n",
    "        brightest_event=False,\n",
    "        channel='total',\n",
    "        show_lepton=True,\n",
    "        scaling=20\n",
    "    ):\n",
    "    try:\n",
    "        fig = plt.figure()\n",
    "        ax = fig.add_subplot(projection='3d')\n",
    "        hit_counts = []\n",
    "        if brightest_event:\n",
    "            for event in data[channel].sensor_pos_x:\n",
    "                hit_counts.append(len(event))\n",
    "            hit_counts = np.array(hit_counts)\n",
    "            event_id = np.argmax(hit_counts)\n",
    "            print('The brightest event has the id %d' % event_id)\n",
    "            print('The energy of the injected particle is %.1f' % data.mc_truth.injection_energy[event_id])\n",
    "        else:\n",
    "            event_id = e_id\n",
    "        sensor_comb = np.array([\n",
    "            [data[channel].sensor_pos_x[event_id][i],\n",
    "            data[channel].sensor_pos_y[event_id][i],\n",
    "            data[channel].sensor_pos_z[event_id][i]\n",
    "            ]\n",
    "            for i in range(len(data[channel].sensor_pos_x[event_id]))\n",
    "        ])\n",
    "        hit_doms, hit_counts = np.unique(sensor_comb, axis=0, return_counts=True)\n",
    "        ax.scatter(\n",
    "            hit_doms[:, 0],\n",
    "            hit_doms[:, 1],\n",
    "            hit_doms[:, 2],\n",
    "            s=(\n",
    "                hit_counts / max(hit_counts) * scaling\n",
    "            ),\n",
    "            color='r', alpha=0.5)\n",
    "        if show_lepton:\n",
    "            ax.scatter(\n",
    "                data.primary_lepton_1.loss_pos_x[event_id],\n",
    "                data.primary_lepton_1.loss_pos_y[event_id],\n",
    "                data.primary_lepton_1.loss_pos_z[event_id],\n",
    "                s=(\n",
    "                    data.primary_lepton_1.loss_n_photons[event_id] /\n",
    "                    max(data.primary_lepton_1.loss_n_photons[event_id]) *\n",
    "                    scaling\n",
    "                ),\n",
    "                color='blue', alpha=0.5)\n",
    "        # ax.set_xlim(min(hit_doms[:, 0]), max(hit_doms[:, 0]))\n",
    "        # ax.set_ylim(min(hit_doms[:, 1]), max(hit_doms[:, 1]))\n",
    "        # ax.set_zlim(min(hit_doms[:, 2]), max(hit_doms[:, 2]))\n",
    "        ax.set_xlabel('X [m]')\n",
    "        ax.set_ylabel('Y [m]')\n",
    "        ax.set_zlabel('Z [m]')\n",
    "        plt.title(\n",
    "            'Event %d with pdg id = %d and energy %.1f GeV' % (\n",
    "                event_id,\n",
    "                data.mc_truth.injection_type[event_id],\n",
    "                data.mc_truth.injection_energy[event_id]\n",
    "                )\n",
    "        )\n",
    "    except:\n",
    "        print('No hits found!')"
   ]
  },
  {
   "cell_type": "code",
   "execution_count": 14,
   "metadata": {},
   "outputs": [
    {
     "name": "stdout",
     "output_type": "stream",
     "text": [
      "The brightest event has the id 0\n",
      "The energy of the injected particle is 10000.1\n"
     ]
    }
   ],
   "source": [
    "paqruet_plotting(\n",
    "    example_set,\n",
    "    e_id=4,\n",
    "    brightest_event=True,\n",
    "    channel='total',\n",
    "    show_lepton=True,\n",
    "    scaling=100\n",
    ")"
   ]
  },
  {
   "cell_type": "code",
   "execution_count": null,
   "metadata": {},
   "outputs": [],
   "source": []
  }
 ],
 "metadata": {
  "kernelspec": {
   "display_name": "Python 3.10.4 ('prom_test')",
   "language": "python",
   "name": "python3"
  },
  "language_info": {
   "codemirror_mode": {
    "name": "ipython",
    "version": 3
   },
   "file_extension": ".py",
   "mimetype": "text/x-python",
   "name": "python",
   "nbconvert_exporter": "python",
   "pygments_lexer": "ipython3",
   "version": "3.10.4"
  },
  "orig_nbformat": 4,
  "vscode": {
   "interpreter": {
    "hash": "138e18fe3226631f107cbb691715dbaa288f9b6d8cfade5cfbd0f78c522c7d52"
   }
  }
 },
 "nbformat": 4,
 "nbformat_minor": 2
}
