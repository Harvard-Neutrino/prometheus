{
 "cells": [
  {
   "cell_type": "code",
   "execution_count": null,
   "metadata": {},
   "outputs": [],
   "source": [
    "# example_meta_data_reader.ipynb\n",
    "# Authors: Stephan Meighen-Berger\n",
    "# Shows how to deal with the output files"
   ]
  },
  {
   "cell_type": "code",
   "execution_count": null,
   "metadata": {},
   "outputs": [],
   "source": [
    "\n",
    "import awkward as ak\n",
    "import numpy as np\n",
    "import matplotlib.pyplot as plt\n",
    "import h5py\n",
    "%matplotlib widget\n",
    "# %matplotlib qt"
   ]
  },
  {
   "cell_type": "code",
   "execution_count": null,
   "metadata": {},
   "outputs": [],
   "source": [
    "# Example loading a directory (highly recommend using lazy loading)\n",
    "example_set = ak.from_parquet('/home/unimelb.edu.au/smeighenberg/data/triangle_pone_one/', lazy=True)"
   ]
  },
  {
   "cell_type": "code",
   "execution_count": null,
   "metadata": {},
   "outputs": [],
   "source": [
    "# Example loading a single file\n",
    "# example_set = ak.from_parquet('./output/custom_1337_meta_data.parquet')"
   ]
  },
  {
   "cell_type": "code",
   "execution_count": null,
   "metadata": {},
   "outputs": [],
   "source": [
    "# The events are split into three parts:\n",
    "#   - lepton: the light from the generated lepton\n",
    "#   - hadron: the light produced from the associated hadronic cascade (at production point)\n",
    "#   - total: the light from both parts\n",
    "# Each of these fields is formatted the same way\n",
    "example_set.fields"
   ]
  },
  {
   "cell_type": "code",
   "execution_count": null,
   "metadata": {},
   "outputs": [],
   "source": [
    "# Example for one event\n",
    "event_id = 0\n",
    "# The sensors hit\n",
    "print(\"Total number of hits:\")\n",
    "print(len(example_set.total.sensor_id[event_id]))\n",
    "print('The hit sensors: ')\n",
    "print(example_set.total.sensor_id[event_id])\n",
    "print('Their associated strings')\n",
    "print(example_set.total.sensor_string_id[event_id])\n",
    "print('The hit times')\n",
    "print(example_set.total.t[event_id])"
   ]
  },
  {
   "cell_type": "code",
   "execution_count": null,
   "metadata": {},
   "outputs": [],
   "source": [
    "def parquet_sub_plotting(\n",
    "        data, e_id, det,\n",
    "        channel='total',\n",
    "        show_lepton=True,\n",
    "        scaling=20,\n",
    "        number_of_hits=1000,\n",
    "        hitcut=3\n",
    "    ):\n",
    "    fig = plt.figure()\n",
    "    ax = fig.add_subplot(projection='3d')\n",
    "    hit_counts = []\n",
    "    subset_ids = np.random.randint(\n",
    "        0,\n",
    "        len(data[channel].sensor_pos_x[e_id])-1,\n",
    "        size=number_of_hits\n",
    "    )\n",
    "    print('Total amount of hits: %d' %len(data[channel].sensor_pos_x[e_id]))\n",
    "    print('Using a subset of %d for plotting' %number_of_hits)\n",
    "    event_id = e_id\n",
    "    sensor_comb = np.array([\n",
    "        [data[channel].sensor_pos_x[event_id][subset_ids][i],\n",
    "        data[channel].sensor_pos_y[event_id][subset_ids][i],\n",
    "        data[channel].sensor_pos_z[event_id][subset_ids][i]\n",
    "        ]\n",
    "        for i in range(number_of_hits)\n",
    "    ])\n",
    "    print('Fetching unique modules and their hits')\n",
    "    hit_doms, hit_counts = np.unique(sensor_comb, axis=0, return_counts=True)\n",
    "    hit_counts = np.log10(hit_counts)\n",
    "    hit_counts[hit_counts < np.log10(hitcut)] = 0.\n",
    "    print('Finished the modules')\n",
    "    print('Plotting...')\n",
    "    ax.scatter(\n",
    "        hit_doms[:, 0],\n",
    "        hit_doms[:, 1],\n",
    "        hit_doms[:, 2],\n",
    "        s=(\n",
    "            hit_counts * scaling\n",
    "        ),\n",
    "        color='r', alpha=0.5)\n",
    "    print('Finished modules')\n",
    "    if show_lepton:\n",
    "        print('Plotting lepton...')\n",
    "        ax.scatter(\n",
    "            data.primary_lepton_1.loss_pos_x[event_id],\n",
    "            data.primary_lepton_1.loss_pos_y[event_id],\n",
    "            data.primary_lepton_1.loss_pos_z[event_id],\n",
    "            s=( scaling\n",
    "            ),\n",
    "            color='blue', alpha=0.5)\n",
    "        print('Finished lepton')\n",
    "    ax.scatter(\n",
    "        det[:, 0],\n",
    "        det[:, 1],\n",
    "        det[:, 2],\n",
    "        s=1,\n",
    "        color='k', alpha=0.5)\n",
    "    ax.set_xlim(min(det[:, 0]), max(det[:, 0]))\n",
    "    ax.set_ylim(min(det[:, 1]), max(det[:, 1]))\n",
    "    ax.set_zlim(min(det[:, 2]), max(det[:, 2]))\n",
    "    ax.set_xlabel('X [m]')\n",
    "    ax.set_ylabel('Y [m]')\n",
    "    ax.set_zlabel('Z [m]')\n",
    "    plt.title(\n",
    "        'Event %d with pdg id = %d and energy %.1f GeV' % (\n",
    "            event_id,\n",
    "            data.mc_truth.injection_type[event_id],\n",
    "            data.mc_truth.injection_energy[event_id]\n",
    "            )\n",
    "    )\n",
    "    plt.show()"
   ]
  },
  {
   "cell_type": "code",
   "execution_count": null,
   "metadata": {},
   "outputs": [],
   "source": [
    "# Getting the detector\n",
    "pos = []\n",
    "with open('/home/unimelb.edu.au/smeighenberg/Projects/hebe/hebe/data/pone_triangle-geo') as geo_in:\n",
    "    read_lines = geo_in.readlines()\n",
    "    modules_i = read_lines.index(\"### Modules ###\\n\")   \n",
    "    for line in read_lines[modules_i+1:]:\n",
    "        line = line.strip(\"\\n\").split(\"\\t\")\n",
    "        pos.append(\n",
    "            np.array([float(line[0]), float(line[1]),\n",
    "            float(line[2])]))\n",
    "    det = np.array(pos)\n",
    "det = det - np.mean(det, axis=0)"
   ]
  },
  {
   "cell_type": "code",
   "execution_count": null,
   "metadata": {},
   "outputs": [],
   "source": [
    "parquet_sub_plotting(\n",
    "    example_set,\n",
    "    e_id=12, det=det,\n",
    "    channel='total',\n",
    "    show_lepton=True,\n",
    "    scaling=10,\n",
    "    number_of_hits=100,\n",
    "    hitcut=0\n",
    ")"
   ]
  },
  {
   "cell_type": "code",
   "execution_count": null,
   "metadata": {},
   "outputs": [],
   "source": []
  }
 ],
 "metadata": {
  "kernelspec": {
   "display_name": "hebe",
   "language": "python",
   "name": "python3"
  },
  "language_info": {
   "codemirror_mode": {
    "name": "ipython",
    "version": 3
   },
   "file_extension": ".py",
   "mimetype": "text/x-python",
   "name": "python",
   "nbconvert_exporter": "python",
   "pygments_lexer": "ipython3",
   "version": "3.10.6 (main, Nov 10 2011, 15:00:00) [GCC 12.1.0]"
  },
  "orig_nbformat": 4,
  "vscode": {
   "interpreter": {
    "hash": "973e644612cc72db4bf0d12e4f1220dd829c193e7901258b2ae9005b8d0641be"
   }
  }
 },
 "nbformat": 4,
 "nbformat_minor": 2
}
