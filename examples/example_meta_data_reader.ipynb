{
 "cells": [
  {
   "cell_type": "code",
   "execution_count": 52,
   "metadata": {},
   "outputs": [],
   "source": [
    "# example_meta_data_reader.ipynb\n",
    "# Authors: Stephan Meighen-Berger\n",
    "# Shows how to deal with the output files"
   ]
  },
  {
   "cell_type": "code",
   "execution_count": 53,
   "metadata": {},
   "outputs": [],
   "source": [
    "%matplotlib qt\n",
    "import awkward as ak\n",
    "import numpy as np\n",
    "import matplotlib.pyplot as plt\n",
    "import h5py\n"
   ]
  },
  {
   "cell_type": "code",
   "execution_count": 55,
   "metadata": {},
   "outputs": [],
   "source": [
    "example_set = ak.from_parquet('./output/custom_1337_meta_data.parquet')"
   ]
  },
  {
   "cell_type": "code",
   "execution_count": 56,
   "metadata": {},
   "outputs": [
    {
     "data": {
      "text/plain": [
       "['event_id', 'mc_truth', 'primary_lepton_1', 'primary_hadron_1']"
      ]
     },
     "execution_count": 56,
     "metadata": {},
     "output_type": "execute_result"
    }
   ],
   "source": [
    "example_set.fields"
   ]
  },
  {
   "cell_type": "code",
   "execution_count": 57,
   "metadata": {},
   "outputs": [
    {
     "data": {
      "text/plain": [
       "['injection_type',\n",
       " 'injection_interaction_type',\n",
       " 'injection_zenith',\n",
       " 'injection_azimuth',\n",
       " 'injection_bjorkenx',\n",
       " 'injection_bjorkeny',\n",
       " 'injection_position_x',\n",
       " 'injection_position_y',\n",
       " 'injection_position_z',\n",
       " 'injection_column_depth',\n",
       " 'primary_lepton_1_type',\n",
       " 'primary_hadron_1_type',\n",
       " 'primary_lepton_1_position_x',\n",
       " 'primary_lepton_1_position_y',\n",
       " 'primary_lepton_1_position_z',\n",
       " 'primary_hadron_1_position_x',\n",
       " 'primary_hadron_1_position_y',\n",
       " 'primary_hadron_1_position_z',\n",
       " 'primary_lepton_1_direction_theta',\n",
       " 'primary_lepton_1_direction_phi',\n",
       " 'primary_hadron_1_direction_theta',\n",
       " 'primary_hadron_1_direction_phi',\n",
       " 'primary_lepton_1_energy',\n",
       " 'primary_hadron_1_energy',\n",
       " 'total_energy']"
      ]
     },
     "execution_count": 57,
     "metadata": {},
     "output_type": "execute_result"
    }
   ],
   "source": [
    "example_set.mc_truth.fields"
   ]
  },
  {
   "cell_type": "code",
   "execution_count": 60,
   "metadata": {},
   "outputs": [
    {
     "name": "stdout",
     "output_type": "stream",
     "text": [
      "injection_type\n",
      "[14, 14, 14, 14, 14, 14, 14, 14, 14, 14]\n",
      "injection_interaction_type\n",
      "[1, 1, 1, 1, 1, 1, 1, 1, 1, 1]\n",
      "injection_zenith\n",
      "[2.35, 1.41, 2.11, 1.64, 1.51, 2.81, 1.76, 1.79, 2.62, 1.59]\n",
      "injection_azimuth\n",
      "[4.93, 5.82, 1.71, 3.94, 3.15, 5.31, 4.33, 2.9, 5.65, 3.73]\n",
      "injection_bjorkenx\n",
      "[0.293, 0.219, 0.0702, 0.148, 0.404, 0.0713, 0.322, 0.151, 0.388, 0.403]\n",
      "injection_bjorkeny\n",
      "[0.293, 0.219, 0.0702, 0.148, 0.404, 0.0713, 0.322, 0.151, 0.388, 0.403]\n",
      "injection_position_x\n",
      "[-161, -163, 1.62, 66.2, 61.6, 148, 264, 236, -161, -174]\n",
      "injection_position_y\n",
      "[200, -188, 107, 272, -14, 242, -61.6, 128, -54.6, 229]\n",
      "injection_position_z\n",
      "[111, 17, -41, 66.6, 185, 29.8, 46.7, 112, 47.1, 22]\n",
      "injection_column_depth\n",
      "[4.68e+04, 3.34e+04, 6.4e+04, 4.89e+04, ... 2.52e+04, 4.52e+04, 4.25e+04, 1.61e+04]\n",
      "primary_lepton_1_type\n",
      "[13, 13, 13, 13, 13, 13, 13, 13, 13, 13]\n",
      "primary_hadron_1_type\n",
      "[-2000001006, -2000001006, -2000001006, ... -2000001006, -2000001006, -2000001006]\n",
      "primary_lepton_1_position_x\n",
      "[-161, -163, 1.62, 66.2, 61.6, 148, 264, 236, -161, -174]\n",
      "primary_lepton_1_position_y\n",
      "[200, -188, 107, 272, -14, 242, -61.6, 128, -54.6, 229]\n",
      "primary_lepton_1_position_z\n",
      "[111, 17, -41, 66.6, 185, 29.8, 46.7, 112, 47.1, 22]\n",
      "primary_hadron_1_position_x\n",
      "[-161, -163, 1.62, 66.2, 61.6, 148, 264, 236, -161, -174]\n",
      "primary_hadron_1_position_y\n",
      "[200, -188, 107, 272, -14, 242, -61.6, 128, -54.6, 229]\n",
      "primary_hadron_1_position_z\n",
      "[111, 17, -41, 66.6, 185, 29.8, 46.7, 112, 47.1, 22]\n",
      "primary_lepton_1_direction_theta\n",
      "[2.34, 1.42, 2.02, 1.62, 1.55, 2.87, 1.55, 1.71, 2.54, 1.41]\n",
      "primary_lepton_1_direction_phi\n",
      "[-1.46, -0.525, 1.51, -2.44, -3.1, -1.12, -1.53, 2.71, -0.719, -2.62]\n",
      "primary_hadron_1_direction_theta\n",
      "[2.37, 1.36, 2.12, 1.65, 1.27, 2.77, 1.78, 1.81, 2.81, 1.68]\n",
      "primary_hadron_1_direction_phi\n",
      "[-1.04, -0.288, 1.73, -2.27, 2.89, -0.893, -1.98, 2.94, -0.254, -2.52]\n",
      "primary_lepton_1_energy\n",
      "[23.2, 25.2, 3.03, 15.8, 32, 14.4, 2.55, 5.69, 22.3, 14]\n",
      "primary_hadron_1_energy\n",
      "[7.83, 9.46, 27.2, 22.2, 4.83, 19.7, 33.7, 24.9, 8.38, 26]\n",
      "total_energy\n",
      "[31, 34.7, 30.2, 38, 36.8, 34.1, 36.2, 30.5, 30.7, 39.9]\n"
     ]
    }
   ],
   "source": [
    "for field in example_set.mc_truth.fields:\n",
    "    print(field)\n",
    "    print(example_set.mc_truth[field])"
   ]
  },
  {
   "cell_type": "code",
   "execution_count": null,
   "metadata": {},
   "outputs": [
    {
     "data": {
      "text/plain": [
       "<Array [223, 159, -11.8, ... -171, -290, -82.1] type='20 * float64'>"
      ]
     },
     "execution_count": 6,
     "metadata": {},
     "output_type": "execute_result"
    }
   ],
   "source": [
    "example_set.mc_truth.lepton_position_x"
   ]
  },
  {
   "cell_type": "code",
   "execution_count": null,
   "metadata": {},
   "outputs": [
    {
     "data": {
      "text/plain": [
       "<Array [0, 1, 2, 3, 4, ... 15, 16, 17, 18, 19] type='20 * int64'>"
      ]
     },
     "execution_count": 7,
     "metadata": {},
     "output_type": "execute_result"
    }
   ],
   "source": [
    "example_set.event_id"
   ]
  },
  {
   "cell_type": "code",
   "execution_count": null,
   "metadata": {},
   "outputs": [
    {
     "data": {
      "text/plain": [
       "['sensor_id',\n",
       " 'sensor_pos_x',\n",
       " 'sensor_pos_y',\n",
       " 'sensor_pos_z',\n",
       " 'sensor_string_id',\n",
       " 't']"
      ]
     },
     "execution_count": 8,
     "metadata": {},
     "output_type": "execute_result"
    }
   ],
   "source": [
    "# The events are split into three parts:\n",
    "#   - lepton: the light from the generated lepton\n",
    "#   - hadron: the light produced from the associated hadronic cascade (at production point)\n",
    "#   - total: the light from both parts\n",
    "# Each of these fields is formatted the same way\n",
    "example_set.total.fields"
   ]
  },
  {
   "cell_type": "code",
   "execution_count": null,
   "metadata": {},
   "outputs": [
    {
     "name": "stdout",
     "output_type": "stream",
     "text": [
      "Total number of hits:\n",
      "34\n",
      "The hit sensors: \n",
      "[83, 92, 106, 412, 636, 675, 942, 1029, ... 854, 1142, 1315, 1885, 2991, 3276, 3277]\n",
      "Their associated strings\n",
      "[3, 4, 4, 18, 28, 30, 42, 46, 58, 62, ... 143, 17, 38, 51, 59, 85, 135, 148, 148]\n",
      "The hit times\n",
      "[1.17e+03, 1.09e+03, 726, 882, 798, 740, 1.02e+03, ... 583, 578, 662, 360, 389, 369]\n"
     ]
    }
   ],
   "source": [
    "# Example for one event\n",
    "event_id = 1\n",
    "# The sensors hit\n",
    "print(\"Total number of hits:\")\n",
    "print(len(example_set.total.sensor_id[event_id]))\n",
    "print('The hit sensors: ')\n",
    "print(example_set.total.sensor_id[event_id])\n",
    "print('Their associated strings')\n",
    "print(example_set.total.sensor_string_id[event_id])\n",
    "print('The hit times')\n",
    "print(example_set.total.t[event_id])"
   ]
  },
  {
   "cell_type": "code",
   "execution_count": null,
   "metadata": {},
   "outputs": [],
   "source": [
    "def paqruet_plotting(\n",
    "        data, e_id,\n",
    "        brightest_event=False,\n",
    "        channel='lepton',\n",
    "        show_lepton=True,\n",
    "        scaling=20\n",
    "    ):\n",
    "    try:\n",
    "        fig = plt.figure()\n",
    "        ax = fig.add_subplot(projection='3d')\n",
    "        hit_counts = []\n",
    "        if brightest_event:\n",
    "            for event in data[channel].sensor_pos_x:\n",
    "                hit_counts.append(len(event))\n",
    "            hit_counts = np.array(hit_counts)\n",
    "            event_id = np.argmax(hit_counts)\n",
    "            print('The brightest event has the id %d' % event_id)\n",
    "            print('The energy of the lepton is %.1f' % data.mc_truth.lepton_energy[event_id])\n",
    "        else:\n",
    "            event_id = e_id\n",
    "        sensor_comb = np.array([\n",
    "            [data[channel].sensor_pos_x[event_id][i],\n",
    "            data[channel].sensor_pos_y[event_id][i],\n",
    "            data[channel].sensor_pos_z[event_id][i]\n",
    "            ]\n",
    "            for i in range(len(data[channel].sensor_pos_x[event_id]))\n",
    "        ])\n",
    "        hit_doms, hit_counts = np.unique(sensor_comb, axis=0, return_counts=True)\n",
    "        ax.scatter(\n",
    "            hit_doms[:, 0],\n",
    "            hit_doms[:, 1],\n",
    "            hit_doms[:, 2],\n",
    "            s=(\n",
    "                hit_counts / max(hit_counts) * scaling\n",
    "            ),\n",
    "            color='r', alpha=0.5)\n",
    "        if show_lepton:\n",
    "            ax.scatter(\n",
    "                data.lepton.loss_pos_x[event_id],\n",
    "                data.lepton.loss_pos_y[event_id],\n",
    "                data.lepton.loss_pos_z[event_id],\n",
    "                s=(\n",
    "                    data.lepton.loss_n_photons[event_id] /\n",
    "                    max(data.lepton.loss_n_photons[event_id]) *\n",
    "                    scaling\n",
    "                ),\n",
    "                color='blue', alpha=0.5)\n",
    "        ax.set_xlim(min(hit_doms[:, 0]), max(hit_doms[:, 0]))\n",
    "        ax.set_ylim(min(hit_doms[:, 1]), max(hit_doms[:, 1]))\n",
    "        ax.set_zlim(min(hit_doms[:, 2]), max(hit_doms[:, 2]))\n",
    "        ax.set_xlabel('X [m]')\n",
    "        ax.set_ylabel('Y [m]')\n",
    "        ax.set_zlabel('Z [m]')\n",
    "        plt.title(\n",
    "            'Event %d with pdg id = %d and energy %.1f GeV' % (\n",
    "                event_id,\n",
    "                data.mc_truth.lepton_type[event_id],\n",
    "                data.mc_truth.lepton_energy[event_id]\n",
    "                )\n",
    "        )\n",
    "    except:\n",
    "        print('No hits found!')"
   ]
  },
  {
   "cell_type": "code",
   "execution_count": null,
   "metadata": {},
   "outputs": [
    {
     "name": "stdout",
     "output_type": "stream",
     "text": [
      "The brightest event has the id 6\n",
      "The energy of the lepton is 40.4\n"
     ]
    }
   ],
   "source": [
    "paqruet_plotting(\n",
    "    example_set,\n",
    "    e_id=4,\n",
    "    brightest_event=True,\n",
    "    channel='total',\n",
    "    show_lepton=True,\n",
    "    scaling=100\n",
    ")"
   ]
  },
  {
   "cell_type": "code",
   "execution_count": null,
   "metadata": {},
   "outputs": [],
   "source": []
  }
 ],
 "metadata": {
  "kernelspec": {
   "display_name": "Python 3.10.4 ('prom_test')",
   "language": "python",
   "name": "python3"
  },
  "language_info": {
   "codemirror_mode": {
    "name": "ipython",
    "version": 3
   },
   "file_extension": ".py",
   "mimetype": "text/x-python",
   "name": "python",
   "nbconvert_exporter": "python",
   "pygments_lexer": "ipython3",
   "version": "3.10.4"
  },
  "orig_nbformat": 4,
  "vscode": {
   "interpreter": {
    "hash": "138e18fe3226631f107cbb691715dbaa288f9b6d8cfade5cfbd0f78c522c7d52"
   }
  }
 },
 "nbformat": 4,
 "nbformat_minor": 2
}
