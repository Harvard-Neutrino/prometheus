{
 "cells": [
  {
   "cell_type": "code",
   "execution_count": 1,
   "metadata": {},
   "outputs": [],
   "source": [
    "# example_meta_data_reader.ipynb\n",
    "# Authors: Stephan Meighen-Berger\n",
    "# Shows how to deal with the output files"
   ]
  },
  {
   "cell_type": "code",
   "execution_count": 2,
   "metadata": {},
   "outputs": [],
   "source": [
    "import awkward as ak\n",
    "import pyarrow.parquet as pq"
   ]
  },
  {
   "cell_type": "code",
   "execution_count": 3,
   "metadata": {},
   "outputs": [],
   "source": [
    "example_set = ak.from_parquet('./output/custom_1337_meta_data.parquet')"
   ]
  },
  {
   "cell_type": "code",
   "execution_count": 4,
   "metadata": {},
   "outputs": [
    {
     "data": {
      "text/plain": [
       "['event_id', 'mc_truth', 'lepton', 'hadron', 'total']"
      ]
     },
     "execution_count": 4,
     "metadata": {},
     "output_type": "execute_result"
    }
   ],
   "source": [
    "example_set.fields"
   ]
  },
  {
   "cell_type": "code",
   "execution_count": 5,
   "metadata": {},
   "outputs": [
    {
     "data": {
      "text/plain": [
       "<Array [0, 1, 2, 3, 4] type='5 * int64'>"
      ]
     },
     "execution_count": 5,
     "metadata": {},
     "output_type": "execute_result"
    }
   ],
   "source": [
    "example_set.event_id"
   ]
  },
  {
   "cell_type": "code",
   "execution_count": 15,
   "metadata": {},
   "outputs": [
    {
     "data": {
      "text/plain": [
       "['sensor_id',\n",
       " 'sensor_pos_x',\n",
       " 'sensor_pos_y',\n",
       " 'sensor_pos_z',\n",
       " 'sensor_string_id',\n",
       " 't']"
      ]
     },
     "execution_count": 15,
     "metadata": {},
     "output_type": "execute_result"
    }
   ],
   "source": [
    "# The events are split into three parts:\n",
    "#   - lepton: the light from the generated lepton\n",
    "#   - hadron: the light produced from the associated hadronic cascade (at production point)\n",
    "#   - total: the light from both parts\n",
    "# Each of these fields is formatted the same way\n",
    "example_set.total.fields"
   ]
  },
  {
   "cell_type": "code",
   "execution_count": 21,
   "metadata": {},
   "outputs": [
    {
     "name": "stdout",
     "output_type": "stream",
     "text": [
      "Total number of hits:\n",
      "1305\n",
      "The hit sensors: \n",
      "[33, 71, 113, 147, 148, 256, 258, 259, ... 2265, 2325, 2504, 2505, 2506, 2506, 2506]\n",
      "Their associated string\n",
      "[1, 3, 5, 6, 6, 11, 11, 11, 13, 16, ... 92, 92, 102, 105, 113, 113, 113, 113, 113]\n",
      "The hit time\n",
      "[572, 681, 799, 353, 491, 370, 359, 263, ... 159, 583, 315, 210, 197, 188, 185, 188]\n"
     ]
    }
   ],
   "source": [
    "# Example for one event\n",
    "event_id = 4\n",
    "# The sensors hit\n",
    "print(\"Total number of hits:\")\n",
    "print(len(example_set.total.sensor_id[event_id]))\n",
    "print('The hit sensors: ')\n",
    "print(example_set.total.sensor_id[event_id])\n",
    "print('Their associated strings')\n",
    "print(example_set.total.sensor_string_id[event_id])\n",
    "print('The hit times')\n",
    "print(example_set.total.t[event_id])"
   ]
  },
  {
   "cell_type": "code",
   "execution_count": null,
   "metadata": {},
   "outputs": [],
   "source": []
  }
 ],
 "metadata": {
  "interpreter": {
   "hash": "2f394aca7ca06fed1e6064aef884364492d7cdda3614a461e02e6407fc40ba69"
  },
  "kernelspec": {
   "display_name": "Python 3.9.7 ('base')",
   "language": "python",
   "name": "python3"
  },
  "language_info": {
   "codemirror_mode": {
    "name": "ipython",
    "version": 3
   },
   "file_extension": ".py",
   "mimetype": "text/x-python",
   "name": "python",
   "nbconvert_exporter": "python",
   "pygments_lexer": "ipython3",
   "version": "3.9.7"
  },
  "orig_nbformat": 4
 },
 "nbformat": 4,
 "nbformat_minor": 2
}
