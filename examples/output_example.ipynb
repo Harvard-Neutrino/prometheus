{
 "cells": [
  {
   "cell_type": "code",
   "execution_count": 20,
   "id": "40fa4f6e-df9b-4c78-a4da-9c55d080d826",
   "metadata": {},
   "outputs": [
    {
     "ename": "ValueError",
     "evalue": "while calling\n\n    ak.from_parquet(\n        path = './output/example_photons.parquet'\n        columns = None\n        row_groups = None\n        storage_options = None\n        max_gap = 64000\n        max_block = 256000000\n        footer_sample_size = 1000000\n        generate_bitmasks = False\n        highlevel = True\n        behavior = None\n    )\n\nError details: no *.parquet or *.parq matches for path './output/example_photons.parquet'",
     "output_type": "error",
     "traceback": [
      "\u001b[0;31m---------------------------------------------------------------------------\u001b[0m",
      "\u001b[0;31mValueError\u001b[0m                                Traceback (most recent call last)",
      "Cell \u001b[0;32mIn [20], line 3\u001b[0m\n\u001b[1;32m      1\u001b[0m \u001b[38;5;28;01mimport\u001b[39;00m \u001b[38;5;21;01mawkward\u001b[39;00m \u001b[38;5;28;01mas\u001b[39;00m \u001b[38;5;21;01mak\u001b[39;00m\n\u001b[1;32m      2\u001b[0m \u001b[38;5;28;01mimport\u001b[39;00m \u001b[38;5;21;01mnumpy\u001b[39;00m \u001b[38;5;28;01mas\u001b[39;00m \u001b[38;5;21;01mnp\u001b[39;00m\n\u001b[0;32m----> 3\u001b[0m events \u001b[38;5;241m=\u001b[39m \u001b[43mak\u001b[49m\u001b[38;5;241;43m.\u001b[39;49m\u001b[43mfrom_parquet\u001b[49m\u001b[43m(\u001b[49m\u001b[38;5;124;43m\"\u001b[39;49m\u001b[38;5;124;43m./output/example_photons.parquet\u001b[39;49m\u001b[38;5;124;43m\"\u001b[39;49m\u001b[43m)\u001b[49m\n",
      "File \u001b[0;32m/Library/Frameworks/Python.framework/Versions/3.10/lib/python3.10/site-packages/awkward/operations/ak_from_parquet.py:69\u001b[0m, in \u001b[0;36mfrom_parquet\u001b[0;34m(path, columns, row_groups, storage_options, max_gap, max_block, footer_sample_size, generate_bitmasks, highlevel, behavior)\u001b[0m\n\u001b[1;32m     52\u001b[0m \u001b[38;5;28;01mwith\u001b[39;00m ak\u001b[38;5;241m.\u001b[39m_errors\u001b[38;5;241m.\u001b[39mOperationErrorContext(\n\u001b[1;32m     53\u001b[0m     \u001b[38;5;124m\"\u001b[39m\u001b[38;5;124mak.from_parquet\u001b[39m\u001b[38;5;124m\"\u001b[39m,\n\u001b[1;32m     54\u001b[0m     \u001b[38;5;28mdict\u001b[39m(\n\u001b[0;32m   (...)\u001b[0m\n\u001b[1;32m     65\u001b[0m     ),\n\u001b[1;32m     66\u001b[0m ):\n\u001b[1;32m     67\u001b[0m     \u001b[38;5;28;01mimport\u001b[39;00m \u001b[38;5;21;01mawkward\u001b[39;00m\u001b[38;5;21;01m.\u001b[39;00m\u001b[38;5;21;01m_connect\u001b[39;00m\u001b[38;5;21;01m.\u001b[39;00m\u001b[38;5;21;01mpyarrow\u001b[39;00m  \u001b[38;5;66;03m# noqa: F401\u001b[39;00m\n\u001b[0;32m---> 69\u001b[0m     parquet_columns, subform, actual_paths, fs, subrg, row_counts, meta \u001b[38;5;241m=\u001b[39m \u001b[43mmetadata\u001b[49m\u001b[43m(\u001b[49m\n\u001b[1;32m     70\u001b[0m \u001b[43m        \u001b[49m\u001b[43mpath\u001b[49m\u001b[43m,\u001b[49m\n\u001b[1;32m     71\u001b[0m \u001b[43m        \u001b[49m\u001b[43mstorage_options\u001b[49m\u001b[43m,\u001b[49m\n\u001b[1;32m     72\u001b[0m \u001b[43m        \u001b[49m\u001b[43mrow_groups\u001b[49m\u001b[43m,\u001b[49m\n\u001b[1;32m     73\u001b[0m \u001b[43m        \u001b[49m\u001b[43mcolumns\u001b[49m\u001b[43m,\u001b[49m\n\u001b[1;32m     74\u001b[0m \u001b[43m    \u001b[49m\u001b[43m)\u001b[49m\n\u001b[1;32m     75\u001b[0m     \u001b[38;5;28;01mreturn\u001b[39;00m _load(\n\u001b[1;32m     76\u001b[0m         actual_paths,\n\u001b[1;32m     77\u001b[0m         parquet_columns \u001b[38;5;28;01mif\u001b[39;00m columns \u001b[38;5;129;01mis\u001b[39;00m \u001b[38;5;129;01mnot\u001b[39;00m \u001b[38;5;28;01mNone\u001b[39;00m \u001b[38;5;28;01melse\u001b[39;00m \u001b[38;5;28;01mNone\u001b[39;00m,\n\u001b[0;32m   (...)\u001b[0m\n\u001b[1;32m     86\u001b[0m         fs,\n\u001b[1;32m     87\u001b[0m     )\n",
      "File \u001b[0;32m/Library/Frameworks/Python.framework/Versions/3.10/lib/python3.10/site-packages/awkward/operations/ak_from_parquet.py:115\u001b[0m, in \u001b[0;36mmetadata\u001b[0;34m(path, storage_options, row_groups, columns, ignore_metadata, scan_files)\u001b[0m\n\u001b[1;32m    110\u001b[0m         \u001b[38;5;28;01mraise\u001b[39;00m ak\u001b[38;5;241m.\u001b[39m_errors\u001b[38;5;241m.\u001b[39mwrap_error(\u001b[38;5;167;01mValueError\u001b[39;00m(\u001b[38;5;124m\"\u001b[39m\u001b[38;5;124mrow group indices must not repeat\u001b[39m\u001b[38;5;124m\"\u001b[39m))\n\u001b[1;32m    112\u001b[0m fs, _, paths \u001b[38;5;241m=\u001b[39m fsspec\u001b[38;5;241m.\u001b[39mget_fs_token_paths(\n\u001b[1;32m    113\u001b[0m     path, mode\u001b[38;5;241m=\u001b[39m\u001b[38;5;124m\"\u001b[39m\u001b[38;5;124mrb\u001b[39m\u001b[38;5;124m\"\u001b[39m, storage_options\u001b[38;5;241m=\u001b[39mstorage_options\n\u001b[1;32m    114\u001b[0m )\n\u001b[0;32m--> 115\u001b[0m all_paths, path_for_schema, can_sub \u001b[38;5;241m=\u001b[39m \u001b[43m_all_and_metadata_paths\u001b[49m\u001b[43m(\u001b[49m\n\u001b[1;32m    116\u001b[0m \u001b[43m    \u001b[49m\u001b[43mpath\u001b[49m\u001b[43m,\u001b[49m\u001b[43m \u001b[49m\u001b[43mfs\u001b[49m\u001b[43m,\u001b[49m\u001b[43m \u001b[49m\u001b[43mpaths\u001b[49m\u001b[43m,\u001b[49m\u001b[43m \u001b[49m\u001b[43mignore_metadata\u001b[49m\u001b[43m,\u001b[49m\u001b[43m \u001b[49m\u001b[43mscan_files\u001b[49m\n\u001b[1;32m    117\u001b[0m \u001b[43m\u001b[49m\u001b[43m)\u001b[49m\n\u001b[1;32m    119\u001b[0m subrg \u001b[38;5;241m=\u001b[39m [\u001b[38;5;28;01mNone\u001b[39;00m] \u001b[38;5;241m*\u001b[39m \u001b[38;5;28mlen\u001b[39m(all_paths)\n\u001b[1;32m    120\u001b[0m actual_paths \u001b[38;5;241m=\u001b[39m all_paths\n",
      "File \u001b[0;32m/Library/Frameworks/Python.framework/Versions/3.10/lib/python3.10/site-packages/awkward/operations/ak_from_parquet.py:358\u001b[0m, in \u001b[0;36m_all_and_metadata_paths\u001b[0;34m(path, fs, paths, ignore_metadata, scan_files)\u001b[0m\n\u001b[1;32m    355\u001b[0m all_paths \u001b[38;5;241m=\u001b[39m [x \u001b[38;5;28;01mfor\u001b[39;00m x, is_meta, is_comm \u001b[38;5;129;01min\u001b[39;00m all_paths \u001b[38;5;28;01mif\u001b[39;00m \u001b[38;5;129;01mnot\u001b[39;00m is_meta \u001b[38;5;129;01mand\u001b[39;00m \u001b[38;5;129;01mnot\u001b[39;00m is_comm]\n\u001b[1;32m    357\u001b[0m \u001b[38;5;28;01mif\u001b[39;00m \u001b[38;5;28mlen\u001b[39m(all_paths) \u001b[38;5;241m==\u001b[39m \u001b[38;5;241m0\u001b[39m:\n\u001b[0;32m--> 358\u001b[0m     \u001b[38;5;28;01mraise\u001b[39;00m ak\u001b[38;5;241m.\u001b[39m_errors\u001b[38;5;241m.\u001b[39mwrap_error(\n\u001b[1;32m    359\u001b[0m         \u001b[38;5;167;01mValueError\u001b[39;00m(\u001b[38;5;124mf\u001b[39m\u001b[38;5;124m\"\u001b[39m\u001b[38;5;124mno *.parquet or *.parq matches for path \u001b[39m\u001b[38;5;132;01m{\u001b[39;00mpath\u001b[38;5;132;01m!r}\u001b[39;00m\u001b[38;5;124m\"\u001b[39m)\n\u001b[1;32m    360\u001b[0m     )\n\u001b[1;32m    362\u001b[0m \u001b[38;5;28;01mreturn\u001b[39;00m all_paths, path_for_metadata, can_sub\n",
      "\u001b[0;31mValueError\u001b[0m: while calling\n\n    ak.from_parquet(\n        path = './output/example_photons.parquet'\n        columns = None\n        row_groups = None\n        storage_options = None\n        max_gap = 64000\n        max_block = 256000000\n        footer_sample_size = 1000000\n        generate_bitmasks = False\n        highlevel = True\n        behavior = None\n    )\n\nError details: no *.parquet or *.parq matches for path './output/example_photons.parquet'"
     ]
    }
   ],
   "source": [
    "import awkward as ak\n",
    "import numpy as np\n",
    "events = ak.from_parquet(\"./output/example_photons.parquet\")"
   ]
  },
  {
   "cell_type": "markdown",
   "id": "20e4566b-739b-4cd8-9feb-2e6d7dd32e29",
   "metadata": {},
   "source": [
    "## Let's see how many events we simulated"
   ]
  },
  {
   "cell_type": "code",
   "execution_count": 6,
   "id": "8f7d478a-f254-43c5-b9bf-af8ade892fc2",
   "metadata": {},
   "outputs": [
    {
     "name": "stdout",
     "output_type": "stream",
     "text": [
      "Number of events simulated: 10\n"
     ]
    }
   ],
   "source": [
    "print(f\"Number of events simulated: {len(events)}\")"
   ]
  },
  {
   "cell_type": "markdown",
   "id": "7d2e7607-f2af-45b7-a262-c87b35a7480d",
   "metadata": {},
   "source": [
    "## We can access the true Monte Carlo information by looking in the `mc_truth` field\n",
    "\n",
    "Let's do this now for the a single event. Note that in what follows, you can replace `event` with `events` to get the information for all events"
   ]
  },
  {
   "cell_type": "code",
   "execution_count": 7,
   "id": "6d3f4c65-9000-4b71-a3d8-3f4ac851c286",
   "metadata": {},
   "outputs": [
    {
     "data": {
      "text/html": [
       "<pre>{interaction: 1,\n",
       " initial_state_energy: 1.08e+03,\n",
       " initial_state_type: 12,\n",
       " initial_state_zenith: 1.77,\n",
       " initial_state_azimuth: 1.14,\n",
       " initial_state_x: 271,\n",
       " initial_state_y: 554,\n",
       " initial_state_z: -2.22e+03,\n",
       " final_state_energy: [501, 580],\n",
       " final_state_type: [11, -2e+09],\n",
       " final_state_zenith: [1.8, 1.75],\n",
       " final_state_azimuth: [-2, -2],\n",
       " final_state_x: [271, 271],\n",
       " final_state_y: [554, 554],\n",
       " final_state_z: [-2.22e+03, -2.22e+03],\n",
       " final_state_parent: [0, 0],\n",
       " bjorken_x: 0.336,\n",
       " bjorken_y: 0.537,\n",
       " column_depth: 1.5e+05}\n",
       "---------------------------------------\n",
       "type: {\n",
       "    interaction: int64,\n",
       "    initial_state_energy: float64,\n",
       "    initial_state_type: int64,\n",
       "    initial_state_zenith: float64,\n",
       "    initial_state_azimuth: float64,\n",
       "    initial_state_x: float64,\n",
       "    initial_state_y: float64,\n",
       "    initial_state_z: float64,\n",
       "    final_state_energy: var * float64,\n",
       "    final_state_type: var * float64,\n",
       "    final_state_zenith: var * float64,\n",
       "    final_state_azimuth: var * float64,\n",
       "    final_state_x: var * float64,\n",
       "    final_state_y: var * float64,\n",
       "    final_state_z: var * float64,\n",
       "    final_state_parent: var * float64,\n",
       "    bjorken_x: float64,\n",
       "    bjorken_y: float64,\n",
       "    column_depth: float64\n",
       "}</pre>"
      ],
      "text/plain": [
       "<Record {interaction: 1, ...} type='{interaction: int64, initial_state_ener...'>"
      ]
     },
     "execution_count": 7,
     "metadata": {},
     "output_type": "execute_result"
    }
   ],
   "source": [
    "event = events[7]\n",
    "event[\"mc_truth\"]"
   ]
  },
  {
   "cell_type": "code",
   "execution_count": 8,
   "id": "e1d10996-97e7-4d1d-b4b3-d4ee7669be73",
   "metadata": {},
   "outputs": [],
   "source": [
    "# Convenience dictionary for reading the integer particle encoding\n",
    "pdg_dict = {\n",
    "    11: \"E-\",\n",
    "    12: \"NuE\",\n",
    "    13: \"Mu-\",\n",
    "    14: \"NuMu\",\n",
    "    15: \"Tau-\",\n",
    "    16: \"NuTau\",\n",
    "    -11: \"E+\",\n",
    "    -12: \"NuEBar\",\n",
    "    -13: \"Mu+\",\n",
    "    -14: \"NuMuBar\",\n",
    "    -15: \"Tau+\",\n",
    "    -16: \"NuTauBar\",\n",
    "    -2000001006: \"Hadrons\"\n",
    "}\n",
    "# Convenience dictionary for reading interaction type\n",
    "interaction_dict = {\n",
    "    0: \"Neutral current\",\n",
    "    1: \"Charged current\",\n",
    "    2: \"Glashow resonance\"\n",
    "}"
   ]
  },
  {
   "cell_type": "markdown",
   "id": "d757c713-64c1-409a-af9c-f2b61ef02ef8",
   "metadata": {},
   "source": [
    "## The properties of the initial state have the form `initial_state_*`.\n",
    "\n",
    "Let's take a peak at some of these for our event !"
   ]
  },
  {
   "cell_type": "code",
   "execution_count": 9,
   "id": "bbddd116-7f2e-4f1c-a125-e617418042fa",
   "metadata": {},
   "outputs": [
    {
     "data": {
      "text/plain": [
       "\"We can look at ['initial_state_energy', 'initial_state_type', 'initial_state_zenith', 'initial_state_azimuth', 'initial_state_x', 'initial_state_y', 'initial_state_z']\""
      ]
     },
     "execution_count": 9,
     "metadata": {},
     "output_type": "execute_result"
    }
   ],
   "source": [
    "f\"We can look at {[x for x in event['mc_truth'].fields if 'initial' in x]}\""
   ]
  },
  {
   "cell_type": "code",
   "execution_count": 10,
   "id": "e2dedf4a-07ce-4add-85f7-2a4e04d919c3",
   "metadata": {},
   "outputs": [
    {
     "name": "stdout",
     "output_type": "stream",
     "text": [
      "This initial particle was a NuE with energy 1080.9425009611589 GeV.\n"
     ]
    }
   ],
   "source": [
    "init_type = event[\"mc_truth\", \"initial_state_type\"]\n",
    "init_e = event[\"mc_truth\", \"initial_state_energy\"]\n",
    "print(f\"This initial particle was a {pdg_dict[init_type]} with energy {init_e} GeV.\")"
   ]
  },
  {
   "cell_type": "code",
   "execution_count": 11,
   "id": "9645ede3-39c2-4608-8d46-de0475aeec42",
   "metadata": {},
   "outputs": [
    {
     "name": "stdout",
     "output_type": "stream",
     "text": [
      "The interaction vertex was at [  271.38172879   554.00280532 -2217.92241714] m\n"
     ]
    }
   ],
   "source": [
    "init_vertex = np.array([\n",
    "    event[\"mc_truth\", \"initial_state_x\"],\n",
    "    event[\"mc_truth\", \"initial_state_y\"],\n",
    "    event[\"mc_truth\", \"initial_state_z\"]\n",
    "])\n",
    "print(f\"The interaction vertex was at {init_vertex} m\")"
   ]
  },
  {
   "cell_type": "markdown",
   "id": "a94479c5-cb28-4554-b0df-aee5584f9472",
   "metadata": {},
   "source": [
    "## Enough of that, let's look at the final state information"
   ]
  },
  {
   "cell_type": "code",
   "execution_count": 12,
   "id": "c195c4a8-56a9-4ef5-8dd3-e26a81a87b4a",
   "metadata": {},
   "outputs": [
    {
     "data": {
      "text/plain": [
       "\"We can look at ['final_state_energy', 'final_state_type', 'final_state_zenith', 'final_state_azimuth', 'final_state_x', 'final_state_y', 'final_state_z', 'final_state_parent']\""
      ]
     },
     "execution_count": 12,
     "metadata": {},
     "output_type": "execute_result"
    }
   ],
   "source": [
    "f\"We can look at {[x for x in event['mc_truth'].fields if 'final' in x]}\""
   ]
  },
  {
   "cell_type": "markdown",
   "id": "87fa8428-5a65-4b34-8b67-b23b9beec7ec",
   "metadata": {},
   "source": [
    "Since we can't know *a priori* how many final states there will be---think $\\tau$ decay and such---these must be stored in a list. Let's see what type of particles these were. We can also see if this matches with the expected interaction type."
   ]
  },
  {
   "cell_type": "code",
   "execution_count": 13,
   "id": "7be8f699-ddeb-4d23-ac68-550c3a585a55",
   "metadata": {},
   "outputs": [
    {
     "name": "stdout",
     "output_type": "stream",
     "text": [
      "The final products of this interaction are ['E-', 'Hadrons']\n",
      "This was a charged current interaction.\n"
     ]
    }
   ],
   "source": [
    "final_type = event[\"mc_truth\", \"final_state_type\"]\n",
    "print(f\"The final products of this interaction are {[pdg_dict[x] for x in final_type]}\")\n",
    "\n",
    "interaction_type = event[\"mc_truth\", \"interaction\"]\n",
    "print(f\"This was a {interaction_dict[interaction_type].lower()} interaction.\")"
   ]
  },
  {
   "cell_type": "code",
   "execution_count": 14,
   "id": "07d5ded7-ec36-48e4-9a5d-179f925dbfa7",
   "metadata": {},
   "outputs": [
    {
     "name": "stdout",
     "output_type": "stream",
     "text": [
      "The final particles had energies [501, 580] GeV\n"
     ]
    }
   ],
   "source": [
    "final_e = event[\"mc_truth\", \"final_state_energy\"]\n",
    "print(f\"The final particles had energies {final_e} GeV\")"
   ]
  },
  {
   "cell_type": "markdown",
   "id": "8d95fa63-7ab0-4c22-ac24-eb42ab462cf7",
   "metadata": {},
   "source": [
    "## Now we'll check out the photons that arrived at the detector.\n",
    "\n",
    "Let's see what fields are available to us."
   ]
  },
  {
   "cell_type": "code",
   "execution_count": 15,
   "id": "6467a39c-f3d9-41ab-a3d5-0cb397987ff2",
   "metadata": {},
   "outputs": [
    {
     "data": {
      "text/plain": [
       "['sensor_pos_x',\n",
       " 'sensor_pos_y',\n",
       " 'sensor_pos_z',\n",
       " 'string_id',\n",
       " 'sensor_id',\n",
       " 't',\n",
       " 'id_idx']"
      ]
     },
     "execution_count": 15,
     "metadata": {},
     "output_type": "execute_result"
    }
   ],
   "source": [
    "event[\"photons\"].fields"
   ]
  },
  {
   "cell_type": "markdown",
   "id": "2131f398-a7a7-4f72-bd6a-0f8a16231113",
   "metadata": {},
   "source": [
    "We can find the number of photons that reached an OM by checking the length of any of the array that are stored in these fields"
   ]
  },
  {
   "cell_type": "code",
   "execution_count": 16,
   "id": "ae8a2225-411e-441a-bcdd-4e7cd4e01a4f",
   "metadata": {},
   "outputs": [
    {
     "name": "stdout",
     "output_type": "stream",
     "text": [
      "The first event produced 21 photons that reached an OM\n",
      "The number of OMs that saw light is 17\n"
     ]
    }
   ],
   "source": [
    "print(f\"The first event produced {len(event['photons', 't'])} photons that reached an OM\")\n",
    "\n",
    "unique_om = list(set(x for x in zip(event[\"photons\", \"string_id\"], event[\"photons\", \"sensor_id\"])))\n",
    "print(f\"The number of OMs that saw light is {len(unique_om)}\")"
   ]
  },
  {
   "cell_type": "code",
   "execution_count": 17,
   "id": "e18cc0ca-e62b-48a5-82c7-b7337c25ddce",
   "metadata": {},
   "outputs": [
    {
     "name": "stdout",
     "output_type": "stream",
     "text": [
      "The first photon arrived at 732.696655 ns and the last one arrived at 2691.547363 ns\n"
     ]
    }
   ],
   "source": [
    "times = event[\"photons\", \"t\"]\n",
    "print(f\"The first photon arrived at {np.min(times)} ns and the last one arrived at {np.max(times)} ns\")"
   ]
  },
  {
   "cell_type": "markdown",
   "id": "1253dd24-1c36-464d-965c-34428af9d73e",
   "metadata": {},
   "source": [
    "Finally, although it is a bit convoluted, we are able to find which of the final states produced each photon."
   ]
  },
  {
   "cell_type": "code",
   "execution_count": 18,
   "id": "fee5014d-772a-4a22-91f5-47031b650b77",
   "metadata": {},
   "outputs": [
    {
     "name": "stdout",
     "output_type": "stream",
     "text": [
      "['E-', 'E-', 'E-', 'E-', 'E-', 'E-', 'E-', 'E-', 'E-', 'E-', 'E-', 'E-', 'E-', 'E-', 'Hadrons', 'Hadrons', 'Hadrons', 'Hadrons', 'Hadrons', 'Hadrons', 'Hadrons']\n"
     ]
    }
   ],
   "source": [
    "which_final = event[\"mc_truth\", \"final_state_type\", event[\"photons\", \"id_idx\"]-1]\n",
    "print([pdg_dict[x] for x in which_final])"
   ]
  },
  {
   "cell_type": "markdown",
   "id": "72b8a7f8-cc98-4e3e-a298-82eca210fe3c",
   "metadata": {},
   "source": [
    "## Finally, let's get the `Prometheus` configuration information out of this file"
   ]
  },
  {
   "cell_type": "code",
   "execution_count": 19,
   "id": "dbe8e3b9-7114-491c-86cb-7400ce5ffb03",
   "metadata": {},
   "outputs": [
    {
     "name": "stdout",
     "output_type": "stream",
     "text": [
      "general\n",
      "{'version': 'github'}\n",
      "\n",
      "run\n",
      "{'run number': 853, 'nevents': 10, 'storage prefix': './output/', 'outfile': './output/EMinus_Hadrons_seed_853_photons.parquet', 'random state seed': 853, 'subset': None, 'meta_name': 'meta_data_853'}\n",
      "\n",
      "detector\n",
      "{'geo file': '../resources/geofiles/icecube.geo', 'padding': 200}\n",
      "\n",
      "injection\n",
      "{'name': 'LeptonInjector', 'LeptonInjector': {'inject': True, 'paths': {'install location': '/n/holylfs05/LABS/arguelles_delgado_lab/Lab/common_software//lib64/', 'xsec dir': '../resources//cross_section_splines/', 'earth model location': '/n/home12/jlazar/prometheus/resources/earthparams/densities/PREM_south_pole.dat', 'injection file': './output/EMinus_Hadrons_seed_853_LI_output.h5', 'lic file': '/n/home12/jlazar/prometheus/examples/output/853_LI_config.lic', 'diff xsec': '/n/home12/jlazar/prometheus/resources/cross_section_splines/dsdxdy_nubar_CC_iso.fits', 'total xsec': '/n/home12/jlazar/prometheus/resources/cross_section_splines/sigma_nubar_CC_iso.fits', 'lic name': './output/EMinus_Hadrons_seed_853_LI_config.lic'}, 'simulation': {'final state 1': 'EMinus', 'final state 2': 'Hadrons', 'minimal energy': 1000.0, 'maximal energy': 1000000.0, 'power law': 1.0, 'min zenith': 0, 'max zenith': 180, 'min azimuth': 0.0, 'max azimuth': 360.0, 'is ranged': False, 'injection radius': 990.309794079299, 'endcap length': 982.6921961552115, 'cylinder radius': 796.280348927972, 'cylinder height': 1437.3799999999999, 'nevents': 10, 'random state seed': 853}}}\n",
      "\n",
      "lepton propagator\n",
      "{'name': 'old proposal', 'old proposal': {'paths': {'tables path': '~/.local/share/PROPOSAL/tables', 'earth model location': '/n/home12/jlazar/prometheus/resources/earthparams/densities/PREM_south_pole.dat'}, 'simulation': {'vcut': 1, 'ecut': 0.1, 'soft losses': True, 'interpolation': True, 'lpm effect': True, 'continuous randomization': True, 'scattering model': 'Moliere', 'propagation padding': 989.8215434647672, 'medium': 'Ice'}}}\n",
      "\n",
      "photon propagator\n",
      "{'name': 'PPC_CUDA', 'photon field name': 'photons', 'PPC_CUDA': {'paths': {'location': '/n/holylfs05/LABS/arguelles_delgado_lab/Lab/common_software/source/PPC_CUDA_new/', 'force': False, 'ppc_tmpdir:': './.ppc_tmp', 'ppc_tmpfile': './.event_hits853.ppc.tmp', 'f2k_tmpfile': './.event_losses853.f2k.tmp', 'ppc_prefix': '', 'f2k_prefix': '', 'ppctables': '../resources/PPC_tables/spx/', 'ppc_exe': '/n/holylfs05/LABS/arguelles_delgado_lab/Lab/common_software/source/PPC_CUDA_new/ppc', 'outfile': './output/EMinus_Hadrons_seed_853_photons.parquet', 'ppc_tmpdir': './ppc_tmpdir'}, 'simulation': {'device': 0, 'supress_output': True}}}\n",
      "\n"
     ]
    }
   ],
   "source": [
    "import pyarrow.parquet as pq\n",
    "import json\n",
    "\n",
    "config = json.loads(pq.read_metadata('./output/example_photons.parquet').metadata[b'config_prometheus'])\n",
    "for k, v in config.items():\n",
    "    print(k)\n",
    "    print(v)\n",
    "    print()"
   ]
  }
 ],
 "metadata": {
  "kernelspec": {
   "display_name": "Python 3 (ipykernel)",
   "language": "python",
   "name": "python3"
  },
  "language_info": {
   "codemirror_mode": {
    "name": "ipython",
    "version": 3
   },
   "file_extension": ".py",
   "mimetype": "text/x-python",
   "name": "python",
   "nbconvert_exporter": "python",
   "pygments_lexer": "ipython3",
   "version": "3.10.7"
  }
 },
 "nbformat": 4,
 "nbformat_minor": 5
}
