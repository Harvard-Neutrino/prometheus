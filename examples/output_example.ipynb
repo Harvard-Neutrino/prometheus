{
 "cells": [
  {
   "cell_type": "code",
   "execution_count": null,
   "id": "40fa4f6e-df9b-4c78-a4da-9c55d080d826",
   "metadata": {},
   "outputs": [],
   "source": [
    "import awkward as ak\n",
    "import numpy as np\n",
    "events = ak.from_parquet(\"./output/example_photons.parquet\")"
   ]
  },
  {
   "cell_type": "markdown",
   "id": "20e4566b-739b-4cd8-9feb-2e6d7dd32e29",
   "metadata": {},
   "source": [
    "## Let's see how many events we simulated"
   ]
  },
  {
   "cell_type": "code",
   "execution_count": null,
   "id": "8f7d478a-f254-43c5-b9bf-af8ade892fc2",
   "metadata": {},
   "outputs": [],
   "source": [
    "print(f\"Number of events simulated: {len(events)}\")"
   ]
  },
  {
   "cell_type": "markdown",
   "id": "7d2e7607-f2af-45b7-a262-c87b35a7480d",
   "metadata": {},
   "source": [
    "## We can access the true Monte Carlo information by looking in the `mc_truth` field\n",
    "\n",
    "Let's do this now for the a single event. Note that in what follows, you can replace `event` with `events` to get the information for all events"
   ]
  },
  {
   "cell_type": "code",
   "execution_count": null,
   "id": "6d3f4c65-9000-4b71-a3d8-3f4ac851c286",
   "metadata": {},
   "outputs": [],
   "source": [
    "event = events[7]\n",
    "event[\"mc_truth\"]"
   ]
  },
  {
   "cell_type": "code",
   "execution_count": null,
   "id": "e1d10996-97e7-4d1d-b4b3-d4ee7669be73",
   "metadata": {},
   "outputs": [],
   "source": [
    "# Convenience dictionary for reading the integer particle encoding\n",
    "pdg_dict = {\n",
    "    11: \"E-\",\n",
    "    12: \"NuE\",\n",
    "    13: \"Mu-\",\n",
    "    14: \"NuMu\",\n",
    "    15: \"Tau-\",\n",
    "    16: \"NuTau\",\n",
    "    -11: \"E+\",\n",
    "    -12: \"NuEBar\",\n",
    "    -13: \"Mu+\",\n",
    "    -14: \"NuMuBar\",\n",
    "    -15: \"Tau+\",\n",
    "    -16: \"NuTauBar\",\n",
    "    -2000001006: \"Hadrons\"\n",
    "}\n",
    "# Convenience dictionary for reading interaction type\n",
    "interaction_dict = {\n",
    "    0: \"Neutral current\",\n",
    "    1: \"Charged current\",\n",
    "    2: \"Glashow resonance\"\n",
    "}"
   ]
  },
  {
   "cell_type": "markdown",
   "id": "d757c713-64c1-409a-af9c-f2b61ef02ef8",
   "metadata": {},
   "source": [
    "## The properties of the initial state have the form `initial_state_*`.\n",
    "\n",
    "Let's take a peak at some of these for our event !"
   ]
  },
  {
   "cell_type": "code",
   "execution_count": null,
   "id": "bbddd116-7f2e-4f1c-a125-e617418042fa",
   "metadata": {},
   "outputs": [],
   "source": [
    "f\"We can look at {[x for x in event['mc_truth'].fields if 'initial' in x]}\""
   ]
  },
  {
   "cell_type": "code",
   "execution_count": null,
   "id": "e2dedf4a-07ce-4add-85f7-2a4e04d919c3",
   "metadata": {},
   "outputs": [],
   "source": [
    "init_type = event[\"mc_truth\", \"initial_state_type\"]\n",
    "init_e = event[\"mc_truth\", \"initial_state_energy\"]\n",
    "print(f\"This initial particle was a {pdg_dict[init_type]} with energy {init_e} GeV.\")"
   ]
  },
  {
   "cell_type": "code",
   "execution_count": null,
   "id": "9645ede3-39c2-4608-8d46-de0475aeec42",
   "metadata": {},
   "outputs": [],
   "source": [
    "init_vertex = np.array([\n",
    "    event[\"mc_truth\", \"initial_state_x\"],\n",
    "    event[\"mc_truth\", \"initial_state_y\"],\n",
    "    event[\"mc_truth\", \"initial_state_z\"]\n",
    "])\n",
    "print(f\"The interaction vertex was at {init_vertex} m\")"
   ]
  },
  {
   "cell_type": "markdown",
   "id": "a94479c5-cb28-4554-b0df-aee5584f9472",
   "metadata": {},
   "source": [
    "## Enough of that, let's look at the final state information"
   ]
  },
  {
   "cell_type": "code",
   "execution_count": null,
   "id": "c195c4a8-56a9-4ef5-8dd3-e26a81a87b4a",
   "metadata": {},
   "outputs": [],
   "source": [
    "f\"We can look at {[x for x in event['mc_truth'].fields if 'final' in x]}\""
   ]
  },
  {
   "cell_type": "markdown",
   "id": "87fa8428-5a65-4b34-8b67-b23b9beec7ec",
   "metadata": {},
   "source": [
    "Since we can't know *a priori* how many final states there will be---think $\\tau$ decay and such---these must be stored in a list. Let's see what type of particles these were. We can also see if this matches with the expected interaction type."
   ]
  },
  {
   "cell_type": "code",
   "execution_count": null,
   "id": "7be8f699-ddeb-4d23-ac68-550c3a585a55",
   "metadata": {},
   "outputs": [],
   "source": [
    "final_type = event[\"mc_truth\", \"final_state_type\"]\n",
    "print(f\"The final products of this interaction are {[pdg_dict[x] for x in final_type]}\")\n",
    "\n",
    "interaction_type = event[\"mc_truth\", \"interaction\"]\n",
    "print(f\"This was a {interaction_dict[interaction_type].lower()} interaction.\")"
   ]
  },
  {
   "cell_type": "code",
   "execution_count": null,
   "id": "07d5ded7-ec36-48e4-9a5d-179f925dbfa7",
   "metadata": {},
   "outputs": [],
   "source": [
    "final_e = event[\"mc_truth\", \"final_state_energy\"]\n",
    "print(f\"The final particles had energies {final_e} GeV\")"
   ]
  },
  {
   "cell_type": "markdown",
   "id": "8d95fa63-7ab0-4c22-ac24-eb42ab462cf7",
   "metadata": {},
   "source": [
    "## Now we'll check out the photons that arrived at the detector.\n",
    "\n",
    "Let's see what fields are available to us."
   ]
  },
  {
   "cell_type": "code",
   "execution_count": null,
   "id": "6467a39c-f3d9-41ab-a3d5-0cb397987ff2",
   "metadata": {},
   "outputs": [],
   "source": [
    "event[\"photons\"].fields"
   ]
  },
  {
   "cell_type": "markdown",
   "id": "2131f398-a7a7-4f72-bd6a-0f8a16231113",
   "metadata": {},
   "source": [
    "We can find the number of photons that reached an OM by checking the length of any of the array that are stored in these fields"
   ]
  },
  {
   "cell_type": "code",
   "execution_count": null,
   "id": "ae8a2225-411e-441a-bcdd-4e7cd4e01a4f",
   "metadata": {},
   "outputs": [],
   "source": [
    "print(f\"The first event produced {len(event['photons', 't'])} photons that reached an OM\")\n",
    "\n",
    "unique_om = list(set(x for x in zip(event[\"photons\", \"string_id\"], event[\"photons\", \"sensor_id\"])))\n",
    "print(f\"The number of OMs that saw light is {len(unique_om)}\")"
   ]
  },
  {
   "cell_type": "code",
   "execution_count": null,
   "id": "e18cc0ca-e62b-48a5-82c7-b7337c25ddce",
   "metadata": {},
   "outputs": [],
   "source": [
    "times = event[\"photons\", \"t\"]\n",
    "print(f\"The first photon arrived at {np.min(times)} ns and the last one arrived at {np.max(times)} ns\")"
   ]
  },
  {
   "cell_type": "markdown",
   "id": "1253dd24-1c36-464d-965c-34428af9d73e",
   "metadata": {},
   "source": [
    "Finally, although it is a bit convoluted, we are able to find which of the final states produced each photon."
   ]
  },
  {
   "cell_type": "code",
   "execution_count": null,
   "id": "fee5014d-772a-4a22-91f5-47031b650b77",
   "metadata": {},
   "outputs": [],
   "source": [
    "which_final = event[\"mc_truth\", \"final_state_type\", event[\"photons\", \"id_idx\"]-1]\n",
    "print([pdg_dict[x] for x in which_final])"
   ]
  },
  {
   "cell_type": "markdown",
   "id": "72b8a7f8-cc98-4e3e-a298-82eca210fe3c",
   "metadata": {},
   "source": [
    "## Finally, let's get the `Prometheus` configuration information out of this file"
   ]
  },
  {
   "cell_type": "code",
   "execution_count": null,
   "id": "dbe8e3b9-7114-491c-86cb-7400ce5ffb03",
   "metadata": {},
   "outputs": [],
   "source": [
    "import pyarrow.parquet as pq\n",
    "import json\n",
    "\n",
    "config = json.loads(pq.read_metadata('./output/example_photons.parquet').metadata[b'config_prometheus'])\n",
    "for k, v in config.items():\n",
    "    print(k)\n",
    "    print(v)\n",
    "    print()"
   ]
  },
  {
   "cell_type": "code",
   "execution_count": null,
   "id": "37b346f4-4a90-494b-bfc2-a334b465c6b8",
   "metadata": {},
   "outputs": [],
   "source": []
  },
  {
   "cell_type": "code",
   "execution_count": null,
   "id": "eabc19a4-1ee0-47cd-8ff0-d6eb4030293d",
   "metadata": {},
   "outputs": [],
   "source": []
  }
 ],
 "metadata": {
  "kernelspec": {
   "display_name": "Python 3 (ipykernel)",
   "language": "python",
   "name": "python3"
  },
  "language_info": {
   "codemirror_mode": {
    "name": "ipython",
    "version": 3
   },
   "file_extension": ".py",
   "mimetype": "text/x-python",
   "name": "python",
   "nbconvert_exporter": "python",
   "pygments_lexer": "ipython3",
   "version": "3.10.7"
  }
 },
 "nbformat": 4,
 "nbformat_minor": 5
}
