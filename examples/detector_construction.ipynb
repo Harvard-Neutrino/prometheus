{
 "cells": [
  {
   "cell_type": "code",
   "execution_count": 1,
   "metadata": {},
   "outputs": [],
   "source": [
    "# detector_construction.ipynb\n",
    "# Authors: Stephan Meighen-Berger\n",
    "# Example how to build a detector"
   ]
  },
  {
   "cell_type": "code",
   "execution_count": 2,
   "metadata": {},
   "outputs": [
    {
     "name": "stderr",
     "output_type": "stream",
     "text": [
      "WARNING:absl:No GPU/TPU found, falling back to CPU. (Set TF_CPP_MIN_LOG_LEVEL=0 and rerun for more info.)\n"
     ]
    }
   ],
   "source": [
    "# imports\n",
    "import numpy as np\n",
    "import matplotlib.pyplot as plt\n",
    "import sys\n",
    "sys.path.append('../')\n",
    "# Hebe imports\n",
    "from hebe import HEBE, config\n",
    "from jax.config import config as jconfig"
   ]
  },
  {
   "cell_type": "code",
   "execution_count": 3,
   "metadata": {},
   "outputs": [],
   "source": [
    "# Jax stuff\n",
    "jconfig.update(\"jax_enable_x64\", True)"
   ]
  },
  {
   "cell_type": "code",
   "execution_count": 4,
   "metadata": {},
   "outputs": [],
   "source": [
    "# Here we are generating evenly spaced lines in a circle, e.g. KM3NeT\n",
    "def sunflower(n, alpha=0, geodesic=False):\n",
    "    points = []\n",
    "    phi = (1 + np.sqrt(5)) / 2  # Golden ratio\n",
    "    angle_stride = 360 * phi if geodesic else 2 * np.pi / phi ** 2\n",
    "    b = round(alpha * np.sqrt(n))  # number of boundary points\n",
    "    for k in range(1, n + 1):\n",
    "        r = radius(k, n, b)\n",
    "        theta = k * angle_stride\n",
    "        points.append((r * np.cos(theta), r * np.sin(theta)))\n",
    "    return np.array(points)\n",
    "\n",
    "def radius(k, n, b):\n",
    "    if k > n - b:\n",
    "        return 1.0\n",
    "    else:\n",
    "        return np.sqrt(k - 0.5) / np.sqrt(n - (b + 1) / 2)"
   ]
  },
  {
   "cell_type": "code",
   "execution_count": 5,
   "metadata": {},
   "outputs": [
    {
     "data": {
      "image/png": "[encoded data removed]",
      "text/plain": [
       "<Figure size 432x288 with 1 Axes>"
      ]
     },
     "metadata": {
      "needs_background": "light"
     },
     "output_type": "display_data"
    }
   ],
   "source": [
    "# Plotting points\n",
    "fig, ax = plt.subplots()\n",
    "points = sunflower(115, alpha=0.2, geodesic=False) * 100.\n",
    "xs = [point[0] for point in points]\n",
    "ys = [point[1] for point in points]\n",
    "ax.scatter(xs, ys)\n",
    "ax.set_aspect('equal') # display as square plot with equal axes\n",
    "plt.show()"
   ]
  },
  {
   "cell_type": "code",
   "execution_count": 6,
   "metadata": {},
   "outputs": [
    {
     "data": {
      "text/plain": [
       "9.090909090909092"
      ]
     },
     "execution_count": 6,
     "metadata": {},
     "output_type": "execute_result"
    }
   ],
   "source": [
    "200 / 22"
   ]
  },
  {
   "cell_type": "code",
   "execution_count": 7,
   "metadata": {},
   "outputs": [],
   "source": [
    "# Generating modules per line\n",
    "# So inefficient\n",
    "nz_list = []\n",
    "dist_z_list = []\n",
    "for line in points:\n",
    "    nz_list.append(22)\n",
    "    dist_z_list.append(9.09)\n",
    "# Combined array\n",
    "detector_specs = np.array([\n",
    "    points[:, 0],\n",
    "    points[:, 1],\n",
    "    nz_list,\n",
    "    dist_z_list\n",
    "])\n",
    "np.savetxt('../hebe/data/km3net_orca.txt', detector_specs)"
   ]
  },
  {
   "cell_type": "code",
   "execution_count": 8,
   "metadata": {},
   "outputs": [
    {
     "name": "stdout",
     "output_type": "stream",
     "text": [
      "-------------------------------------------\n",
      "Dumping config file\n",
      "Finished dump\n",
      "-------------------------------------------\n",
      "-------------------------------------------\n",
      "Setting up the detector\n",
      "Starting up the detector handler\n",
      "Building a new detector\n",
      "Finished the detector\n",
      "-------------------------------------------\n",
      "Setting up leptopn propagation\n",
      "Using proposal\n",
      "The proposal version is 7.3.1\n",
      "This assumes a homogeneous medium!\n",
      "Using new setup\n",
      "----------------------------------------------------\n",
      "Setting up proposal\n",
      "Finished setup\n",
      "----------------------------------------------------\n",
      "Finished the lepton propagator\n",
      "-------------------------------------------\n",
      "-------------------------------------------\n",
      "Setting up photon propagation\n",
      "--------------------------------------------\n",
      "Constructing the photon propagator\n",
      "Using olympus\n",
      "Setting up the medium\n",
      "Finished the medium\n",
      "-------------------------------------------------------\n",
      "Setting up the photon generator\n",
      "Finished the photon generator\n",
      "--------------------------------------------\n",
      "Finished the photon propagator\n",
      "-------------------------------------------\n",
      "Setup and preliminary simulations took 0.710042 seconds\n",
      "-------------------------------------------\n"
     ]
    }
   ],
   "source": [
    "# HEBE Config\n",
    "config[\"general\"][\"random state seed\"] = 1337\n",
    "config[\"general\"][\"meta_name\"] = 'meta_data_%d' % 1337\n",
    "config['general']['clean up'] = False\n",
    "config['lepton injector']['simulation']['output name'] = \"./output/data_%d_output_LI.h5\" % 1337\n",
    "config['photon propagator']['storage location'] = './output/rset_%d_' % 1337\n",
    "config['lepton injector']['simulation']['nevents'] = 10\n",
    "config['lepton injector']['simulation']['minimal energy'] = 1e1\n",
    "config['lepton injector']['simulation']['maximal energy'] = 1e2\n",
    "config['lepton injector']['simulation'][\"injection radius\"] = 150\n",
    "config['lepton injector']['simulation'][\"endcap length\"] = 200\n",
    "config['lepton injector']['simulation'][\"cylinder radius\"] = 150\n",
    "config['lepton injector']['simulation'][\"cylinder height\"] = 300\n",
    "config['detector']['injection offset'] = [0., 0., 0]\n",
    "config['photon propagator']['name'] = 'olympus'\n",
    "config[\"detector\"]['new detector'] = True\n",
    "config[\"detector\"]['detector specs file'] = '../hebe/data/km3net_orca.txt'\n",
    "config[\"detector\"][\"file name\"] = '../hebe/data/km3net_orca-f2k'\n",
    "hebe = HEBE()"
   ]
  },
  {
   "cell_type": "code",
   "execution_count": 9,
   "metadata": {},
   "outputs": [
    {
     "name": "stdout",
     "output_type": "stream",
     "text": [
      "-------------------------------------------\n",
      "Setting up and running LI\n",
      "Injecting\n",
      "Setting up the LI\n",
      "Fetching parameters and setting paths\n",
      "Setting the simulation parameters for the LI\n",
      "Setting up the LI object\n",
      "Setting injection parameters\n",
      "Building the injection handler\n",
      "Defining the earth model\n",
      "Earth model location to use: /opt/LI/source/resources/earthparams/ With the model Planet\n",
      "Planet earthparams/\n",
      "Setting the seed\n",
      "Defining the output location\n",
      "Finished LI, loading data\n",
      "Finished loading\n",
      "Creating the data set for further propagation\n",
      "Using the full data set\n",
      "Finished the data set\n",
      "Injection simulations took 0.056882 seconds\n",
      "-------------------------------------------\n",
      "-------------------------------------------\n",
      "-------------------------------------------\n",
      "-------------------------------------------\n",
      "Starting particle loop\n",
      "-------------------------------\n",
      "Starting set\n",
      "Creating Controller\n",
      "Initializing Earth\n",
      "Using... PREM... Standard Rock... \n",
      "Freezing ice\n",
      "Executing Injectors\n",
      "Starting up VolumeInjector\n"
     ]
    },
    {
     "name": "stderr",
     "output_type": "stream",
     "text": [
      " 80%|████████  | 8/10 [01:38<00:20, 10.12s/it]"
     ]
    }
   ],
   "source": [
    "hebe.sim()"
   ]
  },
  {
   "cell_type": "code",
   "execution_count": null,
   "metadata": {},
   "outputs": [],
   "source": []
  }
 ],
 "metadata": {
  "interpreter": {
   "hash": "2f394aca7ca06fed1e6064aef884364492d7cdda3614a461e02e6407fc40ba69"
  },
  "kernelspec": {
   "display_name": "Python 3.9.7 ('base')",
   "language": "python",
   "name": "python3"
  },
  "language_info": {
   "codemirror_mode": {
    "name": "ipython",
    "version": 3
   },
   "file_extension": ".py",
   "mimetype": "text/x-python",
   "name": "python",
   "nbconvert_exporter": "python",
   "pygments_lexer": "ipython3",
   "version": "3.9.7"
  },
  "orig_nbformat": 4
 },
 "nbformat": 4,
 "nbformat_minor": 2
}
