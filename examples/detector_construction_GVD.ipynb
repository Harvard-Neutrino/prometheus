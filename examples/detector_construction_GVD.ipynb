{
 "cells": [
  {
   "cell_type": "code",
   "execution_count": 1,
   "metadata": {},
   "outputs": [],
   "source": [
    "# detector_construction_GVD.ipynb\n",
    "# Authors: Stephan Meighen-Berger\n",
    "# Example how to build GVD"
   ]
  },
  {
   "cell_type": "code",
   "execution_count": 2,
   "metadata": {},
   "outputs": [
    {
     "name": "stderr",
     "output_type": "stream",
     "text": [
      "WARNING:absl:No GPU/TPU found, falling back to CPU. (Set TF_CPP_MIN_LOG_LEVEL=0 and rerun for more info.)\n"
     ]
    }
   ],
   "source": [
    "# imports\n",
    "import numpy as np\n",
    "import matplotlib.pyplot as plt\n",
    "import sys\n",
    "sys.path.append('../')\n",
    "# Hebe imports\n",
    "from hebe import HEBE, config\n",
    "from jax.config import config as jconfig"
   ]
  },
  {
   "cell_type": "code",
   "execution_count": 3,
   "metadata": {},
   "outputs": [],
   "source": [
    "# Jax stuff\n",
    "jconfig.update(\"jax_enable_x64\", True)"
   ]
  },
  {
   "cell_type": "code",
   "execution_count": 4,
   "metadata": {},
   "outputs": [
    {
     "data": {
      "text/plain": [
       "array([[  0.        ,   0.        ],\n",
       "       [  0.        ,  60.        ],\n",
       "       [ 46.90988895,  37.40938811],\n",
       "       [ 58.49567473, -13.35125604],\n",
       "       [ 26.03302435, -54.05813207],\n",
       "       [-26.03302435, -54.05813207],\n",
       "       [-58.49567473, -13.35125604],\n",
       "       [-46.90988895,  37.40938811]])"
      ]
     },
     "execution_count": 4,
     "metadata": {},
     "output_type": "execute_result"
    }
   ],
   "source": [
    "# Here we asre generating evenly spaced lines in a circle, e.g. KM3NeT\n",
    "def circle_points(r, n):\n",
    "    t = np.linspace(0, 2 * np.pi, n, endpoint=False)\n",
    "    x = r * np.sin(t)\n",
    "    y = r * np.cos(t)\n",
    "    return np.c_[x, y]\n",
    "def gvd_cluter(x, y):\n",
    "    circle = circle_points(1., 7)\n",
    "    appended = np.insert(circle, 0, [0., 0.], axis=0)\n",
    "    appended[:, 0] = appended[:, 0] + x\n",
    "    appended[:, 1] = appended[:, 1] + y\n",
    "    return appended * 60.\n",
    "gvd_cluter(0., 0.)"
   ]
  },
  {
   "cell_type": "code",
   "execution_count": 5,
   "metadata": {},
   "outputs": [
    {
     "data": {
      "image/png": "[encoded data removed]",
      "text/plain": [
       "<Figure size 432x288 with 1 Axes>"
      ]
     },
     "metadata": {
      "needs_background": "light"
     },
     "output_type": "display_data"
    }
   ],
   "source": [
    "# Plotting points\n",
    "fig, ax = plt.subplots()\n",
    "points = gvd_cluter(0., 0.)\n",
    "xs = [point[0] for point in points]\n",
    "ys = [point[1] for point in points]\n",
    "ax.scatter(xs, ys)\n",
    "ax.set_aspect('equal') # display as square plot with equal axes\n",
    "plt.show()"
   ]
  },
  {
   "cell_type": "code",
   "execution_count": 7,
   "metadata": {},
   "outputs": [],
   "source": [
    "# Generating modules per line\n",
    "# So inefficient\n",
    "nz_list = []\n",
    "dist_z_list = []\n",
    "for line in points:\n",
    "    nz_list.append(36)\n",
    "    dist_z_list.append(15.)\n",
    "# Combined array\n",
    "detector_specs = np.array([\n",
    "    points[:, 0],\n",
    "    points[:, 1],\n",
    "    nz_list,\n",
    "    dist_z_list\n",
    "])\n",
    "np.savetxt('../hebe/data/gvd_single_cluster.txt', detector_specs)"
   ]
  },
  {
   "cell_type": "code",
   "execution_count": 8,
   "metadata": {},
   "outputs": [
    {
     "name": "stdout",
     "output_type": "stream",
     "text": [
      "-------------------------------------------\n",
      "Dumping config file\n",
      "Finished dump\n",
      "-------------------------------------------\n",
      "-------------------------------------------\n",
      "Setting up the detector\n",
      "Starting up the detector handler\n",
      "Building a new detector\n",
      "Finished the detector\n",
      "-------------------------------------------\n",
      "Setting up leptopn propagation\n",
      "Using proposal\n",
      "The proposal version is 7.3.1\n",
      "This assumes a homogeneous medium!\n",
      "Using new setup\n",
      "----------------------------------------------------\n",
      "Setting up proposal\n",
      "Finished setup\n",
      "----------------------------------------------------\n",
      "Finished the lepton propagator\n",
      "-------------------------------------------\n",
      "-------------------------------------------\n",
      "Setting up photon propagation\n",
      "--------------------------------------------\n",
      "Constructing the photon propagator\n",
      "Using olympus\n",
      "Setting up the medium\n",
      "Finished the medium\n",
      "-------------------------------------------------------\n",
      "Setting up the photon generator\n",
      "Finished the photon generator\n",
      "--------------------------------------------\n",
      "Finished the photon propagator\n",
      "-------------------------------------------\n",
      "Setup and preliminary simulations took 0.337851 seconds\n",
      "-------------------------------------------\n"
     ]
    }
   ],
   "source": [
    "# HEBE Config\n",
    "config[\"general\"][\"random state seed\"] = 1337\n",
    "config[\"general\"][\"meta_name\"] = 'meta_data_%d' % 1337\n",
    "config['general']['clean up'] = False\n",
    "config['lepton injector']['simulation']['output name'] = \"./output/gvd_%d_output_LI.h5\" % 1337\n",
    "config['photon propagator']['storage location'] = './output/gvd_%d_' % 1337\n",
    "config['lepton injector']['simulation']['nevents'] = 10\n",
    "config['lepton injector']['simulation']['minimal energy'] = 1e4\n",
    "config['lepton injector']['simulation']['maximal energy'] = 1e5\n",
    "config['lepton injector']['simulation'][\"injection radius\"] = 100\n",
    "config['lepton injector']['simulation'][\"endcap length\"] = 540\n",
    "config['lepton injector']['simulation'][\"cylinder radius\"] = 100\n",
    "config['lepton injector']['simulation'][\"cylinder height\"] = 540\n",
    "config['detector']['injection offset'] = [0., 0., 0]\n",
    "config['photon propagator']['name'] = 'olympus'\n",
    "config[\"detector\"]['new detector'] = True\n",
    "config[\"detector\"]['detector specs file'] = '../hebe/data/gvd_single_cluster.txt'\n",
    "config[\"detector\"][\"file name\"] = '../hebe/data/gvd_single_cluster-f2k'\n",
    "hebe = HEBE()"
   ]
  },
  {
   "cell_type": "code",
   "execution_count": 9,
   "metadata": {},
   "outputs": [
    {
     "name": "stdout",
     "output_type": "stream",
     "text": [
      "-------------------------------------------\n",
      "Setting up and running LI\n",
      "Injecting\n",
      "Setting up the LI\n",
      "Fetching parameters and setting paths\n",
      "Setting the simulation parameters for the LI\n",
      "Setting up the LI object\n",
      "Setting injection parameters\n",
      "Building the injection handler\n",
      "Defining the earth model\n",
      "Earth model location to use: /opt/LI/source/resources/earthparams/ With the model Planet\n",
      "Planet earthparams/\n",
      "Setting the seed\n",
      "Defining the output location\n",
      "Creating Controller\n",
      "Initializing Earth\n",
      "Using... PREM... Standard Rock... \n",
      "Freezing ice\n",
      "Executing Injectors\n",
      "Note: LIC file already exists, appending to end.\n",
      "Starting up VolumeInjector\n",
      "Finished LI, loading data\n",
      "Finished loading\n",
      "Creating the data set for further propagation\n",
      "Using the full data set\n",
      "Finished the data set\n",
      "Injection simulations took 0.042825 seconds\n",
      "-------------------------------------------\n",
      "-------------------------------------------\n",
      "-------------------------------------------\n",
      "-------------------------------------------\n",
      "Starting particle loop\n",
      "-------------------------------\n",
      "Starting set\n"
     ]
    },
    {
     "name": "stderr",
     "output_type": "stream",
     "text": [
      "100%|██████████| 10/10 [03:27<00:00, 20.78s/it]\n"
     ]
    },
    {
     "name": "stdout",
     "output_type": "stream",
     "text": [
      "-------------------------------\n",
      "-------------------------------\n",
      "Starting set\n"
     ]
    },
    {
     "name": "stderr",
     "output_type": "stream",
     "text": [
      "100%|██████████| 10/10 [01:06<00:00,  6.62s/it]\n"
     ]
    },
    {
     "name": "stdout",
     "output_type": "stream",
     "text": [
      "-------------------------------\n",
      "Finished particle loop\n",
      "-------------------------------------------\n",
      "The simulation took 273.998816 seconds\n",
      "-------------------------------------------\n",
      "-------------------------------------------\n",
      "Results are stored in self.results\n",
      "-------------------------------------------\n",
      "Dumping results\n",
      "Storing metadata file\n",
      "Adding metadata\n",
      "Finished new data file\n",
      "Finished meta data file\n",
      "Finished dump\n",
      "Have a good day!\n",
      "-------------------------------------------\n",
      "-------------------------------------------\n"
     ]
    }
   ],
   "source": [
    "hebe.sim()"
   ]
  },
  {
   "cell_type": "code",
   "execution_count": 10,
   "metadata": {},
   "outputs": [],
   "source": [
    "# Plotting\n",
    "import awkward as ak\n",
    "import numpy as np\n",
    "import h5py\n",
    "import pyarrow as pa\n",
    "import pyarrow.parquet as pq\n",
    "import json"
   ]
  },
  {
   "cell_type": "code",
   "execution_count": 11,
   "metadata": {},
   "outputs": [],
   "source": [
    "# Truth fetcher\n",
    "def truth_fetcher(filename: str):\n",
    "    \"\"\" Fetches the true values from the injection file\n",
    "\n",
    "    Parameters\n",
    "    ----------\n",
    "    filename : str\n",
    "        File to load\n",
    "\n",
    "    Returns\n",
    "    -------\n",
    "    truth : dict\n",
    "        Dictionary containig the injection information\n",
    "    \"\"\"\n",
    "    LI_raw = h5py.File(\n",
    "        filename\n",
    "    )\n",
    "    final_states = {}\n",
    "    for elem in config['run']['data sets']:\n",
    "        if elem[0]:\n",
    "            final_states[elem[1]] = (\n",
    "                LI_raw[config['run']['group name']][elem[1]]\n",
    "            )\n",
    "    print('Finished loading')\n",
    "    # Creating data set\n",
    "    print('Creating the data set for further propagation')\n",
    "    truth = {}\n",
    "    for key in final_states.keys():\n",
    "        print('-------------------------------')\n",
    "        print('Starting set')\n",
    "        truth[key] = []\n",
    "        for event in final_states[key]:\n",
    "            # Making sure the event id is okay:\n",
    "            if event[1] in config['particles']['explicit']:\n",
    "                event_id = event[1]\n",
    "            else:\n",
    "                event_id = config['particles']['replacement']\n",
    "            pos = np.array(event[2])\n",
    "            # Introducing an injection offset caused by the different\n",
    "            # coordinate systems between LI and the t2k file.\n",
    "            pos = pos + np.array(config['detector']['injection offset'])\n",
    "            truth[key].append({\n",
    "                \"time\": 0.,\n",
    "                \"theta\": event[3][0],\n",
    "                \"phi\": event[3][1],\n",
    "                # TODO: This needs to be removed once the coordinate\n",
    "                # systems match!\n",
    "                \"pos\": pos,\n",
    "                \"energy\": event[4],\n",
    "                \"particle_id\": event_id,\n",
    "                'length': config['lepton propagator']['track length'],\n",
    "                'event id': event_id\n",
    "            })\n",
    "    return truth"
   ]
  },
  {
   "cell_type": "code",
   "execution_count": 12,
   "metadata": {},
   "outputs": [
    {
     "name": "stdout",
     "output_type": "stream",
     "text": [
      "Finished loading\n",
      "Creating the data set for further propagation\n",
      "-------------------------------\n",
      "Starting set\n",
      "-------------------------------\n",
      "Starting set\n"
     ]
    }
   ],
   "source": [
    "set_id = '1337'\n",
    "truth_dict = truth_fetcher('./output/gvd_' + set_id + '_output_LI.h5')\n",
    "config[\"detector\"][\"file name\"] = '../hebe/data/gvd_single_cluster-f2k'"
   ]
  },
  {
   "cell_type": "code",
   "execution_count": 13,
   "metadata": {},
   "outputs": [],
   "source": [
    "results = ak.from_parquet(\n",
    "    config['photon propagator']['storage location'] + 'final_1' + '.parquet'\n",
    ")"
   ]
  },
  {
   "cell_type": "code",
   "execution_count": 16,
   "metadata": {},
   "outputs": [
    {
     "name": "stdout",
     "output_type": "stream",
     "text": [
      "Fraction of useful events: 0.700000\n",
      "0\n",
      "0\n"
     ]
    }
   ],
   "source": [
    "config['plot']['zrange'] = [-300, 300]\n",
    "config['plot']['xrange'] = [-100, 100]\n",
    "config['plot']['yrange'] = [-100, 100]\n",
    "hit_set = []\n",
    "minimal_hits = 1\n",
    "for id_event, event in enumerate(results):\n",
    "    total_hits = sum([len(dom) for dom in event])\n",
    "    if total_hits > minimal_hits:\n",
    "        hit_set.append([truth_dict['final_1'][id_event], total_hits, event])\n",
    "max_event = np.argmax([event[1] for event in hit_set])\n",
    "dom_hits_list = []\n",
    "for event in hit_set:\n",
    "    counter = 0\n",
    "    for dom in event[2]:\n",
    "        if len(dom) > 0:\n",
    "            counter += 1\n",
    "    dom_hits_list.append(counter)\n",
    "max_dom = np.argmax(dom_hits_list)\n",
    "print(\"Fraction of useful events: %f\" % (len(hit_set) / len(results)))\n",
    "print(max_event)\n",
    "print(max_dom)"
   ]
  },
  {
   "cell_type": "code",
   "execution_count": 17,
   "metadata": {},
   "outputs": [
    {
     "name": "stdout",
     "output_type": "stream",
     "text": [
      "Most hits\n"
     ]
    },
    {
     "name": "stderr",
     "output_type": "stream",
     "text": [
      "/root/miniconda3/lib/python3.9/site-packages/awkward/_connect/_numpy.py:195: RuntimeWarning:\n",
      "\n",
      "divide by zero encountered in log10\n",
      "\n"
     ]
    },
    {
     "data": {
      "application/vnd.plotly.v1+json": {
       "config": {
        "plotlyServerURL": "https://plot.ly"
       },
       "data": [
        {
         "marker": {
          "color": [
           0.47712125471966244,
           0.6989700043360189,
           0.7781512503836436,
           1.146128035678238,
           1.3979400086720377,
           1.5185139398778875,
           1.380211241711606,
           1.0791812460476249,
           0.7781512503836436,
           0.3010299956639812,
           0.6020599913279624,
           0.6020599913279624,
           0.6020599913279624,
           0.47712125471966244,
           0.6989700043360189,
           0.47712125471966244,
           0.6989700043360189,
           1.146128035678238,
           1.3010299956639813,
           1.6989700043360187,
           1.968482948553935,
           1.8864907251724818,
           2.060697840353612,
           1.8808135922807914,
           1.5314789170422551,
           0.3010299956639812,
           0.3010299956639812,
           0.6020599913279624,
           1.041392685158225,
           1.5440680443502757,
           2.0453229787866576,
           3.0492180226701815,
           2.828015064223977,
           2.9585638832219674,
           2.255272505103306,
           1.6434526764861874,
           0.3010299956639812,
           0.6989700043360189,
           0.9542425094393249,
           1.414973347970818,
           1.6812412373755872,
           1.5440680443502757,
           1.1139433523068367,
           0.8450980400142568,
           0.47712125471966244,
           0.3010299956639812,
           0.6020599913279624,
           0.47712125471966244,
           0.9030899869919435,
           0.3010299956639812,
           0.3010299956639812,
           0.3010299956639812,
           0.3010299956639812,
           0.47712125471966244
          ],
          "colorscale": [
           [
            0,
            "#440154"
           ],
           [
            0.1111111111111111,
            "#482878"
           ],
           [
            0.2222222222222222,
            "#3e4989"
           ],
           [
            0.3333333333333333,
            "#31688e"
           ],
           [
            0.4444444444444444,
            "#26828e"
           ],
           [
            0.5555555555555556,
            "#1f9e89"
           ],
           [
            0.6666666666666666,
            "#35b779"
           ],
           [
            0.7777777777777778,
            "#6ece58"
           ],
           [
            0.8888888888888888,
            "#b5de2b"
           ],
           [
            1,
            "#fde725"
           ]
          ],
          "opacity": 0.8,
          "showscale": true,
          "size": 5
         },
         "mode": "markers",
         "type": "scatter3d",
         "x": [
          0,
          0,
          0,
          0,
          0,
          0,
          0,
          0,
          0,
          0,
          0,
          0,
          0,
          0,
          0,
          46.909888948081786,
          46.909888948081786,
          46.909888948081786,
          46.909888948081786,
          46.909888948081786,
          46.909888948081786,
          46.909888948081786,
          46.909888948081786,
          46.909888948081786,
          46.909888948081786,
          58.495674730909414,
          58.495674730909414,
          58.495674730909414,
          58.495674730909414,
          58.495674730909414,
          58.495674730909414,
          58.495674730909414,
          58.495674730909414,
          58.495674730909414,
          58.495674730909414,
          58.495674730909414,
          26.033024347053495,
          26.033024347053495,
          26.033024347053495,
          26.033024347053495,
          26.033024347053495,
          26.033024347053495,
          26.033024347053495,
          26.033024347053495,
          -26.03302434705348,
          -26.03302434705348,
          -26.03302434705348,
          -26.03302434705348,
          -26.03302434705348,
          -58.495674730909414,
          -58.495674730909414,
          -46.90988894808179,
          -46.90988894808179,
          -46.90988894808179
         ],
         "y": [
          0,
          0,
          0,
          0,
          0,
          0,
          0,
          0,
          0,
          60,
          60,
          60,
          60,
          60,
          60,
          37.40938811152402,
          37.40938811152402,
          37.40938811152402,
          37.40938811152402,
          37.40938811152402,
          37.40938811152402,
          37.40938811152402,
          37.40938811152402,
          37.40938811152402,
          37.40938811152402,
          -13.35125603737886,
          -13.35125603737886,
          -13.35125603737886,
          -13.35125603737886,
          -13.35125603737886,
          -13.35125603737886,
          -13.35125603737886,
          -13.35125603737886,
          -13.35125603737886,
          -13.35125603737886,
          -13.35125603737886,
          -54.05813207414514,
          -54.05813207414514,
          -54.05813207414514,
          -54.05813207414514,
          -54.05813207414514,
          -54.05813207414514,
          -54.05813207414514,
          -54.05813207414514,
          -54.05813207414515,
          -54.05813207414515,
          -54.05813207414515,
          -54.05813207414515,
          -54.05813207414515,
          -13.351256037378874,
          -13.351256037378874,
          37.409388111524,
          37.409388111524,
          37.409388111524
         ],
         "z": [
          146.57142857142856,
          162,
          177.42857142857144,
          192.8571428571429,
          208.28571428571428,
          223.71428571428572,
          239.14285714285717,
          254.57142857142856,
          270,
          162,
          192.8571428571429,
          208.28571428571428,
          223.71428571428572,
          254.57142857142856,
          270,
          131.14285714285717,
          146.57142857142856,
          162,
          177.42857142857144,
          192.8571428571429,
          208.28571428571428,
          223.71428571428572,
          239.14285714285717,
          254.57142857142856,
          270,
          115.71428571428572,
          131.14285714285717,
          146.57142857142856,
          162,
          177.42857142857144,
          192.8571428571429,
          208.28571428571428,
          223.71428571428572,
          239.14285714285717,
          254.57142857142856,
          270,
          146.57142857142856,
          177.42857142857144,
          192.8571428571429,
          208.28571428571428,
          223.71428571428572,
          239.14285714285717,
          254.57142857142856,
          270,
          177.42857142857144,
          192.8571428571429,
          208.28571428571428,
          223.71428571428572,
          239.14285714285717,
          38.571428571428555,
          270,
          177.42857142857144,
          208.28571428571428,
          223.71428571428572
         ]
        },
        {
         "marker": {
          "color": "black",
          "colorscale": [
           [
            0,
            "#440154"
           ],
           [
            0.1111111111111111,
            "#482878"
           ],
           [
            0.2222222222222222,
            "#3e4989"
           ],
           [
            0.3333333333333333,
            "#31688e"
           ],
           [
            0.4444444444444444,
            "#26828e"
           ],
           [
            0.5555555555555556,
            "#1f9e89"
           ],
           [
            0.6666666666666666,
            "#35b779"
           ],
           [
            0.7777777777777778,
            "#6ece58"
           ],
           [
            0.8888888888888888,
            "#b5de2b"
           ],
           [
            1,
            "#fde725"
           ]
          ],
          "opacity": 1,
          "size": 1
         },
         "mode": "markers",
         "type": "scatter3d",
         "x": [
          0,
          0,
          0,
          0,
          0,
          0,
          0,
          0,
          0,
          0,
          0,
          0,
          0,
          0,
          0,
          0,
          0,
          0,
          0,
          0,
          0,
          0,
          0,
          0,
          0,
          0,
          0,
          0,
          0,
          0,
          0,
          0,
          0,
          0,
          0,
          0,
          0,
          0,
          0,
          0,
          0,
          0,
          0,
          0,
          0,
          0,
          0,
          0,
          0,
          0,
          0,
          0,
          0,
          0,
          0,
          0,
          0,
          46.909888948081786,
          46.909888948081786,
          46.909888948081786,
          46.909888948081786,
          46.909888948081786,
          46.909888948081786,
          46.909888948081786,
          46.909888948081786,
          46.909888948081786,
          46.909888948081786,
          46.909888948081786,
          46.909888948081786,
          46.909888948081786,
          46.909888948081786,
          46.909888948081786,
          46.909888948081786,
          46.909888948081786,
          46.909888948081786,
          46.909888948081786,
          46.909888948081786,
          46.909888948081786,
          46.909888948081786,
          46.909888948081786,
          46.909888948081786,
          46.909888948081786,
          46.909888948081786,
          58.495674730909414,
          58.495674730909414,
          58.495674730909414,
          58.495674730909414,
          58.495674730909414,
          58.495674730909414,
          58.495674730909414,
          58.495674730909414,
          58.495674730909414,
          58.495674730909414,
          58.495674730909414,
          58.495674730909414,
          58.495674730909414,
          58.495674730909414,
          58.495674730909414,
          58.495674730909414,
          58.495674730909414,
          58.495674730909414,
          58.495674730909414,
          58.495674730909414,
          58.495674730909414,
          58.495674730909414,
          58.495674730909414,
          58.495674730909414,
          58.495674730909414,
          26.033024347053495,
          26.033024347053495,
          26.033024347053495,
          26.033024347053495,
          26.033024347053495,
          26.033024347053495,
          26.033024347053495,
          26.033024347053495,
          26.033024347053495,
          26.033024347053495,
          26.033024347053495,
          26.033024347053495,
          26.033024347053495,
          26.033024347053495,
          26.033024347053495,
          26.033024347053495,
          26.033024347053495,
          26.033024347053495,
          26.033024347053495,
          26.033024347053495,
          26.033024347053495,
          26.033024347053495,
          26.033024347053495,
          26.033024347053495,
          26.033024347053495,
          26.033024347053495,
          26.033024347053495,
          26.033024347053495,
          -26.03302434705348,
          -26.03302434705348,
          -26.03302434705348,
          -26.03302434705348,
          -26.03302434705348,
          -26.03302434705348,
          -26.03302434705348,
          -26.03302434705348,
          -26.03302434705348,
          -26.03302434705348,
          -26.03302434705348,
          -26.03302434705348,
          -26.03302434705348,
          -26.03302434705348,
          -26.03302434705348,
          -26.03302434705348,
          -26.03302434705348,
          -26.03302434705348,
          -26.03302434705348,
          -26.03302434705348,
          -26.03302434705348,
          -26.03302434705348,
          -26.03302434705348,
          -26.03302434705348,
          -26.03302434705348,
          -26.03302434705348,
          -26.03302434705348,
          -26.03302434705348,
          -26.03302434705348,
          -26.03302434705348,
          -26.03302434705348,
          -58.495674730909414,
          -58.495674730909414,
          -58.495674730909414,
          -58.495674730909414,
          -58.495674730909414,
          -58.495674730909414,
          -58.495674730909414,
          -58.495674730909414,
          -58.495674730909414,
          -58.495674730909414,
          -58.495674730909414,
          -58.495674730909414,
          -58.495674730909414,
          -58.495674730909414,
          -58.495674730909414,
          -58.495674730909414,
          -58.495674730909414,
          -58.495674730909414,
          -58.495674730909414,
          -58.495674730909414,
          -58.495674730909414,
          -58.495674730909414,
          -58.495674730909414,
          -58.495674730909414,
          -58.495674730909414,
          -58.495674730909414,
          -58.495674730909414,
          -58.495674730909414,
          -58.495674730909414,
          -58.495674730909414,
          -58.495674730909414,
          -58.495674730909414,
          -58.495674730909414,
          -58.495674730909414,
          -46.90988894808179,
          -46.90988894808179,
          -46.90988894808179,
          -46.90988894808179,
          -46.90988894808179,
          -46.90988894808179,
          -46.90988894808179,
          -46.90988894808179,
          -46.90988894808179,
          -46.90988894808179,
          -46.90988894808179,
          -46.90988894808179,
          -46.90988894808179,
          -46.90988894808179,
          -46.90988894808179,
          -46.90988894808179,
          -46.90988894808179,
          -46.90988894808179,
          -46.90988894808179,
          -46.90988894808179,
          -46.90988894808179,
          -46.90988894808179,
          -46.90988894808179,
          -46.90988894808179,
          -46.90988894808179,
          -46.90988894808179,
          -46.90988894808179,
          -46.90988894808179,
          -46.90988894808179,
          -46.90988894808179,
          -46.90988894808179,
          -46.90988894808179,
          -46.90988894808179
         ],
         "y": [
          0,
          0,
          0,
          0,
          0,
          0,
          0,
          0,
          0,
          0,
          0,
          0,
          0,
          0,
          0,
          0,
          0,
          0,
          0,
          0,
          0,
          0,
          0,
          0,
          0,
          0,
          0,
          60,
          60,
          60,
          60,
          60,
          60,
          60,
          60,
          60,
          60,
          60,
          60,
          60,
          60,
          60,
          60,
          60,
          60,
          60,
          60,
          60,
          60,
          60,
          60,
          60,
          60,
          60,
          60,
          60,
          60,
          37.40938811152402,
          37.40938811152402,
          37.40938811152402,
          37.40938811152402,
          37.40938811152402,
          37.40938811152402,
          37.40938811152402,
          37.40938811152402,
          37.40938811152402,
          37.40938811152402,
          37.40938811152402,
          37.40938811152402,
          37.40938811152402,
          37.40938811152402,
          37.40938811152402,
          37.40938811152402,
          37.40938811152402,
          37.40938811152402,
          37.40938811152402,
          37.40938811152402,
          37.40938811152402,
          37.40938811152402,
          37.40938811152402,
          37.40938811152402,
          37.40938811152402,
          37.40938811152402,
          -13.35125603737886,
          -13.35125603737886,
          -13.35125603737886,
          -13.35125603737886,
          -13.35125603737886,
          -13.35125603737886,
          -13.35125603737886,
          -13.35125603737886,
          -13.35125603737886,
          -13.35125603737886,
          -13.35125603737886,
          -13.35125603737886,
          -13.35125603737886,
          -13.35125603737886,
          -13.35125603737886,
          -13.35125603737886,
          -13.35125603737886,
          -13.35125603737886,
          -13.35125603737886,
          -13.35125603737886,
          -13.35125603737886,
          -13.35125603737886,
          -13.35125603737886,
          -13.35125603737886,
          -13.35125603737886,
          -54.05813207414514,
          -54.05813207414514,
          -54.05813207414514,
          -54.05813207414514,
          -54.05813207414514,
          -54.05813207414514,
          -54.05813207414514,
          -54.05813207414514,
          -54.05813207414514,
          -54.05813207414514,
          -54.05813207414514,
          -54.05813207414514,
          -54.05813207414514,
          -54.05813207414514,
          -54.05813207414514,
          -54.05813207414514,
          -54.05813207414514,
          -54.05813207414514,
          -54.05813207414514,
          -54.05813207414514,
          -54.05813207414514,
          -54.05813207414514,
          -54.05813207414514,
          -54.05813207414514,
          -54.05813207414514,
          -54.05813207414514,
          -54.05813207414514,
          -54.05813207414514,
          -54.05813207414515,
          -54.05813207414515,
          -54.05813207414515,
          -54.05813207414515,
          -54.05813207414515,
          -54.05813207414515,
          -54.05813207414515,
          -54.05813207414515,
          -54.05813207414515,
          -54.05813207414515,
          -54.05813207414515,
          -54.05813207414515,
          -54.05813207414515,
          -54.05813207414515,
          -54.05813207414515,
          -54.05813207414515,
          -54.05813207414515,
          -54.05813207414515,
          -54.05813207414515,
          -54.05813207414515,
          -54.05813207414515,
          -54.05813207414515,
          -54.05813207414515,
          -54.05813207414515,
          -54.05813207414515,
          -54.05813207414515,
          -54.05813207414515,
          -54.05813207414515,
          -54.05813207414515,
          -54.05813207414515,
          -54.05813207414515,
          -13.351256037378874,
          -13.351256037378874,
          -13.351256037378874,
          -13.351256037378874,
          -13.351256037378874,
          -13.351256037378874,
          -13.351256037378874,
          -13.351256037378874,
          -13.351256037378874,
          -13.351256037378874,
          -13.351256037378874,
          -13.351256037378874,
          -13.351256037378874,
          -13.351256037378874,
          -13.351256037378874,
          -13.351256037378874,
          -13.351256037378874,
          -13.351256037378874,
          -13.351256037378874,
          -13.351256037378874,
          -13.351256037378874,
          -13.351256037378874,
          -13.351256037378874,
          -13.351256037378874,
          -13.351256037378874,
          -13.351256037378874,
          -13.351256037378874,
          -13.351256037378874,
          -13.351256037378874,
          -13.351256037378874,
          -13.351256037378874,
          -13.351256037378874,
          -13.351256037378874,
          -13.351256037378874,
          37.409388111524,
          37.409388111524,
          37.409388111524,
          37.409388111524,
          37.409388111524,
          37.409388111524,
          37.409388111524,
          37.409388111524,
          37.409388111524,
          37.409388111524,
          37.409388111524,
          37.409388111524,
          37.409388111524,
          37.409388111524,
          37.409388111524,
          37.409388111524,
          37.409388111524,
          37.409388111524,
          37.409388111524,
          37.409388111524,
          37.409388111524,
          37.409388111524,
          37.409388111524,
          37.409388111524,
          37.409388111524,
          37.409388111524,
          37.409388111524,
          37.409388111524,
          37.409388111524,
          37.409388111524,
          37.409388111524,
          37.409388111524,
          37.409388111524
         ],
         "z": [
          -270,
          -254.57142857142858,
          -239.14285714285714,
          -223.71428571428572,
          -208.28571428571428,
          -192.85714285714286,
          -177.42857142857144,
          -162,
          -146.57142857142856,
          -131.14285714285714,
          -115.71428571428572,
          -100.28571428571428,
          -84.85714285714286,
          -69.42857142857142,
          -54,
          -38.571428571428555,
          -23.14285714285714,
          -7.714285714285722,
          7.714285714285722,
          23.142857142857167,
          38.571428571428555,
          54,
          69.42857142857144,
          84.85714285714289,
          100.28571428571428,
          115.71428571428572,
          131.14285714285717,
          -270,
          -254.57142857142858,
          -239.14285714285714,
          -223.71428571428572,
          -208.28571428571428,
          -192.85714285714286,
          -177.42857142857144,
          -162,
          -146.57142857142856,
          -131.14285714285714,
          -115.71428571428572,
          -100.28571428571428,
          -84.85714285714286,
          -69.42857142857142,
          -54,
          -38.571428571428555,
          -23.14285714285714,
          -7.714285714285722,
          7.714285714285722,
          23.142857142857167,
          38.571428571428555,
          54,
          69.42857142857144,
          84.85714285714289,
          100.28571428571428,
          115.71428571428572,
          131.14285714285717,
          146.57142857142856,
          177.42857142857144,
          239.14285714285717,
          -270,
          -254.57142857142858,
          -239.14285714285714,
          -223.71428571428572,
          -208.28571428571428,
          -192.85714285714286,
          -177.42857142857144,
          -162,
          -146.57142857142856,
          -131.14285714285714,
          -115.71428571428572,
          -100.28571428571428,
          -84.85714285714286,
          -69.42857142857142,
          -54,
          -38.571428571428555,
          -23.14285714285714,
          -7.714285714285722,
          7.714285714285722,
          23.142857142857167,
          38.571428571428555,
          54,
          69.42857142857144,
          84.85714285714289,
          100.28571428571428,
          115.71428571428572,
          -270,
          -254.57142857142858,
          -239.14285714285714,
          -223.71428571428572,
          -208.28571428571428,
          -192.85714285714286,
          -177.42857142857144,
          -162,
          -146.57142857142856,
          -131.14285714285714,
          -115.71428571428572,
          -100.28571428571428,
          -84.85714285714286,
          -69.42857142857142,
          -54,
          -38.571428571428555,
          -23.14285714285714,
          -7.714285714285722,
          7.714285714285722,
          23.142857142857167,
          38.571428571428555,
          54,
          69.42857142857144,
          84.85714285714289,
          100.28571428571428,
          -270,
          -254.57142857142858,
          -239.14285714285714,
          -223.71428571428572,
          -208.28571428571428,
          -192.85714285714286,
          -177.42857142857144,
          -162,
          -146.57142857142856,
          -131.14285714285714,
          -115.71428571428572,
          -100.28571428571428,
          -84.85714285714286,
          -69.42857142857142,
          -54,
          -38.571428571428555,
          -23.14285714285714,
          -7.714285714285722,
          7.714285714285722,
          23.142857142857167,
          38.571428571428555,
          54,
          69.42857142857144,
          84.85714285714289,
          100.28571428571428,
          115.71428571428572,
          131.14285714285717,
          162,
          -270,
          -254.57142857142858,
          -239.14285714285714,
          -223.71428571428572,
          -208.28571428571428,
          -192.85714285714286,
          -177.42857142857144,
          -162,
          -146.57142857142856,
          -131.14285714285714,
          -115.71428571428572,
          -100.28571428571428,
          -84.85714285714286,
          -69.42857142857142,
          -54,
          -38.571428571428555,
          -23.14285714285714,
          -7.714285714285722,
          7.714285714285722,
          23.142857142857167,
          38.571428571428555,
          54,
          69.42857142857144,
          84.85714285714289,
          100.28571428571428,
          115.71428571428572,
          131.14285714285717,
          146.57142857142856,
          162,
          254.57142857142856,
          270,
          -270,
          -254.57142857142858,
          -239.14285714285714,
          -223.71428571428572,
          -208.28571428571428,
          -192.85714285714286,
          -177.42857142857144,
          -162,
          -146.57142857142856,
          -131.14285714285714,
          -115.71428571428572,
          -100.28571428571428,
          -84.85714285714286,
          -69.42857142857142,
          -54,
          -38.571428571428555,
          -23.14285714285714,
          -7.714285714285722,
          7.714285714285722,
          23.142857142857167,
          54,
          69.42857142857144,
          84.85714285714289,
          100.28571428571428,
          115.71428571428572,
          131.14285714285717,
          146.57142857142856,
          162,
          177.42857142857144,
          192.8571428571429,
          208.28571428571428,
          223.71428571428572,
          239.14285714285717,
          254.57142857142856,
          -270,
          -254.57142857142858,
          -239.14285714285714,
          -223.71428571428572,
          -208.28571428571428,
          -192.85714285714286,
          -177.42857142857144,
          -162,
          -146.57142857142856,
          -131.14285714285714,
          -115.71428571428572,
          -100.28571428571428,
          -84.85714285714286,
          -69.42857142857142,
          -54,
          -38.571428571428555,
          -23.14285714285714,
          -7.714285714285722,
          7.714285714285722,
          23.142857142857167,
          38.571428571428555,
          54,
          69.42857142857144,
          84.85714285714289,
          100.28571428571428,
          115.71428571428572,
          131.14285714285717,
          146.57142857142856,
          162,
          192.8571428571429,
          239.14285714285717,
          254.57142857142856,
          270
         ]
        }
       ],
       "layout": {
        "coloraxis": {
         "colorbar": {
          "title": {
           "text": "log10(det. photons)"
          }
         },
         "showscale": true
        },
        "height": 700,
        "scene": {
         "xaxis": {
          "range": [
           -100,
           100
          ]
         },
         "yaxis": {
          "range": [
           -100,
           100
          ]
         },
         "zaxis": {
          "range": [
           -300,
           300
          ]
         }
        },
        "showlegend": false,
        "template": {
         "data": {
          "bar": [
           {
            "error_x": {
             "color": "#2a3f5f"
            },
            "error_y": {
             "color": "#2a3f5f"
            },
            "marker": {
             "line": {
              "color": "#E5ECF6",
              "width": 0.5
             },
             "pattern": {
              "fillmode": "overlay",
              "size": 10,
              "solidity": 0.2
             }
            },
            "type": "bar"
           }
          ],
          "barpolar": [
           {
            "marker": {
             "line": {
              "color": "#E5ECF6",
              "width": 0.5
             },
             "pattern": {
              "fillmode": "overlay",
              "size": 10,
              "solidity": 0.2
             }
            },
            "type": "barpolar"
           }
          ],
          "carpet": [
           {
            "aaxis": {
             "endlinecolor": "#2a3f5f",
             "gridcolor": "white",
             "linecolor": "white",
             "minorgridcolor": "white",
             "startlinecolor": "#2a3f5f"
            },
            "baxis": {
             "endlinecolor": "#2a3f5f",
             "gridcolor": "white",
             "linecolor": "white",
             "minorgridcolor": "white",
             "startlinecolor": "#2a3f5f"
            },
            "type": "carpet"
           }
          ],
          "choropleth": [
           {
            "colorbar": {
             "outlinewidth": 0,
             "ticks": ""
            },
            "type": "choropleth"
           }
          ],
          "contour": [
           {
            "colorbar": {
             "outlinewidth": 0,
             "ticks": ""
            },
            "colorscale": [
             [
              0,
              "#0d0887"
             ],
             [
              0.1111111111111111,
              "#46039f"
             ],
             [
              0.2222222222222222,
              "#7201a8"
             ],
             [
              0.3333333333333333,
              "#9c179e"
             ],
             [
              0.4444444444444444,
              "#bd3786"
             ],
             [
              0.5555555555555556,
              "#d8576b"
             ],
             [
              0.6666666666666666,
              "#ed7953"
             ],
             [
              0.7777777777777778,
              "#fb9f3a"
             ],
             [
              0.8888888888888888,
              "#fdca26"
             ],
             [
              1,
              "#f0f921"
             ]
            ],
            "type": "contour"
           }
          ],
          "contourcarpet": [
           {
            "colorbar": {
             "outlinewidth": 0,
             "ticks": ""
            },
            "type": "contourcarpet"
           }
          ],
          "heatmap": [
           {
            "colorbar": {
             "outlinewidth": 0,
             "ticks": ""
            },
            "colorscale": [
             [
              0,
              "#0d0887"
             ],
             [
              0.1111111111111111,
              "#46039f"
             ],
             [
              0.2222222222222222,
              "#7201a8"
             ],
             [
              0.3333333333333333,
              "#9c179e"
             ],
             [
              0.4444444444444444,
              "#bd3786"
             ],
             [
              0.5555555555555556,
              "#d8576b"
             ],
             [
              0.6666666666666666,
              "#ed7953"
             ],
             [
              0.7777777777777778,
              "#fb9f3a"
             ],
             [
              0.8888888888888888,
              "#fdca26"
             ],
             [
              1,
              "#f0f921"
             ]
            ],
            "type": "heatmap"
           }
          ],
          "heatmapgl": [
           {
            "colorbar": {
             "outlinewidth": 0,
             "ticks": ""
            },
            "colorscale": [
             [
              0,
              "#0d0887"
             ],
             [
              0.1111111111111111,
              "#46039f"
             ],
             [
              0.2222222222222222,
              "#7201a8"
             ],
             [
              0.3333333333333333,
              "#9c179e"
             ],
             [
              0.4444444444444444,
              "#bd3786"
             ],
             [
              0.5555555555555556,
              "#d8576b"
             ],
             [
              0.6666666666666666,
              "#ed7953"
             ],
             [
              0.7777777777777778,
              "#fb9f3a"
             ],
             [
              0.8888888888888888,
              "#fdca26"
             ],
             [
              1,
              "#f0f921"
             ]
            ],
            "type": "heatmapgl"
           }
          ],
          "histogram": [
           {
            "marker": {
             "pattern": {
              "fillmode": "overlay",
              "size": 10,
              "solidity": 0.2
             }
            },
            "type": "histogram"
           }
          ],
          "histogram2d": [
           {
            "colorbar": {
             "outlinewidth": 0,
             "ticks": ""
            },
            "colorscale": [
             [
              0,
              "#0d0887"
             ],
             [
              0.1111111111111111,
              "#46039f"
             ],
             [
              0.2222222222222222,
              "#7201a8"
             ],
             [
              0.3333333333333333,
              "#9c179e"
             ],
             [
              0.4444444444444444,
              "#bd3786"
             ],
             [
              0.5555555555555556,
              "#d8576b"
             ],
             [
              0.6666666666666666,
              "#ed7953"
             ],
             [
              0.7777777777777778,
              "#fb9f3a"
             ],
             [
              0.8888888888888888,
              "#fdca26"
             ],
             [
              1,
              "#f0f921"
             ]
            ],
            "type": "histogram2d"
           }
          ],
          "histogram2dcontour": [
           {
            "colorbar": {
             "outlinewidth": 0,
             "ticks": ""
            },
            "colorscale": [
             [
              0,
              "#0d0887"
             ],
             [
              0.1111111111111111,
              "#46039f"
             ],
             [
              0.2222222222222222,
              "#7201a8"
             ],
             [
              0.3333333333333333,
              "#9c179e"
             ],
             [
              0.4444444444444444,
              "#bd3786"
             ],
             [
              0.5555555555555556,
              "#d8576b"
             ],
             [
              0.6666666666666666,
              "#ed7953"
             ],
             [
              0.7777777777777778,
              "#fb9f3a"
             ],
             [
              0.8888888888888888,
              "#fdca26"
             ],
             [
              1,
              "#f0f921"
             ]
            ],
            "type": "histogram2dcontour"
           }
          ],
          "mesh3d": [
           {
            "colorbar": {
             "outlinewidth": 0,
             "ticks": ""
            },
            "type": "mesh3d"
           }
          ],
          "parcoords": [
           {
            "line": {
             "colorbar": {
              "outlinewidth": 0,
              "ticks": ""
             }
            },
            "type": "parcoords"
           }
          ],
          "pie": [
           {
            "automargin": true,
            "type": "pie"
           }
          ],
          "scatter": [
           {
            "fillpattern": {
             "fillmode": "overlay",
             "size": 10,
             "solidity": 0.2
            },
            "type": "scatter"
           }
          ],
          "scatter3d": [
           {
            "line": {
             "colorbar": {
              "outlinewidth": 0,
              "ticks": ""
             }
            },
            "marker": {
             "colorbar": {
              "outlinewidth": 0,
              "ticks": ""
             }
            },
            "type": "scatter3d"
           }
          ],
          "scattercarpet": [
           {
            "marker": {
             "colorbar": {
              "outlinewidth": 0,
              "ticks": ""
             }
            },
            "type": "scattercarpet"
           }
          ],
          "scattergeo": [
           {
            "marker": {
             "colorbar": {
              "outlinewidth": 0,
              "ticks": ""
             }
            },
            "type": "scattergeo"
           }
          ],
          "scattergl": [
           {
            "marker": {
             "colorbar": {
              "outlinewidth": 0,
              "ticks": ""
             }
            },
            "type": "scattergl"
           }
          ],
          "scattermapbox": [
           {
            "marker": {
             "colorbar": {
              "outlinewidth": 0,
              "ticks": ""
             }
            },
            "type": "scattermapbox"
           }
          ],
          "scatterpolar": [
           {
            "marker": {
             "colorbar": {
              "outlinewidth": 0,
              "ticks": ""
             }
            },
            "type": "scatterpolar"
           }
          ],
          "scatterpolargl": [
           {
            "marker": {
             "colorbar": {
              "outlinewidth": 0,
              "ticks": ""
             }
            },
            "type": "scatterpolargl"
           }
          ],
          "scatterternary": [
           {
            "marker": {
             "colorbar": {
              "outlinewidth": 0,
              "ticks": ""
             }
            },
            "type": "scatterternary"
           }
          ],
          "surface": [
           {
            "colorbar": {
             "outlinewidth": 0,
             "ticks": ""
            },
            "colorscale": [
             [
              0,
              "#0d0887"
             ],
             [
              0.1111111111111111,
              "#46039f"
             ],
             [
              0.2222222222222222,
              "#7201a8"
             ],
             [
              0.3333333333333333,
              "#9c179e"
             ],
             [
              0.4444444444444444,
              "#bd3786"
             ],
             [
              0.5555555555555556,
              "#d8576b"
             ],
             [
              0.6666666666666666,
              "#ed7953"
             ],
             [
              0.7777777777777778,
              "#fb9f3a"
             ],
             [
              0.8888888888888888,
              "#fdca26"
             ],
             [
              1,
              "#f0f921"
             ]
            ],
            "type": "surface"
           }
          ],
          "table": [
           {
            "cells": {
             "fill": {
              "color": "#EBF0F8"
             },
             "line": {
              "color": "white"
             }
            },
            "header": {
             "fill": {
              "color": "#C8D4E3"
             },
             "line": {
              "color": "white"
             }
            },
            "type": "table"
           }
          ]
         },
         "layout": {
          "annotationdefaults": {
           "arrowcolor": "#2a3f5f",
           "arrowhead": 0,
           "arrowwidth": 1
          },
          "autotypenumbers": "strict",
          "coloraxis": {
           "colorbar": {
            "outlinewidth": 0,
            "ticks": ""
           }
          },
          "colorscale": {
           "diverging": [
            [
             0,
             "#8e0152"
            ],
            [
             0.1,
             "#c51b7d"
            ],
            [
             0.2,
             "#de77ae"
            ],
            [
             0.3,
             "#f1b6da"
            ],
            [
             0.4,
             "#fde0ef"
            ],
            [
             0.5,
             "#f7f7f7"
            ],
            [
             0.6,
             "#e6f5d0"
            ],
            [
             0.7,
             "#b8e186"
            ],
            [
             0.8,
             "#7fbc41"
            ],
            [
             0.9,
             "#4d9221"
            ],
            [
             1,
             "#276419"
            ]
           ],
           "sequential": [
            [
             0,
             "#0d0887"
            ],
            [
             0.1111111111111111,
             "#46039f"
            ],
            [
             0.2222222222222222,
             "#7201a8"
            ],
            [
             0.3333333333333333,
             "#9c179e"
            ],
            [
             0.4444444444444444,
             "#bd3786"
            ],
            [
             0.5555555555555556,
             "#d8576b"
            ],
            [
             0.6666666666666666,
             "#ed7953"
            ],
            [
             0.7777777777777778,
             "#fb9f3a"
            ],
            [
             0.8888888888888888,
             "#fdca26"
            ],
            [
             1,
             "#f0f921"
            ]
           ],
           "sequentialminus": [
            [
             0,
             "#0d0887"
            ],
            [
             0.1111111111111111,
             "#46039f"
            ],
            [
             0.2222222222222222,
             "#7201a8"
            ],
            [
             0.3333333333333333,
             "#9c179e"
            ],
            [
             0.4444444444444444,
             "#bd3786"
            ],
            [
             0.5555555555555556,
             "#d8576b"
            ],
            [
             0.6666666666666666,
             "#ed7953"
            ],
            [
             0.7777777777777778,
             "#fb9f3a"
            ],
            [
             0.8888888888888888,
             "#fdca26"
            ],
            [
             1,
             "#f0f921"
            ]
           ]
          },
          "colorway": [
           "#636efa",
           "#EF553B",
           "#00cc96",
           "#ab63fa",
           "#FFA15A",
           "#19d3f3",
           "#FF6692",
           "#B6E880",
           "#FF97FF",
           "#FECB52"
          ],
          "font": {
           "color": "#2a3f5f"
          },
          "geo": {
           "bgcolor": "white",
           "lakecolor": "white",
           "landcolor": "#E5ECF6",
           "showlakes": true,
           "showland": true,
           "subunitcolor": "white"
          },
          "hoverlabel": {
           "align": "left"
          },
          "hovermode": "closest",
          "mapbox": {
           "style": "light"
          },
          "paper_bgcolor": "white",
          "plot_bgcolor": "#E5ECF6",
          "polar": {
           "angularaxis": {
            "gridcolor": "white",
            "linecolor": "white",
            "ticks": ""
           },
           "bgcolor": "#E5ECF6",
           "radialaxis": {
            "gridcolor": "white",
            "linecolor": "white",
            "ticks": ""
           }
          },
          "scene": {
           "xaxis": {
            "backgroundcolor": "#E5ECF6",
            "gridcolor": "white",
            "gridwidth": 2,
            "linecolor": "white",
            "showbackground": true,
            "ticks": "",
            "zerolinecolor": "white"
           },
           "yaxis": {
            "backgroundcolor": "#E5ECF6",
            "gridcolor": "white",
            "gridwidth": 2,
            "linecolor": "white",
            "showbackground": true,
            "ticks": "",
            "zerolinecolor": "white"
           },
           "zaxis": {
            "backgroundcolor": "#E5ECF6",
            "gridcolor": "white",
            "gridwidth": 2,
            "linecolor": "white",
            "showbackground": true,
            "ticks": "",
            "zerolinecolor": "white"
           }
          },
          "shapedefaults": {
           "line": {
            "color": "#2a3f5f"
           }
          },
          "ternary": {
           "aaxis": {
            "gridcolor": "white",
            "linecolor": "white",
            "ticks": ""
           },
           "baxis": {
            "gridcolor": "white",
            "linecolor": "white",
            "ticks": ""
           },
           "bgcolor": "#E5ECF6",
           "caxis": {
            "gridcolor": "white",
            "linecolor": "white",
            "ticks": ""
           }
          },
          "title": {
           "x": 0.05
          },
          "xaxis": {
           "automargin": true,
           "gridcolor": "white",
           "linecolor": "white",
           "ticks": "",
           "title": {
            "standoff": 15
           },
           "zerolinecolor": "white",
           "zerolinewidth": 2
          },
          "yaxis": {
           "automargin": true,
           "gridcolor": "white",
           "linecolor": "white",
           "ticks": "",
           "title": {
            "standoff": 15
           },
           "zerolinecolor": "white",
           "zerolinewidth": 2
          }
         }
        },
        "width": 1400
       }
      },
      "text/html": [
       "<div>                            <div id=\"ceae0969-4203-48bd-8925-079e84f1d792\" class=\"plotly-graph-div\" style=\"height:700px; width:1400px;\"></div>            <script type=\"text/javascript\">                require([\"plotly\"], function(Plotly) {                    window.PLOTLYENV=window.PLOTLYENV || {};                                    if (document.getElementById(\"ceae0969-4203-48bd-8925-079e84f1d792\")) {                    Plotly.newPlot(                        \"ceae0969-4203-48bd-8925-079e84f1d792\",                        [{\"marker\":{\"color\":[0.47712125471966244,0.6989700043360189,0.7781512503836436,1.146128035678238,1.3979400086720377,1.5185139398778875,1.380211241711606,1.0791812460476249,0.7781512503836436,0.3010299956639812,0.6020599913279624,0.6020599913279624,0.6020599913279624,0.47712125471966244,0.6989700043360189,0.47712125471966244,0.6989700043360189,1.146128035678238,1.3010299956639813,1.6989700043360187,1.968482948553935,1.8864907251724818,2.060697840353612,1.8808135922807914,1.5314789170422551,0.3010299956639812,0.3010299956639812,0.6020599913279624,1.041392685158225,1.5440680443502757,2.0453229787866576,3.0492180226701815,2.828015064223977,2.9585638832219674,2.255272505103306,1.6434526764861874,0.3010299956639812,0.6989700043360189,0.9542425094393249,1.414973347970818,1.6812412373755872,1.5440680443502757,1.1139433523068367,0.8450980400142568,0.47712125471966244,0.3010299956639812,0.6020599913279624,0.47712125471966244,0.9030899869919435,0.3010299956639812,0.3010299956639812,0.3010299956639812,0.3010299956639812,0.47712125471966244],\"colorscale\":[[0.0,\"#440154\"],[0.1111111111111111,\"#482878\"],[0.2222222222222222,\"#3e4989\"],[0.3333333333333333,\"#31688e\"],[0.4444444444444444,\"#26828e\"],[0.5555555555555556,\"#1f9e89\"],[0.6666666666666666,\"#35b779\"],[0.7777777777777778,\"#6ece58\"],[0.8888888888888888,\"#b5de2b\"],[1.0,\"#fde725\"]],\"opacity\":0.8,\"showscale\":true,\"size\":5},\"mode\":\"markers\",\"x\":[0.0,0.0,0.0,0.0,0.0,0.0,0.0,0.0,0.0,0.0,0.0,0.0,0.0,0.0,0.0,46.909888948081786,46.909888948081786,46.909888948081786,46.909888948081786,46.909888948081786,46.909888948081786,46.909888948081786,46.909888948081786,46.909888948081786,46.909888948081786,58.495674730909414,58.495674730909414,58.495674730909414,58.495674730909414,58.495674730909414,58.495674730909414,58.495674730909414,58.495674730909414,58.495674730909414,58.495674730909414,58.495674730909414,26.033024347053495,26.033024347053495,26.033024347053495,26.033024347053495,26.033024347053495,26.033024347053495,26.033024347053495,26.033024347053495,-26.03302434705348,-26.03302434705348,-26.03302434705348,-26.03302434705348,-26.03302434705348,-58.495674730909414,-58.495674730909414,-46.90988894808179,-46.90988894808179,-46.90988894808179],\"y\":[0.0,0.0,0.0,0.0,0.0,0.0,0.0,0.0,0.0,60.0,60.0,60.0,60.0,60.0,60.0,37.40938811152402,37.40938811152402,37.40938811152402,37.40938811152402,37.40938811152402,37.40938811152402,37.40938811152402,37.40938811152402,37.40938811152402,37.40938811152402,-13.35125603737886,-13.35125603737886,-13.35125603737886,-13.35125603737886,-13.35125603737886,-13.35125603737886,-13.35125603737886,-13.35125603737886,-13.35125603737886,-13.35125603737886,-13.35125603737886,-54.05813207414514,-54.05813207414514,-54.05813207414514,-54.05813207414514,-54.05813207414514,-54.05813207414514,-54.05813207414514,-54.05813207414514,-54.05813207414515,-54.05813207414515,-54.05813207414515,-54.05813207414515,-54.05813207414515,-13.351256037378874,-13.351256037378874,37.409388111524,37.409388111524,37.409388111524],\"z\":[146.57142857142856,162.0,177.42857142857144,192.8571428571429,208.28571428571428,223.71428571428572,239.14285714285717,254.57142857142856,270.0,162.0,192.8571428571429,208.28571428571428,223.71428571428572,254.57142857142856,270.0,131.14285714285717,146.57142857142856,162.0,177.42857142857144,192.8571428571429,208.28571428571428,223.71428571428572,239.14285714285717,254.57142857142856,270.0,115.71428571428572,131.14285714285717,146.57142857142856,162.0,177.42857142857144,192.8571428571429,208.28571428571428,223.71428571428572,239.14285714285717,254.57142857142856,270.0,146.57142857142856,177.42857142857144,192.8571428571429,208.28571428571428,223.71428571428572,239.14285714285717,254.57142857142856,270.0,177.42857142857144,192.8571428571429,208.28571428571428,223.71428571428572,239.14285714285717,38.571428571428555,270.0,177.42857142857144,208.28571428571428,223.71428571428572],\"type\":\"scatter3d\"},{\"marker\":{\"color\":\"black\",\"colorscale\":[[0.0,\"#440154\"],[0.1111111111111111,\"#482878\"],[0.2222222222222222,\"#3e4989\"],[0.3333333333333333,\"#31688e\"],[0.4444444444444444,\"#26828e\"],[0.5555555555555556,\"#1f9e89\"],[0.6666666666666666,\"#35b779\"],[0.7777777777777778,\"#6ece58\"],[0.8888888888888888,\"#b5de2b\"],[1.0,\"#fde725\"]],\"opacity\":1.0,\"size\":1},\"mode\":\"markers\",\"x\":[0.0,0.0,0.0,0.0,0.0,0.0,0.0,0.0,0.0,0.0,0.0,0.0,0.0,0.0,0.0,0.0,0.0,0.0,0.0,0.0,0.0,0.0,0.0,0.0,0.0,0.0,0.0,0.0,0.0,0.0,0.0,0.0,0.0,0.0,0.0,0.0,0.0,0.0,0.0,0.0,0.0,0.0,0.0,0.0,0.0,0.0,0.0,0.0,0.0,0.0,0.0,0.0,0.0,0.0,0.0,0.0,0.0,46.909888948081786,46.909888948081786,46.909888948081786,46.909888948081786,46.909888948081786,46.909888948081786,46.909888948081786,46.909888948081786,46.909888948081786,46.909888948081786,46.909888948081786,46.909888948081786,46.909888948081786,46.909888948081786,46.909888948081786,46.909888948081786,46.909888948081786,46.909888948081786,46.909888948081786,46.909888948081786,46.909888948081786,46.909888948081786,46.909888948081786,46.909888948081786,46.909888948081786,46.909888948081786,58.495674730909414,58.495674730909414,58.495674730909414,58.495674730909414,58.495674730909414,58.495674730909414,58.495674730909414,58.495674730909414,58.495674730909414,58.495674730909414,58.495674730909414,58.495674730909414,58.495674730909414,58.495674730909414,58.495674730909414,58.495674730909414,58.495674730909414,58.495674730909414,58.495674730909414,58.495674730909414,58.495674730909414,58.495674730909414,58.495674730909414,58.495674730909414,58.495674730909414,26.033024347053495,26.033024347053495,26.033024347053495,26.033024347053495,26.033024347053495,26.033024347053495,26.033024347053495,26.033024347053495,26.033024347053495,26.033024347053495,26.033024347053495,26.033024347053495,26.033024347053495,26.033024347053495,26.033024347053495,26.033024347053495,26.033024347053495,26.033024347053495,26.033024347053495,26.033024347053495,26.033024347053495,26.033024347053495,26.033024347053495,26.033024347053495,26.033024347053495,26.033024347053495,26.033024347053495,26.033024347053495,-26.03302434705348,-26.03302434705348,-26.03302434705348,-26.03302434705348,-26.03302434705348,-26.03302434705348,-26.03302434705348,-26.03302434705348,-26.03302434705348,-26.03302434705348,-26.03302434705348,-26.03302434705348,-26.03302434705348,-26.03302434705348,-26.03302434705348,-26.03302434705348,-26.03302434705348,-26.03302434705348,-26.03302434705348,-26.03302434705348,-26.03302434705348,-26.03302434705348,-26.03302434705348,-26.03302434705348,-26.03302434705348,-26.03302434705348,-26.03302434705348,-26.03302434705348,-26.03302434705348,-26.03302434705348,-26.03302434705348,-58.495674730909414,-58.495674730909414,-58.495674730909414,-58.495674730909414,-58.495674730909414,-58.495674730909414,-58.495674730909414,-58.495674730909414,-58.495674730909414,-58.495674730909414,-58.495674730909414,-58.495674730909414,-58.495674730909414,-58.495674730909414,-58.495674730909414,-58.495674730909414,-58.495674730909414,-58.495674730909414,-58.495674730909414,-58.495674730909414,-58.495674730909414,-58.495674730909414,-58.495674730909414,-58.495674730909414,-58.495674730909414,-58.495674730909414,-58.495674730909414,-58.495674730909414,-58.495674730909414,-58.495674730909414,-58.495674730909414,-58.495674730909414,-58.495674730909414,-58.495674730909414,-46.90988894808179,-46.90988894808179,-46.90988894808179,-46.90988894808179,-46.90988894808179,-46.90988894808179,-46.90988894808179,-46.90988894808179,-46.90988894808179,-46.90988894808179,-46.90988894808179,-46.90988894808179,-46.90988894808179,-46.90988894808179,-46.90988894808179,-46.90988894808179,-46.90988894808179,-46.90988894808179,-46.90988894808179,-46.90988894808179,-46.90988894808179,-46.90988894808179,-46.90988894808179,-46.90988894808179,-46.90988894808179,-46.90988894808179,-46.90988894808179,-46.90988894808179,-46.90988894808179,-46.90988894808179,-46.90988894808179,-46.90988894808179,-46.90988894808179],\"y\":[0.0,0.0,0.0,0.0,0.0,0.0,0.0,0.0,0.0,0.0,0.0,0.0,0.0,0.0,0.0,0.0,0.0,0.0,0.0,0.0,0.0,0.0,0.0,0.0,0.0,0.0,0.0,60.0,60.0,60.0,60.0,60.0,60.0,60.0,60.0,60.0,60.0,60.0,60.0,60.0,60.0,60.0,60.0,60.0,60.0,60.0,60.0,60.0,60.0,60.0,60.0,60.0,60.0,60.0,60.0,60.0,60.0,37.40938811152402,37.40938811152402,37.40938811152402,37.40938811152402,37.40938811152402,37.40938811152402,37.40938811152402,37.40938811152402,37.40938811152402,37.40938811152402,37.40938811152402,37.40938811152402,37.40938811152402,37.40938811152402,37.40938811152402,37.40938811152402,37.40938811152402,37.40938811152402,37.40938811152402,37.40938811152402,37.40938811152402,37.40938811152402,37.40938811152402,37.40938811152402,37.40938811152402,37.40938811152402,-13.35125603737886,-13.35125603737886,-13.35125603737886,-13.35125603737886,-13.35125603737886,-13.35125603737886,-13.35125603737886,-13.35125603737886,-13.35125603737886,-13.35125603737886,-13.35125603737886,-13.35125603737886,-13.35125603737886,-13.35125603737886,-13.35125603737886,-13.35125603737886,-13.35125603737886,-13.35125603737886,-13.35125603737886,-13.35125603737886,-13.35125603737886,-13.35125603737886,-13.35125603737886,-13.35125603737886,-13.35125603737886,-54.05813207414514,-54.05813207414514,-54.05813207414514,-54.05813207414514,-54.05813207414514,-54.05813207414514,-54.05813207414514,-54.05813207414514,-54.05813207414514,-54.05813207414514,-54.05813207414514,-54.05813207414514,-54.05813207414514,-54.05813207414514,-54.05813207414514,-54.05813207414514,-54.05813207414514,-54.05813207414514,-54.05813207414514,-54.05813207414514,-54.05813207414514,-54.05813207414514,-54.05813207414514,-54.05813207414514,-54.05813207414514,-54.05813207414514,-54.05813207414514,-54.05813207414514,-54.05813207414515,-54.05813207414515,-54.05813207414515,-54.05813207414515,-54.05813207414515,-54.05813207414515,-54.05813207414515,-54.05813207414515,-54.05813207414515,-54.05813207414515,-54.05813207414515,-54.05813207414515,-54.05813207414515,-54.05813207414515,-54.05813207414515,-54.05813207414515,-54.05813207414515,-54.05813207414515,-54.05813207414515,-54.05813207414515,-54.05813207414515,-54.05813207414515,-54.05813207414515,-54.05813207414515,-54.05813207414515,-54.05813207414515,-54.05813207414515,-54.05813207414515,-54.05813207414515,-54.05813207414515,-54.05813207414515,-13.351256037378874,-13.351256037378874,-13.351256037378874,-13.351256037378874,-13.351256037378874,-13.351256037378874,-13.351256037378874,-13.351256037378874,-13.351256037378874,-13.351256037378874,-13.351256037378874,-13.351256037378874,-13.351256037378874,-13.351256037378874,-13.351256037378874,-13.351256037378874,-13.351256037378874,-13.351256037378874,-13.351256037378874,-13.351256037378874,-13.351256037378874,-13.351256037378874,-13.351256037378874,-13.351256037378874,-13.351256037378874,-13.351256037378874,-13.351256037378874,-13.351256037378874,-13.351256037378874,-13.351256037378874,-13.351256037378874,-13.351256037378874,-13.351256037378874,-13.351256037378874,37.409388111524,37.409388111524,37.409388111524,37.409388111524,37.409388111524,37.409388111524,37.409388111524,37.409388111524,37.409388111524,37.409388111524,37.409388111524,37.409388111524,37.409388111524,37.409388111524,37.409388111524,37.409388111524,37.409388111524,37.409388111524,37.409388111524,37.409388111524,37.409388111524,37.409388111524,37.409388111524,37.409388111524,37.409388111524,37.409388111524,37.409388111524,37.409388111524,37.409388111524,37.409388111524,37.409388111524,37.409388111524,37.409388111524],\"z\":[-270.0,-254.57142857142858,-239.14285714285714,-223.71428571428572,-208.28571428571428,-192.85714285714286,-177.42857142857144,-162.0,-146.57142857142856,-131.14285714285714,-115.71428571428572,-100.28571428571428,-84.85714285714286,-69.42857142857142,-54.0,-38.571428571428555,-23.14285714285714,-7.714285714285722,7.714285714285722,23.142857142857167,38.571428571428555,54.0,69.42857142857144,84.85714285714289,100.28571428571428,115.71428571428572,131.14285714285717,-270.0,-254.57142857142858,-239.14285714285714,-223.71428571428572,-208.28571428571428,-192.85714285714286,-177.42857142857144,-162.0,-146.57142857142856,-131.14285714285714,-115.71428571428572,-100.28571428571428,-84.85714285714286,-69.42857142857142,-54.0,-38.571428571428555,-23.14285714285714,-7.714285714285722,7.714285714285722,23.142857142857167,38.571428571428555,54.0,69.42857142857144,84.85714285714289,100.28571428571428,115.71428571428572,131.14285714285717,146.57142857142856,177.42857142857144,239.14285714285717,-270.0,-254.57142857142858,-239.14285714285714,-223.71428571428572,-208.28571428571428,-192.85714285714286,-177.42857142857144,-162.0,-146.57142857142856,-131.14285714285714,-115.71428571428572,-100.28571428571428,-84.85714285714286,-69.42857142857142,-54.0,-38.571428571428555,-23.14285714285714,-7.714285714285722,7.714285714285722,23.142857142857167,38.571428571428555,54.0,69.42857142857144,84.85714285714289,100.28571428571428,115.71428571428572,-270.0,-254.57142857142858,-239.14285714285714,-223.71428571428572,-208.28571428571428,-192.85714285714286,-177.42857142857144,-162.0,-146.57142857142856,-131.14285714285714,-115.71428571428572,-100.28571428571428,-84.85714285714286,-69.42857142857142,-54.0,-38.571428571428555,-23.14285714285714,-7.714285714285722,7.714285714285722,23.142857142857167,38.571428571428555,54.0,69.42857142857144,84.85714285714289,100.28571428571428,-270.0,-254.57142857142858,-239.14285714285714,-223.71428571428572,-208.28571428571428,-192.85714285714286,-177.42857142857144,-162.0,-146.57142857142856,-131.14285714285714,-115.71428571428572,-100.28571428571428,-84.85714285714286,-69.42857142857142,-54.0,-38.571428571428555,-23.14285714285714,-7.714285714285722,7.714285714285722,23.142857142857167,38.571428571428555,54.0,69.42857142857144,84.85714285714289,100.28571428571428,115.71428571428572,131.14285714285717,162.0,-270.0,-254.57142857142858,-239.14285714285714,-223.71428571428572,-208.28571428571428,-192.85714285714286,-177.42857142857144,-162.0,-146.57142857142856,-131.14285714285714,-115.71428571428572,-100.28571428571428,-84.85714285714286,-69.42857142857142,-54.0,-38.571428571428555,-23.14285714285714,-7.714285714285722,7.714285714285722,23.142857142857167,38.571428571428555,54.0,69.42857142857144,84.85714285714289,100.28571428571428,115.71428571428572,131.14285714285717,146.57142857142856,162.0,254.57142857142856,270.0,-270.0,-254.57142857142858,-239.14285714285714,-223.71428571428572,-208.28571428571428,-192.85714285714286,-177.42857142857144,-162.0,-146.57142857142856,-131.14285714285714,-115.71428571428572,-100.28571428571428,-84.85714285714286,-69.42857142857142,-54.0,-38.571428571428555,-23.14285714285714,-7.714285714285722,7.714285714285722,23.142857142857167,54.0,69.42857142857144,84.85714285714289,100.28571428571428,115.71428571428572,131.14285714285717,146.57142857142856,162.0,177.42857142857144,192.8571428571429,208.28571428571428,223.71428571428572,239.14285714285717,254.57142857142856,-270.0,-254.57142857142858,-239.14285714285714,-223.71428571428572,-208.28571428571428,-192.85714285714286,-177.42857142857144,-162.0,-146.57142857142856,-131.14285714285714,-115.71428571428572,-100.28571428571428,-84.85714285714286,-69.42857142857142,-54.0,-38.571428571428555,-23.14285714285714,-7.714285714285722,7.714285714285722,23.142857142857167,38.571428571428555,54.0,69.42857142857144,84.85714285714289,100.28571428571428,115.71428571428572,131.14285714285717,146.57142857142856,162.0,192.8571428571429,239.14285714285717,254.57142857142856,270.0],\"type\":\"scatter3d\"}],                        {\"template\":{\"data\":{\"histogram2dcontour\":[{\"type\":\"histogram2dcontour\",\"colorbar\":{\"outlinewidth\":0,\"ticks\":\"\"},\"colorscale\":[[0.0,\"#0d0887\"],[0.1111111111111111,\"#46039f\"],[0.2222222222222222,\"#7201a8\"],[0.3333333333333333,\"#9c179e\"],[0.4444444444444444,\"#bd3786\"],[0.5555555555555556,\"#d8576b\"],[0.6666666666666666,\"#ed7953\"],[0.7777777777777778,\"#fb9f3a\"],[0.8888888888888888,\"#fdca26\"],[1.0,\"#f0f921\"]]}],\"choropleth\":[{\"type\":\"choropleth\",\"colorbar\":{\"outlinewidth\":0,\"ticks\":\"\"}}],\"histogram2d\":[{\"type\":\"histogram2d\",\"colorbar\":{\"outlinewidth\":0,\"ticks\":\"\"},\"colorscale\":[[0.0,\"#0d0887\"],[0.1111111111111111,\"#46039f\"],[0.2222222222222222,\"#7201a8\"],[0.3333333333333333,\"#9c179e\"],[0.4444444444444444,\"#bd3786\"],[0.5555555555555556,\"#d8576b\"],[0.6666666666666666,\"#ed7953\"],[0.7777777777777778,\"#fb9f3a\"],[0.8888888888888888,\"#fdca26\"],[1.0,\"#f0f921\"]]}],\"heatmap\":[{\"type\":\"heatmap\",\"colorbar\":{\"outlinewidth\":0,\"ticks\":\"\"},\"colorscale\":[[0.0,\"#0d0887\"],[0.1111111111111111,\"#46039f\"],[0.2222222222222222,\"#7201a8\"],[0.3333333333333333,\"#9c179e\"],[0.4444444444444444,\"#bd3786\"],[0.5555555555555556,\"#d8576b\"],[0.6666666666666666,\"#ed7953\"],[0.7777777777777778,\"#fb9f3a\"],[0.8888888888888888,\"#fdca26\"],[1.0,\"#f0f921\"]]}],\"heatmapgl\":[{\"type\":\"heatmapgl\",\"colorbar\":{\"outlinewidth\":0,\"ticks\":\"\"},\"colorscale\":[[0.0,\"#0d0887\"],[0.1111111111111111,\"#46039f\"],[0.2222222222222222,\"#7201a8\"],[0.3333333333333333,\"#9c179e\"],[0.4444444444444444,\"#bd3786\"],[0.5555555555555556,\"#d8576b\"],[0.6666666666666666,\"#ed7953\"],[0.7777777777777778,\"#fb9f3a\"],[0.8888888888888888,\"#fdca26\"],[1.0,\"#f0f921\"]]}],\"contourcarpet\":[{\"type\":\"contourcarpet\",\"colorbar\":{\"outlinewidth\":0,\"ticks\":\"\"}}],\"contour\":[{\"type\":\"contour\",\"colorbar\":{\"outlinewidth\":0,\"ticks\":\"\"},\"colorscale\":[[0.0,\"#0d0887\"],[0.1111111111111111,\"#46039f\"],[0.2222222222222222,\"#7201a8\"],[0.3333333333333333,\"#9c179e\"],[0.4444444444444444,\"#bd3786\"],[0.5555555555555556,\"#d8576b\"],[0.6666666666666666,\"#ed7953\"],[0.7777777777777778,\"#fb9f3a\"],[0.8888888888888888,\"#fdca26\"],[1.0,\"#f0f921\"]]}],\"surface\":[{\"type\":\"surface\",\"colorbar\":{\"outlinewidth\":0,\"ticks\":\"\"},\"colorscale\":[[0.0,\"#0d0887\"],[0.1111111111111111,\"#46039f\"],[0.2222222222222222,\"#7201a8\"],[0.3333333333333333,\"#9c179e\"],[0.4444444444444444,\"#bd3786\"],[0.5555555555555556,\"#d8576b\"],[0.6666666666666666,\"#ed7953\"],[0.7777777777777778,\"#fb9f3a\"],[0.8888888888888888,\"#fdca26\"],[1.0,\"#f0f921\"]]}],\"mesh3d\":[{\"type\":\"mesh3d\",\"colorbar\":{\"outlinewidth\":0,\"ticks\":\"\"}}],\"scatter\":[{\"fillpattern\":{\"fillmode\":\"overlay\",\"size\":10,\"solidity\":0.2},\"type\":\"scatter\"}],\"parcoords\":[{\"type\":\"parcoords\",\"line\":{\"colorbar\":{\"outlinewidth\":0,\"ticks\":\"\"}}}],\"scatterpolargl\":[{\"type\":\"scatterpolargl\",\"marker\":{\"colorbar\":{\"outlinewidth\":0,\"ticks\":\"\"}}}],\"bar\":[{\"error_x\":{\"color\":\"#2a3f5f\"},\"error_y\":{\"color\":\"#2a3f5f\"},\"marker\":{\"line\":{\"color\":\"#E5ECF6\",\"width\":0.5},\"pattern\":{\"fillmode\":\"overlay\",\"size\":10,\"solidity\":0.2}},\"type\":\"bar\"}],\"scattergeo\":[{\"type\":\"scattergeo\",\"marker\":{\"colorbar\":{\"outlinewidth\":0,\"ticks\":\"\"}}}],\"scatterpolar\":[{\"type\":\"scatterpolar\",\"marker\":{\"colorbar\":{\"outlinewidth\":0,\"ticks\":\"\"}}}],\"histogram\":[{\"marker\":{\"pattern\":{\"fillmode\":\"overlay\",\"size\":10,\"solidity\":0.2}},\"type\":\"histogram\"}],\"scattergl\":[{\"type\":\"scattergl\",\"marker\":{\"colorbar\":{\"outlinewidth\":0,\"ticks\":\"\"}}}],\"scatter3d\":[{\"type\":\"scatter3d\",\"line\":{\"colorbar\":{\"outlinewidth\":0,\"ticks\":\"\"}},\"marker\":{\"colorbar\":{\"outlinewidth\":0,\"ticks\":\"\"}}}],\"scattermapbox\":[{\"type\":\"scattermapbox\",\"marker\":{\"colorbar\":{\"outlinewidth\":0,\"ticks\":\"\"}}}],\"scatterternary\":[{\"type\":\"scatterternary\",\"marker\":{\"colorbar\":{\"outlinewidth\":0,\"ticks\":\"\"}}}],\"scattercarpet\":[{\"type\":\"scattercarpet\",\"marker\":{\"colorbar\":{\"outlinewidth\":0,\"ticks\":\"\"}}}],\"carpet\":[{\"aaxis\":{\"endlinecolor\":\"#2a3f5f\",\"gridcolor\":\"white\",\"linecolor\":\"white\",\"minorgridcolor\":\"white\",\"startlinecolor\":\"#2a3f5f\"},\"baxis\":{\"endlinecolor\":\"#2a3f5f\",\"gridcolor\":\"white\",\"linecolor\":\"white\",\"minorgridcolor\":\"white\",\"startlinecolor\":\"#2a3f5f\"},\"type\":\"carpet\"}],\"table\":[{\"cells\":{\"fill\":{\"color\":\"#EBF0F8\"},\"line\":{\"color\":\"white\"}},\"header\":{\"fill\":{\"color\":\"#C8D4E3\"},\"line\":{\"color\":\"white\"}},\"type\":\"table\"}],\"barpolar\":[{\"marker\":{\"line\":{\"color\":\"#E5ECF6\",\"width\":0.5},\"pattern\":{\"fillmode\":\"overlay\",\"size\":10,\"solidity\":0.2}},\"type\":\"barpolar\"}],\"pie\":[{\"automargin\":true,\"type\":\"pie\"}]},\"layout\":{\"autotypenumbers\":\"strict\",\"colorway\":[\"#636efa\",\"#EF553B\",\"#00cc96\",\"#ab63fa\",\"#FFA15A\",\"#19d3f3\",\"#FF6692\",\"#B6E880\",\"#FF97FF\",\"#FECB52\"],\"font\":{\"color\":\"#2a3f5f\"},\"hovermode\":\"closest\",\"hoverlabel\":{\"align\":\"left\"},\"paper_bgcolor\":\"white\",\"plot_bgcolor\":\"#E5ECF6\",\"polar\":{\"bgcolor\":\"#E5ECF6\",\"angularaxis\":{\"gridcolor\":\"white\",\"linecolor\":\"white\",\"ticks\":\"\"},\"radialaxis\":{\"gridcolor\":\"white\",\"linecolor\":\"white\",\"ticks\":\"\"}},\"ternary\":{\"bgcolor\":\"#E5ECF6\",\"aaxis\":{\"gridcolor\":\"white\",\"linecolor\":\"white\",\"ticks\":\"\"},\"baxis\":{\"gridcolor\":\"white\",\"linecolor\":\"white\",\"ticks\":\"\"},\"caxis\":{\"gridcolor\":\"white\",\"linecolor\":\"white\",\"ticks\":\"\"}},\"coloraxis\":{\"colorbar\":{\"outlinewidth\":0,\"ticks\":\"\"}},\"colorscale\":{\"sequential\":[[0.0,\"#0d0887\"],[0.1111111111111111,\"#46039f\"],[0.2222222222222222,\"#7201a8\"],[0.3333333333333333,\"#9c179e\"],[0.4444444444444444,\"#bd3786\"],[0.5555555555555556,\"#d8576b\"],[0.6666666666666666,\"#ed7953\"],[0.7777777777777778,\"#fb9f3a\"],[0.8888888888888888,\"#fdca26\"],[1.0,\"#f0f921\"]],\"sequentialminus\":[[0.0,\"#0d0887\"],[0.1111111111111111,\"#46039f\"],[0.2222222222222222,\"#7201a8\"],[0.3333333333333333,\"#9c179e\"],[0.4444444444444444,\"#bd3786\"],[0.5555555555555556,\"#d8576b\"],[0.6666666666666666,\"#ed7953\"],[0.7777777777777778,\"#fb9f3a\"],[0.8888888888888888,\"#fdca26\"],[1.0,\"#f0f921\"]],\"diverging\":[[0,\"#8e0152\"],[0.1,\"#c51b7d\"],[0.2,\"#de77ae\"],[0.3,\"#f1b6da\"],[0.4,\"#fde0ef\"],[0.5,\"#f7f7f7\"],[0.6,\"#e6f5d0\"],[0.7,\"#b8e186\"],[0.8,\"#7fbc41\"],[0.9,\"#4d9221\"],[1,\"#276419\"]]},\"xaxis\":{\"gridcolor\":\"white\",\"linecolor\":\"white\",\"ticks\":\"\",\"title\":{\"standoff\":15},\"zerolinecolor\":\"white\",\"automargin\":true,\"zerolinewidth\":2},\"yaxis\":{\"gridcolor\":\"white\",\"linecolor\":\"white\",\"ticks\":\"\",\"title\":{\"standoff\":15},\"zerolinecolor\":\"white\",\"automargin\":true,\"zerolinewidth\":2},\"scene\":{\"xaxis\":{\"backgroundcolor\":\"#E5ECF6\",\"gridcolor\":\"white\",\"linecolor\":\"white\",\"showbackground\":true,\"ticks\":\"\",\"zerolinecolor\":\"white\",\"gridwidth\":2},\"yaxis\":{\"backgroundcolor\":\"#E5ECF6\",\"gridcolor\":\"white\",\"linecolor\":\"white\",\"showbackground\":true,\"ticks\":\"\",\"zerolinecolor\":\"white\",\"gridwidth\":2},\"zaxis\":{\"backgroundcolor\":\"#E5ECF6\",\"gridcolor\":\"white\",\"linecolor\":\"white\",\"showbackground\":true,\"ticks\":\"\",\"zerolinecolor\":\"white\",\"gridwidth\":2}},\"shapedefaults\":{\"line\":{\"color\":\"#2a3f5f\"}},\"annotationdefaults\":{\"arrowcolor\":\"#2a3f5f\",\"arrowhead\":0,\"arrowwidth\":1},\"geo\":{\"bgcolor\":\"white\",\"landcolor\":\"#E5ECF6\",\"subunitcolor\":\"white\",\"showland\":true,\"showlakes\":true,\"lakecolor\":\"white\"},\"title\":{\"x\":0.05},\"mapbox\":{\"style\":\"light\"}}},\"coloraxis\":{\"showscale\":true,\"colorbar\":{\"title\":{\"text\":\"log10(det. photons)\"}}},\"scene\":{\"xaxis\":{\"range\":[-100,100]},\"yaxis\":{\"range\":[-100,100]},\"zaxis\":{\"range\":[-300,300]}},\"showlegend\":false,\"height\":700,\"width\":1400},                        {\"responsive\": true}                    ).then(function(){\n",
       "                            \n",
       "var gd = document.getElementById('ceae0969-4203-48bd-8925-079e84f1d792');\n",
       "var x = new MutationObserver(function (mutations, observer) {{\n",
       "        var display = window.getComputedStyle(gd).display;\n",
       "        if (!display || display === 'none') {{\n",
       "            console.log([gd, 'removed!']);\n",
       "            Plotly.purge(gd);\n",
       "            observer.disconnect();\n",
       "        }}\n",
       "}});\n",
       "\n",
       "// Listen for the removal of the full notebook cells\n",
       "var notebookContainer = gd.closest('#notebook-container');\n",
       "if (notebookContainer) {{\n",
       "    x.observe(notebookContainer, {childList: true});\n",
       "}}\n",
       "\n",
       "// Listen for the clearing of the current output cell\n",
       "var outputEl = gd.closest('.output');\n",
       "if (outputEl) {{\n",
       "    x.observe(outputEl, {childList: true});\n",
       "}}\n",
       "\n",
       "                        })                };                });            </script>        </div>"
      ]
     },
     "metadata": {},
     "output_type": "display_data"
    },
    {
     "name": "stdout",
     "output_type": "stream",
     "text": [
      "Event ID\n",
      "0\n",
      "Hits\n",
      "3926\n",
      "Energy in GeV\n",
      "44512.8967928446\n"
     ]
    }
   ],
   "source": [
    "print('Most hits')\n",
    "id_event = max_event\n",
    "hebe.event_plotting(\n",
    "    hebe._det,\n",
    "    hit_set[id_event][2]\n",
    ")\n",
    "print('Event ID')\n",
    "print(id_event)\n",
    "print('Hits')\n",
    "print(sum([len(dom) for dom in hit_set[id_event][2]]))\n",
    "print('Energy in GeV')\n",
    "print(hit_set[id_event][0]['energy'])"
   ]
  },
  {
   "cell_type": "code",
   "execution_count": null,
   "metadata": {},
   "outputs": [],
   "source": []
  }
 ],
 "metadata": {
  "interpreter": {
   "hash": "2f394aca7ca06fed1e6064aef884364492d7cdda3614a461e02e6407fc40ba69"
  },
  "kernelspec": {
   "display_name": "Python 3.9.7 ('base')",
   "language": "python",
   "name": "python3"
  },
  "language_info": {
   "codemirror_mode": {
    "name": "ipython",
    "version": 3
   },
   "file_extension": ".py",
   "mimetype": "text/x-python",
   "name": "python",
   "nbconvert_exporter": "python",
   "pygments_lexer": "ipython3",
   "version": "3.9.7"
  },
  "orig_nbformat": 4
 },
 "nbformat": 4,
 "nbformat_minor": 2
}
