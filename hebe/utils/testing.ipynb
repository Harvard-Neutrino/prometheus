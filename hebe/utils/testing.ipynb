{
 "cells": [
  {
   "cell_type": "code",
   "execution_count": 7,
   "id": "1d8f6b1a",
   "metadata": {},
   "outputs": [],
   "source": [
    "import geo_utils as gu\n",
    "import numpy as np"
   ]
  },
  {
   "cell_type": "code",
   "execution_count": 8,
   "id": "9e3f8d0b",
   "metadata": {},
   "outputs": [
    {
     "data": {
      "text/plain": [
       "5.656854249492381"
      ]
     },
     "execution_count": 8,
     "metadata": {},
     "output_type": "execute_result"
    }
   ],
   "source": [
    "coords = np.array([[1,1,1],\n",
    "                   [2,2,2],\n",
    "                   [3,3,3],\n",
    "                   [4,4,4]\n",
    "                  ])\n",
    "\n",
    "np.linalg.norm(coords[:, :2], axis=1).max()"
   ]
  },
  {
   "cell_type": "code",
   "execution_count": 9,
   "id": "b7e7fbd5",
   "metadata": {},
   "outputs": [
    {
     "data": {
      "text/plain": [
       "5.656854249492381"
      ]
     },
     "execution_count": 9,
     "metadata": {},
     "output_type": "execute_result"
    }
   ],
   "source": [
    "np.sqrt(32)"
   ]
  },
  {
   "cell_type": "code",
   "execution_count": null,
   "id": "64c51d16",
   "metadata": {},
   "outputs": [],
   "source": []
  }
 ],
 "metadata": {
  "kernelspec": {
   "display_name": "Python 3 (ipykernel)",
   "language": "python",
   "name": "python3"
  },
  "language_info": {
   "codemirror_mode": {
    "name": "ipython",
    "version": 3
   },
   "file_extension": ".py",
   "mimetype": "text/x-python",
   "name": "python",
   "nbconvert_exporter": "python",
   "pygments_lexer": "ipython3",
   "version": "3.8.8"
  }
 },
 "nbformat": 4,
 "nbformat_minor": 5
}
